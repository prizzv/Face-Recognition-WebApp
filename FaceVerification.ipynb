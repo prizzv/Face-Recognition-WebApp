{
 "cells": [
  {
   "cell_type": "code",
   "execution_count": 5,
   "metadata": {},
   "outputs": [
    {
     "name": "stdout",
     "output_type": "stream",
     "text": [
      "Requirement already satisfied: tensorflow==2.10.1 in c:\\users\\shashaank\\appdata\\local\\programs\\python\\python310\\lib\\site-packages (2.10.1)\n",
      "Requirement already satisfied: tensorflow-gpu==2.10.0 in c:\\users\\shashaank\\appdata\\roaming\\python\\python310\\site-packages (2.10.0)\n",
      "Requirement already satisfied: opencv-python in c:\\users\\shashaank\\appdata\\local\\programs\\python\\python310\\lib\\site-packages (4.5.5.62)\n",
      "Requirement already satisfied: matplotlib in c:\\users\\shashaank\\appdata\\local\\programs\\python\\python310\\lib\\site-packages (3.5.1)\n",
      "Requirement already satisfied: grpcio<2.0,>=1.24.3 in c:\\users\\shashaank\\appdata\\local\\programs\\python\\python310\\lib\\site-packages (from tensorflow==2.10.1) (1.51.3)\n",
      "Requirement already satisfied: absl-py>=1.0.0 in c:\\users\\shashaank\\appdata\\local\\programs\\python\\python310\\lib\\site-packages (from tensorflow==2.10.1) (1.4.0)\n",
      "Requirement already satisfied: tensorflow-io-gcs-filesystem>=0.23.1 in c:\\users\\shashaank\\appdata\\local\\programs\\python\\python310\\lib\\site-packages (from tensorflow==2.10.1) (0.31.0)\n",
      "Requirement already satisfied: google-pasta>=0.1.1 in c:\\users\\shashaank\\appdata\\local\\programs\\python\\python310\\lib\\site-packages (from tensorflow==2.10.1) (0.2.0)\n",
      "Requirement already satisfied: flatbuffers>=2.0 in c:\\users\\shashaank\\appdata\\local\\programs\\python\\python310\\lib\\site-packages (from tensorflow==2.10.1) (23.3.3)\n",
      "Requirement already satisfied: libclang>=13.0.0 in c:\\users\\shashaank\\appdata\\local\\programs\\python\\python310\\lib\\site-packages (from tensorflow==2.10.1) (16.0.0)\n",
      "Requirement already satisfied: setuptools in c:\\users\\shashaank\\appdata\\local\\programs\\python\\python310\\lib\\site-packages (from tensorflow==2.10.1) (58.1.0)\n",
      "Requirement already satisfied: numpy>=1.20 in c:\\users\\shashaank\\appdata\\local\\programs\\python\\python310\\lib\\site-packages (from tensorflow==2.10.1) (1.22.2)\n",
      "Requirement already satisfied: tensorboard<2.11,>=2.10 in c:\\users\\shashaank\\appdata\\local\\programs\\python\\python310\\lib\\site-packages (from tensorflow==2.10.1) (2.10.1)\n",
      "Requirement already satisfied: h5py>=2.9.0 in c:\\users\\shashaank\\appdata\\local\\programs\\python\\python310\\lib\\site-packages (from tensorflow==2.10.1) (3.8.0)\n",
      "Requirement already satisfied: six>=1.12.0 in c:\\users\\shashaank\\appdata\\local\\programs\\python\\python310\\lib\\site-packages (from tensorflow==2.10.1) (1.16.0)\n",
      "Requirement already satisfied: keras<2.11,>=2.10.0 in c:\\users\\shashaank\\appdata\\local\\programs\\python\\python310\\lib\\site-packages (from tensorflow==2.10.1) (2.10.0)\n",
      "Requirement already satisfied: typing-extensions>=3.6.6 in c:\\users\\shashaank\\appdata\\local\\programs\\python\\python310\\lib\\site-packages (from tensorflow==2.10.1) (4.5.0)\n",
      "Requirement already satisfied: astunparse>=1.6.0 in c:\\users\\shashaank\\appdata\\local\\programs\\python\\python310\\lib\\site-packages (from tensorflow==2.10.1) (1.6.3)\n",
      "Requirement already satisfied: wrapt>=1.11.0 in c:\\users\\shashaank\\appdata\\local\\programs\\python\\python310\\lib\\site-packages (from tensorflow==2.10.1) (1.15.0)\n",
      "Requirement already satisfied: keras-preprocessing>=1.1.1 in c:\\users\\shashaank\\appdata\\local\\programs\\python\\python310\\lib\\site-packages (from tensorflow==2.10.1) (1.1.2)\n",
      "Requirement already satisfied: protobuf<3.20,>=3.9.2 in c:\\users\\shashaank\\appdata\\local\\programs\\python\\python310\\lib\\site-packages (from tensorflow==2.10.1) (3.19.6)\n",
      "Requirement already satisfied: termcolor>=1.1.0 in c:\\users\\shashaank\\appdata\\local\\programs\\python\\python310\\lib\\site-packages (from tensorflow==2.10.1) (2.2.0)\n",
      "Requirement already satisfied: opt-einsum>=2.3.2 in c:\\users\\shashaank\\appdata\\local\\programs\\python\\python310\\lib\\site-packages (from tensorflow==2.10.1) (3.3.0)\n",
      "Requirement already satisfied: tensorflow-estimator<2.11,>=2.10.0 in c:\\users\\shashaank\\appdata\\local\\programs\\python\\python310\\lib\\site-packages (from tensorflow==2.10.1) (2.10.0)\n",
      "Requirement already satisfied: gast<=0.4.0,>=0.2.1 in c:\\users\\shashaank\\appdata\\local\\programs\\python\\python310\\lib\\site-packages (from tensorflow==2.10.1) (0.4.0)\n",
      "Requirement already satisfied: packaging in c:\\users\\shashaank\\appdata\\local\\programs\\python\\python310\\lib\\site-packages (from tensorflow==2.10.1) (21.3)\n",
      "Requirement already satisfied: fonttools>=4.22.0 in c:\\users\\shashaank\\appdata\\local\\programs\\python\\python310\\lib\\site-packages (from matplotlib) (4.29.1)\n",
      "Requirement already satisfied: python-dateutil>=2.7 in c:\\users\\shashaank\\appdata\\local\\programs\\python\\python310\\lib\\site-packages (from matplotlib) (2.8.2)\n",
      "Requirement already satisfied: pyparsing>=2.2.1 in c:\\users\\shashaank\\appdata\\local\\programs\\python\\python310\\lib\\site-packages (from matplotlib) (3.0.7)\n",
      "Requirement already satisfied: pillow>=6.2.0 in c:\\users\\shashaank\\appdata\\local\\programs\\python\\python310\\lib\\site-packages (from matplotlib) (9.0.1)\n",
      "Requirement already satisfied: cycler>=0.10 in c:\\users\\shashaank\\appdata\\local\\programs\\python\\python310\\lib\\site-packages (from matplotlib) (0.11.0)\n",
      "Requirement already satisfied: kiwisolver>=1.0.1 in c:\\users\\shashaank\\appdata\\local\\programs\\python\\python310\\lib\\site-packages (from matplotlib) (1.3.2)\n",
      "Requirement already satisfied: wheel<1.0,>=0.23.0 in c:\\users\\shashaank\\appdata\\local\\programs\\python\\python310\\lib\\site-packages (from astunparse>=1.6.0->tensorflow==2.10.1) (0.40.0)\n",
      "Requirement already satisfied: tensorboard-data-server<0.7.0,>=0.6.0 in c:\\users\\shashaank\\appdata\\local\\programs\\python\\python310\\lib\\site-packages (from tensorboard<2.11,>=2.10->tensorflow==2.10.1) (0.6.1)\n",
      "Requirement already satisfied: requests<3,>=2.21.0 in c:\\users\\shashaank\\appdata\\local\\programs\\python\\python310\\lib\\site-packages (from tensorboard<2.11,>=2.10->tensorflow==2.10.1) (2.27.1)\n",
      "Requirement already satisfied: werkzeug>=1.0.1 in c:\\users\\shashaank\\appdata\\local\\programs\\python\\python310\\lib\\site-packages (from tensorboard<2.11,>=2.10->tensorflow==2.10.1) (2.2.3)\n",
      "Requirement already satisfied: markdown>=2.6.8 in c:\\users\\shashaank\\appdata\\local\\programs\\python\\python310\\lib\\site-packages (from tensorboard<2.11,>=2.10->tensorflow==2.10.1) (3.4.3)\n",
      "Requirement already satisfied: google-auth<3,>=1.6.3 in c:\\users\\shashaank\\appdata\\local\\programs\\python\\python310\\lib\\site-packages (from tensorboard<2.11,>=2.10->tensorflow==2.10.1) (2.16.3)\n",
      "Requirement already satisfied: google-auth-oauthlib<0.5,>=0.4.1 in c:\\users\\shashaank\\appdata\\local\\programs\\python\\python310\\lib\\site-packages (from tensorboard<2.11,>=2.10->tensorflow==2.10.1) (0.4.6)\n",
      "Requirement already satisfied: tensorboard-plugin-wit>=1.6.0 in c:\\users\\shashaank\\appdata\\local\\programs\\python\\python310\\lib\\site-packages (from tensorboard<2.11,>=2.10->tensorflow==2.10.1) (1.8.1)\n",
      "Requirement already satisfied: cachetools<6.0,>=2.0.0 in c:\\users\\shashaank\\appdata\\local\\programs\\python\\python310\\lib\\site-packages (from google-auth<3,>=1.6.3->tensorboard<2.11,>=2.10->tensorflow==2.10.1) (5.3.0)\n",
      "Requirement already satisfied: pyasn1-modules>=0.2.1 in c:\\users\\shashaank\\appdata\\local\\programs\\python\\python310\\lib\\site-packages (from google-auth<3,>=1.6.3->tensorboard<2.11,>=2.10->tensorflow==2.10.1) (0.2.8)\n",
      "Requirement already satisfied: rsa<5,>=3.1.4 in c:\\users\\shashaank\\appdata\\local\\programs\\python\\python310\\lib\\site-packages (from google-auth<3,>=1.6.3->tensorboard<2.11,>=2.10->tensorflow==2.10.1) (4.9)\n",
      "Requirement already satisfied: requests-oauthlib>=0.7.0 in c:\\users\\shashaank\\appdata\\local\\programs\\python\\python310\\lib\\site-packages (from google-auth-oauthlib<0.5,>=0.4.1->tensorboard<2.11,>=2.10->tensorflow==2.10.1) (1.3.1)\n",
      "Requirement already satisfied: urllib3<1.27,>=1.21.1 in c:\\users\\shashaank\\appdata\\local\\programs\\python\\python310\\lib\\site-packages (from requests<3,>=2.21.0->tensorboard<2.11,>=2.10->tensorflow==2.10.1) (1.26.8)\n",
      "Requirement already satisfied: certifi>=2017.4.17 in c:\\users\\shashaank\\appdata\\local\\programs\\python\\python310\\lib\\site-packages (from requests<3,>=2.21.0->tensorboard<2.11,>=2.10->tensorflow==2.10.1) (2021.10.8)\n",
      "Requirement already satisfied: idna<4,>=2.5 in c:\\users\\shashaank\\appdata\\local\\programs\\python\\python310\\lib\\site-packages (from requests<3,>=2.21.0->tensorboard<2.11,>=2.10->tensorflow==2.10.1) (3.3)\n",
      "Requirement already satisfied: charset-normalizer~=2.0.0 in c:\\users\\shashaank\\appdata\\local\\programs\\python\\python310\\lib\\site-packages (from requests<3,>=2.21.0->tensorboard<2.11,>=2.10->tensorflow==2.10.1) (2.0.11)\n",
      "Requirement already satisfied: MarkupSafe>=2.1.1 in c:\\users\\shashaank\\appdata\\local\\programs\\python\\python310\\lib\\site-packages (from werkzeug>=1.0.1->tensorboard<2.11,>=2.10->tensorflow==2.10.1) (2.1.2)\n",
      "Requirement already satisfied: pyasn1<0.5.0,>=0.4.6 in c:\\users\\shashaank\\appdata\\local\\programs\\python\\python310\\lib\\site-packages (from pyasn1-modules>=0.2.1->google-auth<3,>=1.6.3->tensorboard<2.11,>=2.10->tensorflow==2.10.1) (0.4.8)\n",
      "Requirement already satisfied: oauthlib>=3.0.0 in c:\\users\\shashaank\\appdata\\local\\programs\\python\\python310\\lib\\site-packages (from requests-oauthlib>=0.7.0->google-auth-oauthlib<0.5,>=0.4.1->tensorboard<2.11,>=2.10->tensorflow==2.10.1) (3.2.2)\n",
      "Note: you may need to restart the kernel to use updated packages.\n"
     ]
    }
   ],
   "source": [
    "%pip install tensorflow==2.10.1 tensorflow-gpu==2.10.0 opencv-python matplotlib --user"
   ]
  },
  {
   "cell_type": "code",
   "execution_count": 2,
   "metadata": {},
   "outputs": [],
   "source": [
    "#standard imports\n",
    "import cv2\n",
    "import os\n",
    "import numpy as np\n",
    "import random\n",
    "from matplotlib import pyplot as plt\n"
   ]
  },
  {
   "cell_type": "code",
   "execution_count": 3,
   "metadata": {},
   "outputs": [],
   "source": [
    "#tensorflow imports\n",
    "# from tensorflow import keras\n",
    "# from keras.models import Model\n",
    "# from keras.layers import Layer, Conv2D, MaxPooling2D, Dense, Flatten, Input\n",
    "# from tensorflow.python.compat import dtensor as dtensor_api\n",
    "\n",
    "from tensorflow.python.keras.models import Model\n",
    "from tensorflow.python.keras.layers import Layer, Conv2D, MaxPooling2D, Dense, Flatten, Input\n",
    "\n",
    "import tensorflow as tf\n"
   ]
  },
  {
   "cell_type": "code",
   "execution_count": 4,
   "metadata": {},
   "outputs": [
    {
     "name": "stdout",
     "output_type": "stream",
     "text": [
      "[PhysicalDevice(name='/physical_device:GPU:0', device_type='GPU')]\n"
     ]
    }
   ],
   "source": [
    "# Avoid OOM errors by setting GPU Memory Consumption Growth\n",
    "gpus = tf.config.experimental.list_physical_devices('GPU')\n",
    "print(gpus)\n",
    "for gpu in gpus: \n",
    "    tf.config.experimental.set_memory_growth(gpu, True)"
   ]
  },
  {
   "cell_type": "code",
   "execution_count": 5,
   "metadata": {},
   "outputs": [],
   "source": [
    "# Setup paths\n",
    "POS_PATH = os.path.join('data', 'positive')\n",
    "NEG_PATH = os.path.join('data', 'negative')\n",
    "ANC_PATH = os.path.join('data', 'anchor')"
   ]
  },
  {
   "cell_type": "code",
   "execution_count": 84,
   "metadata": {},
   "outputs": [
    {
     "name": "stdout",
     "output_type": "stream",
     "text": [
      "already exists\n"
     ]
    }
   ],
   "source": [
    "try:\n",
    "    os.makedirs(POS_PATH)\n",
    "    os.makedirs(NEG_PATH)\n",
    "    os.makedirs(ANC_PATH)\n",
    "except:\n",
    "    print(\"already exists\")"
   ]
  },
  {
   "cell_type": "code",
   "execution_count": 46,
   "metadata": {},
   "outputs": [],
   "source": [
    "# Uncompress Tar GZ Labelled Faces in the Wild Dataset\n",
    "!tar -xf lfw.tgz"
   ]
  },
  {
   "cell_type": "code",
   "execution_count": 47,
   "metadata": {},
   "outputs": [],
   "source": [
    "# Move LFW Images to the following repository data/negative\n",
    "for directory in os.listdir('lfw'):\n",
    "    for file in os.listdir(os.path.join('lfw', directory)):\n",
    "        EX_PATH = os.path.join('lfw', directory, file)\n",
    "        NEW_PATH = os.path.join(NEG_PATH, file)\n",
    "        os.replace(EX_PATH, NEW_PATH)"
   ]
  },
  {
   "cell_type": "code",
   "execution_count": 136,
   "metadata": {},
   "outputs": [],
   "source": [
    "#Import uuid library to generate unique names for images\n",
    "import uuid"
   ]
  },
  {
   "cell_type": "code",
   "execution_count": 137,
   "metadata": {},
   "outputs": [],
   "source": [
    "video_capture = cv2.VideoCapture(0)\n",
    "while video_capture.isOpened():\n",
    "    ret, video_data = video_capture.read()\n",
    "    # color = cv2.cvtColor(video_data, cv2.COLOR_BGR2GRAY)\n",
    "    \n",
    "    #Cut the image to 250x250px\n",
    "    video_data = video_data[120:120+250,200:200+250,:]\n",
    "\n",
    "    #collect anchor images\n",
    "    if cv2.waitKey(1) == ord(\"a\"):\n",
    "        #Create unique image name\n",
    "        imgName = os.path.join(ANC_PATH, '{}.jpg'.format(uuid.uuid1()))\n",
    "        cv2.imwrite(imgName, video_data)\n",
    "        \n",
    "\n",
    "    #collect positive images\n",
    "    if cv2.waitKey(1) == ord(\"p\"):\n",
    "        #Create unique image name\n",
    "        imgName = os.path.join(POS_PATH, '{}.jpg'.format(uuid.uuid1()))\n",
    "        cv2.imwrite(imgName, video_data)\n",
    "        \n",
    "    # face = face_capture.detectMultiScale(\n",
    "    #     color,\n",
    "    #     scaleFactor=1.1,\n",
    "    #     minNeighbors=3,\n",
    "    #     flags=cv2.CASCADE_SCALE_IMAGE,\n",
    "    #     minSize=(30, 30),\n",
    "    # )\n",
    "\n",
    "    # for(x, y, w, h) in face:\n",
    "    #     cv2.rectangle(video_data, (x, y), (x+w, y+h), (0, 255, 0), 2)\n",
    "\n",
    "    cv2.imshow(\"video_live\", video_data)\n",
    "    if cv2.waitKey(10) == ord(\"q\"):\n",
    "        break\n",
    "video_capture.release()\n",
    "cv2.destroyAllWindows()\n"
   ]
  },
  {
   "cell_type": "markdown",
   "metadata": {},
   "source": [
    "Get Image Directories"
   ]
  },
  {
   "cell_type": "code",
   "execution_count": 6,
   "metadata": {},
   "outputs": [],
   "source": [
    "anchor = tf.data.Dataset.list_files(ANC_PATH+'\\*.jpg').take(300)\n",
    "positive = tf.data.Dataset.list_files(POS_PATH+'\\*.jpg').take(300)\n",
    "negative = tf.data.Dataset.list_files(NEG_PATH+'\\*.jpg').take(300)"
   ]
  },
  {
   "cell_type": "code",
   "execution_count": 9,
   "metadata": {},
   "outputs": [],
   "source": [
    "dir_test = anchor.as_numpy_iterator()\n"
   ]
  },
  {
   "cell_type": "code",
   "execution_count": 10,
   "metadata": {},
   "outputs": [
    {
     "data": {
      "text/plain": [
       "b'data\\\\anchor\\\\8f1739da-cf28-11ed-8d56-244bfe4ff67f.jpg'"
      ]
     },
     "execution_count": 10,
     "metadata": {},
     "output_type": "execute_result"
    }
   ],
   "source": [
    "dir_test.next()"
   ]
  },
  {
   "cell_type": "markdown",
   "metadata": {},
   "source": [
    "Preprocessing\n"
   ]
  },
  {
   "cell_type": "code",
   "execution_count": 11,
   "metadata": {},
   "outputs": [],
   "source": [
    "def preprocess(file_path):\n",
    "    \n",
    "    byte_img = tf.io.read_file(file_path)\n",
    "    # Load in the image \n",
    "    img = tf.io.decode_jpeg(byte_img)\n",
    "    \n",
    "    # Preprocessing steps - resizing the image to be 100x100x3\n",
    "    img = tf.image.resize(img, (100,100))\n",
    "    # Scale image to be between 0 and 1 \n",
    "    img = img / 255.0\n",
    "\n",
    "    return img"
   ]
  },
  {
   "cell_type": "code",
   "execution_count": 12,
   "metadata": {},
   "outputs": [],
   "source": [
    "positives = tf.data.Dataset.zip((anchor, positive, tf.data.Dataset.from_tensor_slices(tf.ones(len(anchor)))))\n",
    "negatives = tf.data.Dataset.zip((anchor, negative, tf.data.Dataset.from_tensor_slices(tf.zeros(len(anchor)))))\n",
    "data = positives.concatenate(negatives)\n"
   ]
  },
  {
   "cell_type": "code",
   "execution_count": 13,
   "metadata": {},
   "outputs": [],
   "source": [
    "samples = data.as_numpy_iterator()\n",
    "example = samples.next()"
   ]
  },
  {
   "cell_type": "code",
   "execution_count": 14,
   "metadata": {},
   "outputs": [
    {
     "data": {
      "text/plain": [
       "(b'data\\\\anchor\\\\85da2d53-cf28-11ed-8fa4-244bfe4ff67f.jpg',\n",
       " b'data\\\\positive\\\\d5e74435-cf28-11ed-8f79-244bfe4ff67f.jpg',\n",
       " 1.0)"
      ]
     },
     "execution_count": 14,
     "metadata": {},
     "output_type": "execute_result"
    }
   ],
   "source": [
    "example"
   ]
  },
  {
   "cell_type": "markdown",
   "metadata": {},
   "source": [
    "Build Train and Test Partition\n"
   ]
  },
  {
   "cell_type": "code",
   "execution_count": 15,
   "metadata": {},
   "outputs": [],
   "source": [
    "def preprocess_twin(input_img, validation_img, label):\n",
    "    return(preprocess(input_img), preprocess(validation_img), label)"
   ]
  },
  {
   "cell_type": "code",
   "execution_count": 16,
   "metadata": {},
   "outputs": [],
   "source": [
    "res = preprocess_twin(*example)\n"
   ]
  },
  {
   "cell_type": "code",
   "execution_count": 17,
   "metadata": {},
   "outputs": [],
   "source": [
    "# Build dataloader pipeline\n",
    "data = data.map(preprocess_twin)\n",
    "data = data.cache()\n",
    "data = data.shuffle(buffer_size=1024)"
   ]
  },
  {
   "cell_type": "code",
   "execution_count": 18,
   "metadata": {},
   "outputs": [],
   "source": [
    "# Training partition\n",
    "train_data = data.take(round(len(data)*.7))\n",
    "train_data = train_data.batch(16)\n",
    "train_data = train_data.prefetch(8)"
   ]
  },
  {
   "cell_type": "code",
   "execution_count": 19,
   "metadata": {},
   "outputs": [],
   "source": [
    "# Testing partition\n",
    "test_data = data.skip(round(len(data)*.7))\n",
    "test_data = test_data.take(round(len(data)*.3))\n",
    "test_data = test_data.batch(16)\n",
    "test_data = test_data.prefetch(8)"
   ]
  },
  {
   "cell_type": "markdown",
   "metadata": {},
   "source": [
    "Build Embedding Layer"
   ]
  },
  {
   "cell_type": "code",
   "execution_count": 20,
   "metadata": {},
   "outputs": [],
   "source": [
    "inp = Input(shape=(100,100,3), name='input_image')\n",
    "c1 = Conv2D(64, (10,10), activation='relu')(inp)\n",
    "m1 = MaxPooling2D(64, (2,2), padding='same')(c1)\n",
    "c2 = Conv2D(128, (7,7), activation='relu')(m1)\n",
    "m2 = MaxPooling2D(64, (2,2), padding='same')(c2)\n",
    "c3 = Conv2D(128, (4,4), activation='relu')(m2)\n",
    "m3 = MaxPooling2D(64, (2,2), padding='same')(c3)\n",
    "c4 = Conv2D(256, (4,4), activation='relu')(m3)\n",
    "f1 = Flatten()(c4)\n",
    "d1 = Dense(4096, activation='sigmoid')(f1)\n",
    "mod = Model(inputs=[inp], outputs=[d1], name='embedding')\n"
   ]
  },
  {
   "cell_type": "code",
   "execution_count": 21,
   "metadata": {},
   "outputs": [
    {
     "data": {
      "text/plain": [
       "<KerasTensor: shape=(None, 91, 91, 64) dtype=float32 (created by layer 'conv2d')>"
      ]
     },
     "execution_count": 21,
     "metadata": {},
     "output_type": "execute_result"
    }
   ],
   "source": [
    "c1"
   ]
  },
  {
   "cell_type": "code",
   "execution_count": 29,
   "metadata": {},
   "outputs": [],
   "source": [
    "def make_embedding(): \n",
    "    inp = Input(shape=(100,100,3), name='input_image')\n",
    "    \n",
    "    # First block\n",
    "    c1 = Conv2D(64, (10,10), activation='relu')(inp)\n",
    "    m1 = MaxPooling2D(64, (2,2), padding='same')(c1)\n",
    "    \n",
    "    # Second block\n",
    "    c2 = Conv2D(128, (7,7), activation='relu')(m1)\n",
    "    m2 = MaxPooling2D(64, (2,2), padding='same')(c2)\n",
    "    \n",
    "    # Third block \n",
    "    c3 = Conv2D(128, (4,4), activation='relu')(m2)\n",
    "    m3 = MaxPooling2D(64, (2,2), padding='same')(c3)\n",
    "    \n",
    "    # Final embedding block\n",
    "    c4 = Conv2D(256, (4,4), activation='relu')(m3)\n",
    "    f1 = Flatten()(c4)\n",
    "    d1 = Dense(4096, activation='sigmoid')(f1)\n",
    "    \n",
    "    \n",
    "    return Model(inputs=[inp], outputs=[d1], name='embedding')"
   ]
  },
  {
   "cell_type": "code",
   "execution_count": 30,
   "metadata": {},
   "outputs": [],
   "source": [
    "embedding = make_embedding()"
   ]
  },
  {
   "cell_type": "code",
   "execution_count": 31,
   "metadata": {},
   "outputs": [
    {
     "name": "stdout",
     "output_type": "stream",
     "text": [
      "Model: \"embedding\"\n",
      "_________________________________________________________________\n",
      "Layer (type)                 Output Shape              Param #   \n",
      "=================================================================\n",
      "input_image (InputLayer)     [(None, 100, 100, 3)]     0         \n",
      "_________________________________________________________________\n",
      "conv2d_4 (Conv2D)            (None, 91, 91, 64)        19264     \n",
      "_________________________________________________________________\n",
      "max_pooling2d_3 (MaxPooling2 (None, 46, 46, 64)        0         \n",
      "_________________________________________________________________\n",
      "conv2d_5 (Conv2D)            (None, 40, 40, 128)       401536    \n",
      "_________________________________________________________________\n",
      "max_pooling2d_4 (MaxPooling2 (None, 20, 20, 128)       0         \n",
      "_________________________________________________________________\n",
      "conv2d_6 (Conv2D)            (None, 17, 17, 128)       262272    \n",
      "_________________________________________________________________\n",
      "max_pooling2d_5 (MaxPooling2 (None, 9, 9, 128)         0         \n",
      "_________________________________________________________________\n",
      "conv2d_7 (Conv2D)            (None, 6, 6, 256)         524544    \n",
      "_________________________________________________________________\n",
      "flatten_1 (Flatten)          (None, 9216)              0         \n",
      "_________________________________________________________________\n",
      "dense_1 (Dense)              (None, 4096)              37752832  \n",
      "=================================================================\n",
      "Total params: 38,960,448\n",
      "Trainable params: 38,960,448\n",
      "Non-trainable params: 0\n",
      "_________________________________________________________________\n"
     ]
    }
   ],
   "source": [
    "embedding.summary()"
   ]
  },
  {
   "cell_type": "markdown",
   "metadata": {},
   "source": [
    "Build Distance Layer"
   ]
  },
  {
   "cell_type": "code",
   "execution_count": 32,
   "metadata": {},
   "outputs": [],
   "source": [
    "# Siamese L1 Distance class\n",
    "class L1Dist(Layer):\n",
    "    \n",
    "    def __init__(self, **kwargs):\n",
    "        super().__init__()\n",
    "\n",
    "    #similarity calculation\n",
    "    def call(self, input_embedding, validation_embedding):\n",
    "        return tf.math.abs(input_embedding - validation_embedding)"
   ]
  },
  {
   "cell_type": "markdown",
   "metadata": {},
   "source": [
    "Make Siamese Model"
   ]
  },
  {
   "cell_type": "code",
   "execution_count": 33,
   "metadata": {},
   "outputs": [],
   "source": [
    "def make_siamese_model(): \n",
    "    \n",
    "    # Anchor image input in the network\n",
    "    input_image = Input(name='input_img', shape=(100,100,3))\n",
    "    \n",
    "    # Validation image in the network \n",
    "    validation_image = Input(name='validation_img', shape=(100,100,3))\n",
    "    \n",
    "    # Combine siamese distance components\n",
    "    siamese_layer = L1Dist()\n",
    "    siamese_layer._name = 'distance'\n",
    "    distances = siamese_layer(embedding(input_image), embedding(validation_image))\n",
    "    \n",
    "    # Classification layer \n",
    "    classifier = Dense(1, activation='sigmoid')(distances)\n",
    "    \n",
    "    return Model(inputs=[input_image, validation_image], outputs=classifier, name='SiameseNetwork')"
   ]
  },
  {
   "cell_type": "code",
   "execution_count": 34,
   "metadata": {},
   "outputs": [],
   "source": [
    "siamese_model = make_siamese_model()"
   ]
  },
  {
   "cell_type": "code",
   "execution_count": 35,
   "metadata": {},
   "outputs": [
    {
     "name": "stdout",
     "output_type": "stream",
     "text": [
      "Model: \"SiameseNetwork\"\n",
      "__________________________________________________________________________________________________\n",
      "Layer (type)                    Output Shape         Param #     Connected to                     \n",
      "==================================================================================================\n",
      "input_img (InputLayer)          [(None, 100, 100, 3) 0                                            \n",
      "__________________________________________________________________________________________________\n",
      "validation_img (InputLayer)     [(None, 100, 100, 3) 0                                            \n",
      "__________________________________________________________________________________________________\n",
      "embedding (Functional)          (None, 4096)         38960448    input_img[0][0]                  \n",
      "                                                                 validation_img[0][0]             \n",
      "__________________________________________________________________________________________________\n",
      "distance (L1Dist)               (None, 4096)         0           embedding[0][0]                  \n",
      "                                                                 embedding[1][0]                  \n",
      "__________________________________________________________________________________________________\n",
      "dense_2 (Dense)                 (None, 1)            4097        distance[0][0]                   \n",
      "==================================================================================================\n",
      "Total params: 38,964,545\n",
      "Trainable params: 38,964,545\n",
      "Non-trainable params: 0\n",
      "__________________________________________________________________________________________________\n"
     ]
    }
   ],
   "source": [
    "siamese_model.summary()"
   ]
  },
  {
   "cell_type": "markdown",
   "metadata": {},
   "source": [
    "Training"
   ]
  },
  {
   "cell_type": "markdown",
   "metadata": {},
   "source": [
    "Setup Loss and Optimizer"
   ]
  },
  {
   "cell_type": "code",
   "execution_count": 29,
   "metadata": {},
   "outputs": [],
   "source": [
    "binary_cross_loss = tf.keras.losses.BinaryCrossentropy()"
   ]
  },
  {
   "cell_type": "code",
   "execution_count": 27,
   "metadata": {},
   "outputs": [
    {
     "data": {
      "text/plain": [
       "<keras.optimizers.optimizer_v2.adam.Adam at 0x242a21798d0>"
      ]
     },
     "execution_count": 27,
     "metadata": {},
     "output_type": "execute_result"
    }
   ],
   "source": [
    "opt = tf.keras.optimizers.Adam(1e-4) # 0.0001\n",
    "opt"
   ]
  },
  {
   "cell_type": "markdown",
   "metadata": {},
   "source": [
    "Establish Checkpoints"
   ]
  },
  {
   "cell_type": "code",
   "execution_count": 28,
   "metadata": {},
   "outputs": [],
   "source": [
    "checkpoint_dir = './training_checkpoints'\n",
    "checkpoint_prefix = os.path.join(checkpoint_dir, 'ckpt')\n",
    "checkpoint = tf.train.Checkpoint(opt=opt, siamese_model=siamese_model)"
   ]
  },
  {
   "cell_type": "code",
   "execution_count": 162,
   "metadata": {},
   "outputs": [],
   "source": [
    "test_batch = train_data.as_numpy_iterator()\n"
   ]
  },
  {
   "cell_type": "code",
   "execution_count": 163,
   "metadata": {},
   "outputs": [],
   "source": [
    "batch_1 = test_batch.next()\n"
   ]
  },
  {
   "cell_type": "code",
   "execution_count": 164,
   "metadata": {},
   "outputs": [
    {
     "data": {
      "text/plain": [
       "2"
      ]
     },
     "execution_count": 164,
     "metadata": {},
     "output_type": "execute_result"
    }
   ],
   "source": [
    "X = batch_1[:2]\n",
    "len(X)\n"
   ]
  },
  {
   "cell_type": "code",
   "execution_count": 165,
   "metadata": {},
   "outputs": [
    {
     "data": {
      "text/plain": [
       "array([1., 1., 0., 1., 0., 1., 0., 0., 1., 1., 0., 1., 1., 0., 1., 1.],\n",
       "      dtype=float32)"
      ]
     },
     "execution_count": 165,
     "metadata": {},
     "output_type": "execute_result"
    }
   ],
   "source": [
    "y = batch_1[2]\n",
    "y\n"
   ]
  },
  {
   "cell_type": "markdown",
   "metadata": {},
   "source": [
    "Build Training Step Function"
   ]
  },
  {
   "cell_type": "code",
   "execution_count": 30,
   "metadata": {},
   "outputs": [],
   "source": [
    "@tf.function\n",
    "def train_step(batch):\n",
    "    \n",
    "    # Record all of our operations \n",
    "    with tf.GradientTape() as tape:     \n",
    "        # Get anchor and positive/negative image\n",
    "        X = batch[:2]\n",
    "        # Get label\n",
    "        y = batch[2]\n",
    "        \n",
    "        # Forward pass\n",
    "        yhat = siamese_model(X, training=True)\n",
    "        # Calculate loss\n",
    "        loss = binary_cross_loss(y, yhat)\n",
    "    print(loss)\n",
    "        \n",
    "    # Calculate gradients\n",
    "    grad = tape.gradient(loss, siamese_model.trainable_variables)\n",
    "    \n",
    "    # Calculate updated weights and apply to siamese model\n",
    "    \n",
    "    opt.apply_gradients(zip(grad, siamese_model.trainable_variables))\n",
    "        \n",
    "    # Return loss\n",
    "    return loss"
   ]
  },
  {
   "cell_type": "markdown",
   "metadata": {},
   "source": [
    "Build Training Loop"
   ]
  },
  {
   "cell_type": "code",
   "execution_count": 32,
   "metadata": {},
   "outputs": [],
   "source": [
    "# Import metric calculations\n",
    "# from tensorflow.keras.metrics import Precision, Recall\n",
    "from tensorflow.python.keras.metrics import Precision, Recall"
   ]
  },
  {
   "cell_type": "code",
   "execution_count": 31,
   "metadata": {},
   "outputs": [],
   "source": [
    "def train(data, EPOCHS):\n",
    "    # Loop through epochs\n",
    "    for epoch in range(1, EPOCHS+1):\n",
    "        print('\\n Epoch {}/{}'.format(epoch, EPOCHS))\n",
    "        progbar = tf.keras.utils.Progbar(len(data))\n",
    "        \n",
    "        # Creating a metric object \n",
    "        r = Recall()\n",
    "        p = Precision()\n",
    "        \n",
    "        # Loop through each batch\n",
    "        for idx, batch in enumerate(data):\n",
    "            # Run train step here\n",
    "            loss = train_step(batch)\n",
    "            yhat = siamese_model.predict(batch[:2])\n",
    "            r.update_state(batch[2], yhat)\n",
    "            p.update_state(batch[2], yhat) \n",
    "            progbar.update(idx+1)\n",
    "        # print(loss.numpy(), r.result().numpy(), p.result().numpy())\n",
    "        \n",
    "        # Save checkpoints\n",
    "        if epoch % 10 == 0: \n",
    "            checkpoint.save(file_prefix=checkpoint_prefix)"
   ]
  },
  {
   "cell_type": "markdown",
   "metadata": {},
   "source": [
    "Train the model"
   ]
  },
  {
   "cell_type": "code",
   "execution_count": 169,
   "metadata": {},
   "outputs": [],
   "source": [
    "EPOCHS = 50"
   ]
  },
  {
   "cell_type": "code",
   "execution_count": 170,
   "metadata": {},
   "outputs": [
    {
     "name": "stdout",
     "output_type": "stream",
     "text": [
      "\n",
      " Epoch 1/50\n",
      "Tensor(\"binary_crossentropy/weighted_loss/value:0\", shape=(), dtype=float32)\n",
      "Tensor(\"binary_crossentropy/weighted_loss/value:0\", shape=(), dtype=float32)\n",
      "26/27 [===========================>..] - ETA: 0sTensor(\"binary_crossentropy/weighted_loss/value:0\", shape=(), dtype=float32)\n",
      "27/27 [==============================] - 16s 558ms/step\n",
      "\n",
      " Epoch 2/50\n",
      "27/27 [==============================] - 15s 544ms/step\n",
      "\n",
      " Epoch 3/50\n",
      "27/27 [==============================] - 15s 553ms/step\n",
      "\n",
      " Epoch 4/50\n",
      "27/27 [==============================] - 15s 544ms/step\n",
      "\n",
      " Epoch 5/50\n",
      "27/27 [==============================] - 15s 548ms/step\n",
      "\n",
      " Epoch 6/50\n",
      "27/27 [==============================] - 15s 541ms/step\n",
      "\n",
      " Epoch 7/50\n",
      "27/27 [==============================] - 15s 543ms/step\n",
      "\n",
      " Epoch 8/50\n",
      "27/27 [==============================] - 15s 540ms/step\n",
      "\n",
      " Epoch 9/50\n",
      "27/27 [==============================] - 15s 540ms/step\n",
      "\n",
      " Epoch 10/50\n",
      "27/27 [==============================] - 15s 539ms/step\n",
      "\n",
      " Epoch 11/50\n",
      "27/27 [==============================] - 15s 538ms/step\n",
      "\n",
      " Epoch 12/50\n",
      "27/27 [==============================] - 15s 537ms/step\n",
      "\n",
      " Epoch 13/50\n",
      "27/27 [==============================] - 14s 531ms/step\n",
      "\n",
      " Epoch 14/50\n",
      "27/27 [==============================] - 15s 544ms/step\n",
      "\n",
      " Epoch 15/50\n",
      "27/27 [==============================] - 15s 554ms/step\n",
      "\n",
      " Epoch 16/50\n",
      "27/27 [==============================] - 14s 530ms/step\n",
      "\n",
      " Epoch 17/50\n",
      "27/27 [==============================] - 14s 525ms/step\n",
      "\n",
      " Epoch 18/50\n",
      "27/27 [==============================] - 14s 518ms/step\n",
      "\n",
      " Epoch 19/50\n",
      "27/27 [==============================] - 14s 525ms/step\n",
      "\n",
      " Epoch 20/50\n",
      "27/27 [==============================] - 14s 525ms/step\n",
      "\n",
      " Epoch 21/50\n",
      "27/27 [==============================] - 14s 528ms/step\n",
      "\n",
      " Epoch 22/50\n",
      "27/27 [==============================] - 14s 536ms/step\n",
      "\n",
      " Epoch 23/50\n",
      "27/27 [==============================] - 14s 525ms/step\n",
      "\n",
      " Epoch 24/50\n",
      "27/27 [==============================] - 15s 546ms/step\n",
      "\n",
      " Epoch 25/50\n",
      "27/27 [==============================] - 15s 555ms/step\n",
      "\n",
      " Epoch 26/50\n",
      "27/27 [==============================] - 14s 534ms/step\n",
      "\n",
      " Epoch 27/50\n",
      "27/27 [==============================] - 14s 517ms/step\n",
      "\n",
      " Epoch 28/50\n",
      "27/27 [==============================] - 14s 517ms/step\n",
      "\n",
      " Epoch 29/50\n",
      "27/27 [==============================] - 15s 540ms/step\n",
      "\n",
      " Epoch 30/50\n",
      "27/27 [==============================] - 15s 556ms/step\n",
      "\n",
      " Epoch 31/50\n",
      "27/27 [==============================] - 15s 552ms/step\n",
      "\n",
      " Epoch 32/50\n",
      "27/27 [==============================] - 14s 531ms/step\n",
      "\n",
      " Epoch 33/50\n",
      "27/27 [==============================] - 15s 546ms/step\n",
      "\n",
      " Epoch 34/50\n",
      "27/27 [==============================] - 14s 527ms/step\n",
      "\n",
      " Epoch 35/50\n",
      "27/27 [==============================] - 14s 525ms/step\n",
      "\n",
      " Epoch 36/50\n",
      "27/27 [==============================] - 15s 554ms/step\n",
      "\n",
      " Epoch 37/50\n",
      "27/27 [==============================] - 15s 536ms/step\n",
      "\n",
      " Epoch 38/50\n",
      "27/27 [==============================] - 14s 523ms/step\n",
      "\n",
      " Epoch 39/50\n",
      "27/27 [==============================] - 15s 538ms/step\n",
      "\n",
      " Epoch 40/50\n",
      "27/27 [==============================] - 14s 531ms/step\n",
      "\n",
      " Epoch 41/50\n",
      "27/27 [==============================] - 15s 539ms/step\n",
      "\n",
      " Epoch 42/50\n",
      "27/27 [==============================] - 14s 526ms/step\n",
      "\n",
      " Epoch 43/50\n",
      "27/27 [==============================] - 14s 523ms/step\n",
      "\n",
      " Epoch 44/50\n",
      "27/27 [==============================] - 14s 532ms/step\n",
      "\n",
      " Epoch 45/50\n",
      "27/27 [==============================] - 14s 527ms/step\n",
      "\n",
      " Epoch 46/50\n",
      "27/27 [==============================] - 14s 522ms/step\n",
      "\n",
      " Epoch 47/50\n",
      "27/27 [==============================] - 14s 526ms/step\n",
      "\n",
      " Epoch 48/50\n",
      "27/27 [==============================] - 14s 524ms/step\n",
      "\n",
      " Epoch 49/50\n",
      "27/27 [==============================] - 14s 533ms/step\n",
      "\n",
      " Epoch 50/50\n",
      "27/27 [==============================] - 14s 533ms/step\n"
     ]
    }
   ],
   "source": [
    "train(train_data, EPOCHS)"
   ]
  },
  {
   "cell_type": "markdown",
   "metadata": {},
   "source": [
    "Evaluate Model\n"
   ]
  },
  {
   "cell_type": "code",
   "execution_count": 39,
   "metadata": {},
   "outputs": [],
   "source": [
    "# Import metric calculations\n",
    "from tensorflow.python.keras.metrics import Precision, Recall"
   ]
  },
  {
   "cell_type": "code",
   "execution_count": 38,
   "metadata": {},
   "outputs": [],
   "source": [
    "# Get a batch of test data\n",
    "test_input, test_val, y_true = test_data.as_numpy_iterator().next()"
   ]
  },
  {
   "cell_type": "code",
   "execution_count": 190,
   "metadata": {},
   "outputs": [
    {
     "data": {
      "text/plain": [
       "array([[9.9999845e-01],\n",
       "       [9.7923596e-08],\n",
       "       [1.0000000e+00],\n",
       "       [9.9999094e-01],\n",
       "       [4.5118201e-11],\n",
       "       [5.1145403e-08],\n",
       "       [9.8851561e-12],\n",
       "       [4.1239252e-11],\n",
       "       [2.7935321e-09],\n",
       "       [2.1054335e-05],\n",
       "       [1.0000000e+00],\n",
       "       [1.0000000e+00],\n",
       "       [9.9995720e-01],\n",
       "       [9.1745003e-09],\n",
       "       [3.6224326e-11],\n",
       "       [1.0000000e+00]], dtype=float32)"
      ]
     },
     "execution_count": 190,
     "metadata": {},
     "output_type": "execute_result"
    }
   ],
   "source": [
    "y_hat = siamese_model.predict([test_input, test_val])\n",
    "y_hat"
   ]
  },
  {
   "cell_type": "code",
   "execution_count": 174,
   "metadata": {},
   "outputs": [
    {
     "data": {
      "text/plain": [
       "[1, 0, 1, 1, 0, 0, 0, 0, 0, 0, 1, 1, 1, 0, 0, 1]"
      ]
     },
     "execution_count": 174,
     "metadata": {},
     "output_type": "execute_result"
    }
   ],
   "source": [
    "# Post processing the results \n",
    "[1 if prediction > 0.5 else 0 for prediction in y_hat ]"
   ]
  },
  {
   "cell_type": "code",
   "execution_count": 175,
   "metadata": {},
   "outputs": [
    {
     "data": {
      "text/plain": [
       "array([1., 0., 1., 1., 0., 0., 0., 0., 0., 0., 1., 1., 1., 0., 0., 1.],\n",
       "      dtype=float32)"
      ]
     },
     "execution_count": 175,
     "metadata": {},
     "output_type": "execute_result"
    }
   ],
   "source": [
    "y_true\n"
   ]
  },
  {
   "cell_type": "code",
   "execution_count": 176,
   "metadata": {},
   "outputs": [
    {
     "data": {
      "text/plain": [
       "1.0"
      ]
     },
     "execution_count": 176,
     "metadata": {},
     "output_type": "execute_result"
    }
   ],
   "source": [
    "# Creating a metric object \n",
    "m = Recall()\n",
    "\n",
    "# Calculating the recall value \n",
    "m.update_state(y_true, y_hat)\n",
    "\n",
    "# Return Recall Result\n",
    "m.result().numpy()"
   ]
  },
  {
   "cell_type": "code",
   "execution_count": 177,
   "metadata": {},
   "outputs": [
    {
     "data": {
      "text/plain": [
       "1.0"
      ]
     },
     "execution_count": 177,
     "metadata": {},
     "output_type": "execute_result"
    }
   ],
   "source": [
    "# Creating a metric object \n",
    "m = Precision()\n",
    "\n",
    "# Calculating the recall value \n",
    "m.update_state(y_true, y_hat)\n",
    "\n",
    "# Return Recall Result\n",
    "m.result().numpy()"
   ]
  },
  {
   "cell_type": "code",
   "execution_count": 178,
   "metadata": {},
   "outputs": [],
   "source": [
    "# r = Recall()\n",
    "# p = Precision()\n",
    "\n",
    "# for test_input, test_val, y_true in test_data.as_numpy_iterator():\n",
    "#     yhat = siamese_model.predict([test_input, test_val])\n",
    "#     r.update_state(y_true, yhat)\n",
    "#     p.update_state(y_true,yhat) \n",
    "\n",
    "# print(r.result().numpy(), p.result().numpy())"
   ]
  },
  {
   "cell_type": "markdown",
   "metadata": {},
   "source": [
    "Viz Results"
   ]
  },
  {
   "cell_type": "code",
   "execution_count": 179,
   "metadata": {},
   "outputs": [
    {
     "data": {
      "image/png": "[encoded data removed]",
      "text/plain": [
       "<Figure size 720x576 with 2 Axes>"
      ]
     },
     "metadata": {
      "needs_background": "light"
     },
     "output_type": "display_data"
    }
   ],
   "source": [
    "# Set plot size \n",
    "plt.figure(figsize=(10,8))\n",
    "\n",
    "index=3\n",
    "\n",
    "# Set first subplot\n",
    "plt.subplot(1,2,1)\n",
    "plt.imshow(test_input[index])\n",
    "\n",
    "# Set second subplot\n",
    "plt.subplot(1,2,2)\n",
    "plt.imshow(test_val[index])\n",
    "\n",
    "# Renders cleanly\n",
    "plt.show()"
   ]
  },
  {
   "cell_type": "markdown",
   "metadata": {},
   "source": [
    "## Save Model"
   ]
  },
  {
   "cell_type": "code",
   "execution_count": 180,
   "metadata": {},
   "outputs": [],
   "source": [
    "from keras.models import load_model"
   ]
  },
  {
   "cell_type": "code",
   "execution_count": 202,
   "metadata": {},
   "outputs": [
    {
     "name": "stdout",
     "output_type": "stream",
     "text": [
      "WARNING:tensorflow:Compiled the loaded model, but the compiled metrics have yet to be built. `model.compile_metrics` will be empty until you train or evaluate the model.\n"
     ]
    }
   ],
   "source": [
    "# Save weights\n",
    "siamese_model.save('siamesemodel.h5')"
   ]
  },
  {
   "cell_type": "code",
   "execution_count": 36,
   "metadata": {},
   "outputs": [],
   "source": [
    "# Reload model\n",
    "model = make_siamese_model()\n",
    "model.load_weights('siamesemodel.h5')\n",
    "\n",
    "# loaded_model = load_model('siamesemodel.h5', custom_objects={'L1Dist': L1Dist})"
   ]
  },
  {
   "cell_type": "code",
   "execution_count": 40,
   "metadata": {},
   "outputs": [
    {
     "data": {
      "text/plain": [
       "array([[1.4485384e-09],\n",
       "       [1.3573846e-10],\n",
       "       [1.2081808e-04],\n",
       "       [1.0000000e+00],\n",
       "       [1.7952003e-09],\n",
       "       [1.0000000e+00],\n",
       "       [4.5259414e-05],\n",
       "       [1.0000000e+00],\n",
       "       [6.7437819e-11],\n",
       "       [4.8749967e-12],\n",
       "       [9.9999988e-01],\n",
       "       [1.0000000e+00],\n",
       "       [1.0000000e+00],\n",
       "       [1.7060021e-08],\n",
       "       [3.2484761e-12],\n",
       "       [1.0000000e+00]], dtype=float32)"
      ]
     },
     "execution_count": 40,
     "metadata": {},
     "output_type": "execute_result"
    }
   ],
   "source": [
    "#Make predictions with reloaded model\n",
    "model.predict([test_input, test_val])"
   ]
  },
  {
   "cell_type": "code",
   "execution_count": 41,
   "metadata": {},
   "outputs": [
    {
     "data": {
      "text/plain": [
       "['002e8b70-cd2e-11ed-8442-244bfe4ff67f.jpg',\n",
       " '003dba66-cd2e-11ed-976b-244bfe4ff67f.jpg',\n",
       " '004cfe04-cd2e-11ed-bc7d-244bfe4ff67f.jpg',\n",
       " '061f602e-cd2e-11ed-bf69-244bfe4ff67f.jpg',\n",
       " '0c060534-cd2e-11ed-9ffb-244bfe4ff67f.jpg',\n",
       " '0df86e79-cd2e-11ed-836e-244bfe4ff67f.jpg',\n",
       " '0dfd78a4-cd2e-11ed-85dd-244bfe4ff67f.jpg',\n",
       " '0e028312-cd2e-11ed-9ac4-244bfe4ff67f.jpg',\n",
       " '0e07b483-cd2e-11ed-8898-244bfe4ff67f.jpg',\n",
       " '0e0cbf02-cd2e-11ed-83bc-244bfe4ff67f.jpg',\n",
       " '0e11c385-cd2e-11ed-a524-244bfe4ff67f.jpg',\n",
       " '0feff9f9-cd2e-11ed-abc2-244bfe4ff67f.jpg',\n",
       " '0ff5043a-cd2e-11ed-862b-244bfe4ff67f.jpg',\n",
       " '0ffa0e78-cd2e-11ed-a57e-244bfe4ff67f.jpg',\n",
       " '7e3dd060-cd2d-11ed-8667-244bfe4ff67f.jpg',\n",
       " '8a668934-cd2d-11ed-b551-244bfe4ff67f.jpg',\n",
       " '8ab2eb14-cd2d-11ed-8783-244bfe4ff67f.jpg',\n",
       " '8ab7f498-cd2d-11ed-a0ef-244bfe4ff67f.jpg',\n",
       " '8ac22fb9-cd2d-11ed-9765-244bfe4ff67f.jpg',\n",
       " '8b372012-cd2d-11ed-baba-244bfe4ff67f.jpg',\n",
       " '8b5095c6-cd2d-11ed-a682-244bfe4ff67f.jpg',\n",
       " '8caf8743-cd2d-11ed-bf98-244bfe4ff67f.jpg',\n",
       " '8cb49180-cd2d-11ed-9a13-244bfe4ff67f.jpg',\n",
       " '8cb99bb7-cd2d-11ed-ab1c-244bfe4ff67f.jpg',\n",
       " '8cbecd17-cd2d-11ed-bb5d-244bfe4ff67f.jpg',\n",
       " '8cf6a787-cd2d-11ed-ad04-244bfe4ff67f.jpg',\n",
       " '8d102f4c-cd2d-11ed-8628-244bfe4ff67f.jpg',\n",
       " '8d15398a-cd2d-11ed-ac61-244bfe4ff67f.jpg',\n",
       " '8d246cd0-cd2d-11ed-9994-244bfe4ff67f.jpg',\n",
       " '8d298821-cd2d-11ed-b3ad-244bfe4ff67f.jpg',\n",
       " '8d480e71-cd2d-11ed-96c1-244bfe4ff67f.jpg',\n",
       " '8d57540f-cd2d-11ed-a964-244bfe4ff67f.jpg',\n",
       " '8d61955e-cd2d-11ed-a55f-244bfe4ff67f.jpg',\n",
       " '8d669f80-cd2d-11ed-aa85-244bfe4ff67f.jpg',\n",
       " '8e69fe98-cd2d-11ed-98a5-244bfe4ff67f.jpg',\n",
       " '8e7e4d5a-cd2d-11ed-a31f-244bfe4ff67f.jpg',\n",
       " '8e97a6d2-cd2d-11ed-81f2-244bfe4ff67f.jpg',\n",
       " 'a87bc913-cd2d-11ed-a3e9-244bfe4ff67f.jpg',\n",
       " 'aa6e4478-cd2d-11ed-b2f5-244bfe4ff67f.jpg',\n",
       " 'aa82aad3-cd2d-11ed-9662-244bfe4ff67f.jpg',\n",
       " 'aa87b78a-cd2d-11ed-be9f-244bfe4ff67f.jpg',\n",
       " 'c6587da2-cd2d-11ed-b6cc-244bfe4ff67f.jpg',\n",
       " 'c840b74d-cd2d-11ed-8c09-244bfe4ff67f.jpg',\n",
       " 'ca42788e-cd2d-11ed-9844-244bfe4ff67f.jpg',\n",
       " 'cbd953be-cd2d-11ed-b077-244bfe4ff67f.jpg',\n",
       " 'cc25a107-cd2d-11ed-8040-244bfe4ff67f.jpg',\n",
       " 'd1973c3d-cd2d-11ed-a8a8-244bfe4ff67f.jpg',\n",
       " 'd1ab8a22-cd2d-11ed-9402-244bfe4ff67f.jpg',\n",
       " 'd389b4eb-cd2d-11ed-912e-244bfe4ff67f.jpg',\n",
       " 'd393d201-cd2d-11ed-9412-244bfe4ff67f.jpg',\n",
       " 'd398e818-cd2d-11ed-8208-244bfe4ff67f.jpg',\n",
       " 'd58b77da-cd2d-11ed-83c3-244bfe4ff67f.jpg',\n",
       " 'd595a3b3-cd2d-11ed-bacf-244bfe4ff67f.jpg',\n",
       " 'd9cbf321-cd2d-11ed-bc5d-244bfe4ff67f.jpg',\n",
       " 'd9e0370f-cd2d-11ed-9f0e-244bfe4ff67f.jpg']"
      ]
     },
     "execution_count": 41,
     "metadata": {},
     "output_type": "execute_result"
    }
   ],
   "source": [
    "os.listdir(os.path.join('application_data', 'verification_images'))"
   ]
  },
  {
   "cell_type": "code",
   "execution_count": 42,
   "metadata": {},
   "outputs": [
    {
     "data": {
      "text/plain": [
       "'application_data\\\\input_image\\\\input_image.jpg'"
      ]
     },
     "execution_count": 42,
     "metadata": {},
     "output_type": "execute_result"
    }
   ],
   "source": [
    "os.path.join('application_data', 'input_image', 'input_image.jpg')\n"
   ]
  },
  {
   "cell_type": "code",
   "execution_count": 43,
   "metadata": {},
   "outputs": [
    {
     "name": "stdout",
     "output_type": "stream",
     "text": [
      "application_data\\verification_images\\002e8b70-cd2e-11ed-8442-244bfe4ff67f.jpg\n",
      "application_data\\verification_images\\003dba66-cd2e-11ed-976b-244bfe4ff67f.jpg\n",
      "application_data\\verification_images\\004cfe04-cd2e-11ed-bc7d-244bfe4ff67f.jpg\n",
      "application_data\\verification_images\\061f602e-cd2e-11ed-bf69-244bfe4ff67f.jpg\n",
      "application_data\\verification_images\\0c060534-cd2e-11ed-9ffb-244bfe4ff67f.jpg\n",
      "application_data\\verification_images\\0df86e79-cd2e-11ed-836e-244bfe4ff67f.jpg\n",
      "application_data\\verification_images\\0dfd78a4-cd2e-11ed-85dd-244bfe4ff67f.jpg\n",
      "application_data\\verification_images\\0e028312-cd2e-11ed-9ac4-244bfe4ff67f.jpg\n",
      "application_data\\verification_images\\0e07b483-cd2e-11ed-8898-244bfe4ff67f.jpg\n",
      "application_data\\verification_images\\0e0cbf02-cd2e-11ed-83bc-244bfe4ff67f.jpg\n",
      "application_data\\verification_images\\0e11c385-cd2e-11ed-a524-244bfe4ff67f.jpg\n",
      "application_data\\verification_images\\0feff9f9-cd2e-11ed-abc2-244bfe4ff67f.jpg\n",
      "application_data\\verification_images\\0ff5043a-cd2e-11ed-862b-244bfe4ff67f.jpg\n",
      "application_data\\verification_images\\0ffa0e78-cd2e-11ed-a57e-244bfe4ff67f.jpg\n",
      "application_data\\verification_images\\7e3dd060-cd2d-11ed-8667-244bfe4ff67f.jpg\n",
      "application_data\\verification_images\\8a668934-cd2d-11ed-b551-244bfe4ff67f.jpg\n",
      "application_data\\verification_images\\8ab2eb14-cd2d-11ed-8783-244bfe4ff67f.jpg\n",
      "application_data\\verification_images\\8ab7f498-cd2d-11ed-a0ef-244bfe4ff67f.jpg\n",
      "application_data\\verification_images\\8ac22fb9-cd2d-11ed-9765-244bfe4ff67f.jpg\n",
      "application_data\\verification_images\\8b372012-cd2d-11ed-baba-244bfe4ff67f.jpg\n",
      "application_data\\verification_images\\8b5095c6-cd2d-11ed-a682-244bfe4ff67f.jpg\n",
      "application_data\\verification_images\\8caf8743-cd2d-11ed-bf98-244bfe4ff67f.jpg\n",
      "application_data\\verification_images\\8cb49180-cd2d-11ed-9a13-244bfe4ff67f.jpg\n",
      "application_data\\verification_images\\8cb99bb7-cd2d-11ed-ab1c-244bfe4ff67f.jpg\n",
      "application_data\\verification_images\\8cbecd17-cd2d-11ed-bb5d-244bfe4ff67f.jpg\n",
      "application_data\\verification_images\\8cf6a787-cd2d-11ed-ad04-244bfe4ff67f.jpg\n",
      "application_data\\verification_images\\8d102f4c-cd2d-11ed-8628-244bfe4ff67f.jpg\n",
      "application_data\\verification_images\\8d15398a-cd2d-11ed-ac61-244bfe4ff67f.jpg\n",
      "application_data\\verification_images\\8d246cd0-cd2d-11ed-9994-244bfe4ff67f.jpg\n",
      "application_data\\verification_images\\8d298821-cd2d-11ed-b3ad-244bfe4ff67f.jpg\n",
      "application_data\\verification_images\\8d480e71-cd2d-11ed-96c1-244bfe4ff67f.jpg\n",
      "application_data\\verification_images\\8d57540f-cd2d-11ed-a964-244bfe4ff67f.jpg\n",
      "application_data\\verification_images\\8d61955e-cd2d-11ed-a55f-244bfe4ff67f.jpg\n",
      "application_data\\verification_images\\8d669f80-cd2d-11ed-aa85-244bfe4ff67f.jpg\n",
      "application_data\\verification_images\\8e69fe98-cd2d-11ed-98a5-244bfe4ff67f.jpg\n",
      "application_data\\verification_images\\8e7e4d5a-cd2d-11ed-a31f-244bfe4ff67f.jpg\n",
      "application_data\\verification_images\\8e97a6d2-cd2d-11ed-81f2-244bfe4ff67f.jpg\n",
      "application_data\\verification_images\\a87bc913-cd2d-11ed-a3e9-244bfe4ff67f.jpg\n",
      "application_data\\verification_images\\aa6e4478-cd2d-11ed-b2f5-244bfe4ff67f.jpg\n",
      "application_data\\verification_images\\aa82aad3-cd2d-11ed-9662-244bfe4ff67f.jpg\n",
      "application_data\\verification_images\\aa87b78a-cd2d-11ed-be9f-244bfe4ff67f.jpg\n",
      "application_data\\verification_images\\c6587da2-cd2d-11ed-b6cc-244bfe4ff67f.jpg\n",
      "application_data\\verification_images\\c840b74d-cd2d-11ed-8c09-244bfe4ff67f.jpg\n",
      "application_data\\verification_images\\ca42788e-cd2d-11ed-9844-244bfe4ff67f.jpg\n",
      "application_data\\verification_images\\cbd953be-cd2d-11ed-b077-244bfe4ff67f.jpg\n",
      "application_data\\verification_images\\cc25a107-cd2d-11ed-8040-244bfe4ff67f.jpg\n",
      "application_data\\verification_images\\d1973c3d-cd2d-11ed-a8a8-244bfe4ff67f.jpg\n",
      "application_data\\verification_images\\d1ab8a22-cd2d-11ed-9402-244bfe4ff67f.jpg\n",
      "application_data\\verification_images\\d389b4eb-cd2d-11ed-912e-244bfe4ff67f.jpg\n",
      "application_data\\verification_images\\d393d201-cd2d-11ed-9412-244bfe4ff67f.jpg\n",
      "application_data\\verification_images\\d398e818-cd2d-11ed-8208-244bfe4ff67f.jpg\n",
      "application_data\\verification_images\\d58b77da-cd2d-11ed-83c3-244bfe4ff67f.jpg\n",
      "application_data\\verification_images\\d595a3b3-cd2d-11ed-bacf-244bfe4ff67f.jpg\n",
      "application_data\\verification_images\\d9cbf321-cd2d-11ed-bc5d-244bfe4ff67f.jpg\n",
      "application_data\\verification_images\\d9e0370f-cd2d-11ed-9f0e-244bfe4ff67f.jpg\n"
     ]
    }
   ],
   "source": [
    "for image in os.listdir(os.path.join('application_data', 'verification_images')):\n",
    "    validation_img = os.path.join('application_data', 'verification_images', image)\n",
    "    print(validation_img)"
   ]
  },
  {
   "cell_type": "code",
   "execution_count": 44,
   "metadata": {},
   "outputs": [],
   "source": [
    "def verify(model, detection_threshold, verification_threshold):\n",
    "    # Build results array\n",
    "    results = []\n",
    "    for image in os.listdir(os.path.join('application_data', 'verification_images')):\n",
    "        input_img = preprocess(os.path.join('application_data', 'input_image', 'input_image.jpg'))\n",
    "        validation_img = preprocess(os.path.join('application_data', 'verification_images', image))\n",
    "        \n",
    "        # Make Predictions \n",
    "        result = model.predict(list(np.expand_dims([input_img, validation_img], axis=1)))\n",
    "        results.append(result)\n",
    "    \n",
    "    # Detection Threshold: Metric above which a prediciton is considered positive \n",
    "    detection = np.sum(np.array(results) > detection_threshold)\n",
    "    \n",
    "    # Verification Threshold: Proportion of positive predictions / total positive samples \n",
    "    verification = detection / len(os.listdir(os.path.join('application_data', 'verification_images'))) \n",
    "    verified = verification > verification_threshold\n",
    "    \n",
    "    return results, verified"
   ]
  },
  {
   "cell_type": "markdown",
   "metadata": {},
   "source": [
    "Verification"
   ]
  },
  {
   "cell_type": "code",
   "execution_count": 46,
   "metadata": {},
   "outputs": [
    {
     "name": "stdout",
     "output_type": "stream",
     "text": [
      "False\n",
      "True\n",
      "False\n",
      "True\n",
      "False\n",
      "False\n",
      "False\n",
      "False\n",
      "False\n",
      "True\n",
      "True\n"
     ]
    }
   ],
   "source": [
    "cap = cv2.VideoCapture(0)\n",
    "while cap.isOpened():\n",
    "    ret, frame = cap.read()\n",
    "    frame = frame[120:120+250,200:200+250, :]\n",
    "    \n",
    "    cv2.imshow('Verification', frame)\n",
    "    \n",
    "    # Verification trigger\n",
    "    if cv2.waitKey(10) & 0xFF == ord('v'):\n",
    "        # Save input image to application_data/input_image folder \n",
    "#         hsv = cv2.cvtColor(frame, cv2.COLOR_BGR2HSV)\n",
    "#         h, s, v = cv2.split(hsv)\n",
    "\n",
    "#         lim = 255 - 10\n",
    "#         v[v > lim] = 255\n",
    "#         v[v <= lim] -= 10\n",
    "        \n",
    "#         final_hsv = cv2.merge((h, s, v))\n",
    "#         img = cv2.cvtColor(final_hsv, cv2.COLOR_HSV2BGR)\n",
    "\n",
    "        cv2.imwrite(os.path.join('application_data', 'input_image', 'input_image.jpg'), frame)\n",
    "        # Run verification\n",
    "        results, verified = verify(model, 0.9, 0.65)\n",
    "        print(verified)\n",
    "    \n",
    "    if cv2.waitKey(10) & 0xFF == ord('q'):\n",
    "        break\n",
    "cap.release()\n",
    "cv2.destroyAllWindows()"
   ]
  },
  {
   "cell_type": "code",
   "execution_count": 51,
   "metadata": {},
   "outputs": [
    {
     "data": {
      "text/plain": [
       "36"
      ]
     },
     "execution_count": 51,
     "metadata": {},
     "output_type": "execute_result"
    }
   ],
   "source": [
    "np.sum(np.squeeze(results) > 0.9)"
   ]
  },
  {
   "cell_type": "code",
   "execution_count": 50,
   "metadata": {},
   "outputs": [
    {
     "data": {
      "text/plain": [
       "0.6545454545454545"
      ]
     },
     "execution_count": 50,
     "metadata": {},
     "output_type": "execute_result"
    }
   ],
   "source": [
    "36/55"
   ]
  },
  {
   "cell_type": "code",
   "execution_count": null,
   "metadata": {},
   "outputs": [],
   "source": []
  }
 ],
 "metadata": {
  "kernelspec": {
   "display_name": "Python 3.10.4 64-bit",
   "language": "python",
   "name": "python3"
  },
  "language_info": {
   "codemirror_mode": {
    "name": "ipython",
    "version": 3
   },
   "file_extension": ".py",
   "mimetype": "text/x-python",
   "name": "python",
   "nbconvert_exporter": "python",
   "pygments_lexer": "ipython3",
   "version": "3.10.4"
  },
  "vscode": {
   "interpreter": {
    "hash": "d7138ed8ba234ede24dd664169075586da4dd4722fe0f2db5d3e26c0d396e504"
   }
  }
 },
 "nbformat": 4,
 "nbformat_minor": 2
}
