{
 "cells": [
  {
   "cell_type": "code",
   "execution_count": 1,
   "metadata": {},
   "outputs": [
    {
     "name": "stdout",
     "output_type": "stream",
     "text": [
      "Collecting tensorflow==2.10.1\n",
      "  Using cached tensorflow-2.10.1-cp310-cp310-win_amd64.whl (455.9 MB)\n",
      "Requirement already satisfied: tensorflow-gpu==2.10.0 in c:\\users\\shashaank\\appdata\\roaming\\python\\python310\\site-packages (2.10.0)\n",
      "Requirement already satisfied: opencv-python in c:\\users\\shashaank\\appdata\\local\\programs\\python\\python310\\lib\\site-packages (4.7.0.72)\n",
      "Requirement already satisfied: matplotlib in c:\\users\\shashaank\\appdata\\local\\programs\\python\\python310\\lib\\site-packages (3.5.1)\n",
      "Requirement already satisfied: astunparse>=1.6.0 in c:\\users\\shashaank\\appdata\\local\\programs\\python\\python310\\lib\\site-packages (from tensorflow==2.10.1) (1.6.3)\n",
      "Requirement already satisfied: absl-py>=1.0.0 in c:\\users\\shashaank\\appdata\\local\\programs\\python\\python310\\lib\\site-packages (from tensorflow==2.10.1) (1.4.0)\n",
      "Requirement already satisfied: packaging in c:\\users\\shashaank\\appdata\\local\\programs\\python\\python310\\lib\\site-packages (from tensorflow==2.10.1) (20.9)\n",
      "Requirement already satisfied: libclang>=13.0.0 in c:\\users\\shashaank\\appdata\\local\\programs\\python\\python310\\lib\\site-packages (from tensorflow==2.10.1) (16.0.0)\n",
      "Requirement already satisfied: h5py>=2.9.0 in c:\\users\\shashaank\\appdata\\local\\programs\\python\\python310\\lib\\site-packages (from tensorflow==2.10.1) (3.8.0)\n",
      "Requirement already satisfied: setuptools in c:\\users\\shashaank\\appdata\\local\\programs\\python\\python310\\lib\\site-packages (from tensorflow==2.10.1) (58.1.0)\n",
      "Requirement already satisfied: grpcio<2.0,>=1.24.3 in c:\\users\\shashaank\\appdata\\local\\programs\\python\\python310\\lib\\site-packages (from tensorflow==2.10.1) (1.51.3)\n",
      "Requirement already satisfied: typing-extensions>=3.6.6 in c:\\users\\shashaank\\appdata\\local\\programs\\python\\python310\\lib\\site-packages (from tensorflow==2.10.1) (4.5.0)\n",
      "Collecting keras<2.11,>=2.10.0\n",
      "  Using cached keras-2.10.0-py2.py3-none-any.whl (1.7 MB)\n",
      "Requirement already satisfied: six>=1.12.0 in c:\\users\\shashaank\\appdata\\local\\programs\\python\\python310\\lib\\site-packages (from tensorflow==2.10.1) (1.16.0)\n",
      "Collecting flatbuffers>=2.0\n",
      "  Using cached flatbuffers-23.3.3-py2.py3-none-any.whl (26 kB)\n",
      "Requirement already satisfied: google-pasta>=0.1.1 in c:\\users\\shashaank\\appdata\\local\\programs\\python\\python310\\lib\\site-packages (from tensorflow==2.10.1) (0.2.0)\n",
      "Requirement already satisfied: numpy>=1.20 in c:\\users\\shashaank\\appdata\\local\\programs\\python\\python310\\lib\\site-packages (from tensorflow==2.10.1) (1.22.2)\n",
      "Requirement already satisfied: tensorflow-io-gcs-filesystem>=0.23.1 in c:\\users\\shashaank\\appdata\\local\\programs\\python\\python310\\lib\\site-packages (from tensorflow==2.10.1) (0.31.0)\n",
      "Requirement already satisfied: keras-preprocessing>=1.1.1 in c:\\users\\shashaank\\appdata\\local\\programs\\python\\python310\\lib\\site-packages (from tensorflow==2.10.1) (1.1.2)\n",
      "Requirement already satisfied: termcolor>=1.1.0 in c:\\users\\shashaank\\appdata\\local\\programs\\python\\python310\\lib\\site-packages (from tensorflow==2.10.1) (2.2.0)\n",
      "Collecting tensorboard<2.11,>=2.10\n",
      "  Using cached tensorboard-2.10.1-py3-none-any.whl (5.9 MB)\n",
      "Requirement already satisfied: gast<=0.4.0,>=0.2.1 in c:\\users\\shashaank\\appdata\\local\\programs\\python\\python310\\lib\\site-packages (from tensorflow==2.10.1) (0.4.0)\n",
      "Collecting protobuf<3.20,>=3.9.2\n",
      "  Using cached protobuf-3.19.6-cp310-cp310-win_amd64.whl (895 kB)\n",
      "Requirement already satisfied: wrapt>=1.11.0 in c:\\users\\shashaank\\appdata\\local\\programs\\python\\python310\\lib\\site-packages (from tensorflow==2.10.1) (1.15.0)\n",
      "Requirement already satisfied: opt-einsum>=2.3.2 in c:\\users\\shashaank\\appdata\\local\\programs\\python\\python310\\lib\\site-packages (from tensorflow==2.10.1) (3.3.0)\n",
      "Collecting tensorflow-estimator<2.11,>=2.10.0\n",
      "  Using cached tensorflow_estimator-2.10.0-py2.py3-none-any.whl (438 kB)\n",
      "Requirement already satisfied: pillow>=6.2.0 in c:\\users\\shashaank\\appdata\\local\\programs\\python\\python310\\lib\\site-packages (from matplotlib) (9.0.1)\n",
      "Requirement already satisfied: cycler>=0.10 in c:\\users\\shashaank\\appdata\\local\\programs\\python\\python310\\lib\\site-packages (from matplotlib) (0.11.0)\n",
      "Requirement already satisfied: fonttools>=4.22.0 in c:\\users\\shashaank\\appdata\\local\\programs\\python\\python310\\lib\\site-packages (from matplotlib) (4.29.1)\n",
      "Requirement already satisfied: python-dateutil>=2.7 in c:\\users\\shashaank\\appdata\\local\\programs\\python\\python310\\lib\\site-packages (from matplotlib) (2.8.2)\n",
      "Requirement already satisfied: kiwisolver>=1.0.1 in c:\\users\\shashaank\\appdata\\local\\programs\\python\\python310\\lib\\site-packages (from matplotlib) (1.3.2)\n",
      "Requirement already satisfied: pyparsing>=2.2.1 in c:\\users\\shashaank\\appdata\\local\\programs\\python\\python310\\lib\\site-packages (from matplotlib) (3.0.7)\n",
      "Requirement already satisfied: wheel<1.0,>=0.23.0 in c:\\users\\shashaank\\appdata\\local\\programs\\python\\python310\\lib\\site-packages (from astunparse>=1.6.0->tensorflow==2.10.1) (0.40.0)\n",
      "Requirement already satisfied: requests<3,>=2.21.0 in c:\\users\\shashaank\\appdata\\local\\programs\\python\\python310\\lib\\site-packages (from tensorboard<2.11,>=2.10->tensorflow==2.10.1) (2.28.2)\n",
      "Requirement already satisfied: google-auth<3,>=1.6.3 in c:\\users\\shashaank\\appdata\\local\\programs\\python\\python310\\lib\\site-packages (from tensorboard<2.11,>=2.10->tensorflow==2.10.1) (2.16.3)\n",
      "Requirement already satisfied: werkzeug>=1.0.1 in c:\\users\\shashaank\\appdata\\local\\programs\\python\\python310\\lib\\site-packages (from tensorboard<2.11,>=2.10->tensorflow==2.10.1) (2.2.3)\n",
      "Requirement already satisfied: tensorboard-data-server<0.7.0,>=0.6.0 in c:\\users\\shashaank\\appdata\\local\\programs\\python\\python310\\lib\\site-packages (from tensorboard<2.11,>=2.10->tensorflow==2.10.1) (0.6.1)\n",
      "Requirement already satisfied: markdown>=2.6.8 in c:\\users\\shashaank\\appdata\\local\\programs\\python\\python310\\lib\\site-packages (from tensorboard<2.11,>=2.10->tensorflow==2.10.1) (3.4.3)\n",
      "Requirement already satisfied: google-auth-oauthlib<0.5,>=0.4.1 in c:\\users\\shashaank\\appdata\\local\\programs\\python\\python310\\lib\\site-packages (from tensorboard<2.11,>=2.10->tensorflow==2.10.1) (0.4.6)\n",
      "Requirement already satisfied: tensorboard-plugin-wit>=1.6.0 in c:\\users\\shashaank\\appdata\\local\\programs\\python\\python310\\lib\\site-packages (from tensorboard<2.11,>=2.10->tensorflow==2.10.1) (1.8.1)\n",
      "Requirement already satisfied: cachetools<6.0,>=2.0.0 in c:\\users\\shashaank\\appdata\\local\\programs\\python\\python310\\lib\\site-packages (from google-auth<3,>=1.6.3->tensorboard<2.11,>=2.10->tensorflow==2.10.1) (5.3.0)\n",
      "Requirement already satisfied: rsa<5,>=3.1.4 in c:\\users\\shashaank\\appdata\\local\\programs\\python\\python310\\lib\\site-packages (from google-auth<3,>=1.6.3->tensorboard<2.11,>=2.10->tensorflow==2.10.1) (4.9)\n",
      "Requirement already satisfied: pyasn1-modules>=0.2.1 in c:\\users\\shashaank\\appdata\\local\\programs\\python\\python310\\lib\\site-packages (from google-auth<3,>=1.6.3->tensorboard<2.11,>=2.10->tensorflow==2.10.1) (0.2.8)\n",
      "Requirement already satisfied: requests-oauthlib>=0.7.0 in c:\\users\\shashaank\\appdata\\local\\programs\\python\\python310\\lib\\site-packages (from google-auth-oauthlib<0.5,>=0.4.1->tensorboard<2.11,>=2.10->tensorflow==2.10.1) (1.3.1)\n",
      "Requirement already satisfied: urllib3<1.27,>=1.21.1 in c:\\users\\shashaank\\appdata\\local\\programs\\python\\python310\\lib\\site-packages (from requests<3,>=2.21.0->tensorboard<2.11,>=2.10->tensorflow==2.10.1) (1.26.15)\n",
      "Requirement already satisfied: charset-normalizer<4,>=2 in c:\\users\\shashaank\\appdata\\local\\programs\\python\\python310\\lib\\site-packages (from requests<3,>=2.21.0->tensorboard<2.11,>=2.10->tensorflow==2.10.1) (2.0.11)\n",
      "Requirement already satisfied: certifi>=2017.4.17 in c:\\users\\shashaank\\appdata\\local\\programs\\python\\python310\\lib\\site-packages (from requests<3,>=2.21.0->tensorboard<2.11,>=2.10->tensorflow==2.10.1) (2021.10.8)\n",
      "Requirement already satisfied: idna<4,>=2.5 in c:\\users\\shashaank\\appdata\\local\\programs\\python\\python310\\lib\\site-packages (from requests<3,>=2.21.0->tensorboard<2.11,>=2.10->tensorflow==2.10.1) (3.3)\n",
      "Requirement already satisfied: MarkupSafe>=2.1.1 in c:\\users\\shashaank\\appdata\\local\\programs\\python\\python310\\lib\\site-packages (from werkzeug>=1.0.1->tensorboard<2.11,>=2.10->tensorflow==2.10.1) (2.1.2)\n",
      "Requirement already satisfied: pyasn1<0.5.0,>=0.4.6 in c:\\users\\shashaank\\appdata\\local\\programs\\python\\python310\\lib\\site-packages (from pyasn1-modules>=0.2.1->google-auth<3,>=1.6.3->tensorboard<2.11,>=2.10->tensorflow==2.10.1) (0.4.8)\n",
      "Requirement already satisfied: oauthlib>=3.0.0 in c:\\users\\shashaank\\appdata\\local\\programs\\python\\python310\\lib\\site-packages (from requests-oauthlib>=0.7.0->google-auth-oauthlib<0.5,>=0.4.1->tensorboard<2.11,>=2.10->tensorflow==2.10.1) (3.2.2)\n",
      "Installing collected packages: keras, flatbuffers, tensorflow-estimator, protobuf, tensorboard, tensorflow\n",
      "Successfully installed flatbuffers-23.3.3 keras-2.10.0 protobuf-3.19.6 tensorboard-2.10.1 tensorflow-2.10.1 tensorflow-estimator-2.10.0\n",
      "Note: you may need to restart the kernel to use updated packages.\n"
     ]
    },
    {
     "name": "stderr",
     "output_type": "stream",
     "text": [
      "  WARNING: The script tensorboard.exe is installed in 'C:\\Users\\Shashaank\\AppData\\Roaming\\Python\\Python310\\Scripts' which is not on PATH.\n",
      "  Consider adding this directory to PATH or, if you prefer to suppress this warning, use --no-warn-script-location.\n",
      "  WARNING: The scripts estimator_ckpt_converter.exe, import_pb_to_tensorboard.exe, saved_model_cli.exe, tensorboard.exe, tf_upgrade_v2.exe, tflite_convert.exe, toco.exe and toco_from_protos.exe are installed in 'C:\\Users\\Shashaank\\AppData\\Roaming\\Python\\Python310\\Scripts' which is not on PATH.\n",
      "  Consider adding this directory to PATH or, if you prefer to suppress this warning, use --no-warn-script-location.\n",
      "ERROR: pip's dependency resolver does not currently take into account all the packages that are installed. This behaviour is the source of the following dependency conflicts.\n",
      "tensorflowjs 3.19.0 requires protobuf==3.20.0, but you have protobuf 3.19.6 which is incompatible.\n",
      "\n",
      "[notice] A new release of pip is available: 23.0.1 -> 23.1\n",
      "[notice] To update, run: python.exe -m pip install --upgrade pip\n"
     ]
    }
   ],
   "source": [
    "%pip install tensorflow==2.10.1 tensorflow-gpu==2.10.0 opencv-python matplotlib --user"
   ]
  },
  {
   "cell_type": "code",
   "execution_count": 1,
   "metadata": {},
   "outputs": [],
   "source": [
    "#standard imports\n",
    "import cv2\n",
    "import os\n",
    "import numpy as np\n",
    "import random\n",
    "from matplotlib import pyplot as plt\n"
   ]
  },
  {
   "cell_type": "code",
   "execution_count": 2,
   "metadata": {},
   "outputs": [],
   "source": [
    "#tensorflow imports\n",
    "# from tensorflow import keras\n",
    "# from keras.models import Model\n",
    "# from keras.layers import Layer, Conv2D, MaxPooling2D, Dense, Flatten, Input\n",
    "# from tensorflow.python.compat import dtensor as dtensor_api\n",
    "\n",
    "from tensorflow.python.keras.models import Model\n",
    "from tensorflow.python.keras.layers import Layer, Conv2D, MaxPooling2D, Dense, Flatten, Input\n",
    "\n",
    "import tensorflow as tf\n"
   ]
  },
  {
   "cell_type": "code",
   "execution_count": 3,
   "metadata": {},
   "outputs": [
    {
     "name": "stdout",
     "output_type": "stream",
     "text": [
      "[PhysicalDevice(name='/physical_device:GPU:0', device_type='GPU')]\n"
     ]
    }
   ],
   "source": [
    "# Avoid OOM errors by setting GPU Memory Consumption Growth\n",
    "gpus = tf.config.experimental.list_physical_devices('GPU')\n",
    "print(gpus)\n",
    "for gpu in gpus: \n",
    "    tf.config.experimental.set_memory_growth(gpu, True)"
   ]
  },
  {
   "cell_type": "code",
   "execution_count": 4,
   "metadata": {},
   "outputs": [],
   "source": [
    "# Setup paths\n",
    "POS_PATH = os.path.join('data', 'positive')\n",
    "NEG_PATH = os.path.join('data', 'negative')\n",
    "ANC_PATH = os.path.join('data', 'anchor')"
   ]
  },
  {
   "cell_type": "code",
   "execution_count": 5,
   "metadata": {},
   "outputs": [
    {
     "name": "stdout",
     "output_type": "stream",
     "text": [
      "already exists\n"
     ]
    }
   ],
   "source": [
    "try:\n",
    "    os.makedirs(POS_PATH)\n",
    "    os.makedirs(NEG_PATH)\n",
    "    os.makedirs(ANC_PATH)\n",
    "except:\n",
    "    print(\"already exists\")"
   ]
  },
  {
   "cell_type": "code",
   "execution_count": 46,
   "metadata": {},
   "outputs": [],
   "source": [
    "# Uncompress Tar GZ Labelled Faces in the Wild Dataset\n",
    "!tar -xf lfw.tgz"
   ]
  },
  {
   "cell_type": "code",
   "execution_count": 47,
   "metadata": {},
   "outputs": [],
   "source": [
    "# Move LFW Images to the following repository data/negative\n",
    "for directory in os.listdir('lfw'):\n",
    "    for file in os.listdir(os.path.join('lfw', directory)):\n",
    "        EX_PATH = os.path.join('lfw', directory, file)\n",
    "        NEW_PATH = os.path.join(NEG_PATH, file)\n",
    "        os.replace(EX_PATH, NEW_PATH)"
   ]
  },
  {
   "cell_type": "code",
   "execution_count": 6,
   "metadata": {},
   "outputs": [],
   "source": [
    "#Import uuid library to generate unique names for images\n",
    "import uuid"
   ]
  },
  {
   "cell_type": "code",
   "execution_count": 13,
   "metadata": {},
   "outputs": [],
   "source": [
    "video_capture = cv2.VideoCapture(0)\n",
    "while video_capture.isOpened():\n",
    "    ret, video_data = video_capture.read()\n",
    "    # color = cv2.cvtColor(video_data, cv2.COLOR_BGR2GRAY)\n",
    "    \n",
    "    #Cut the image to 250x250px\n",
    "    video_data = video_data[120:120+250,200:200+250,:]\n",
    "\n",
    "    #collect anchor images\n",
    "    if cv2.waitKey(1) == ord(\"a\"):\n",
    "        #Create unique image name\n",
    "        imgName = os.path.join(ANC_PATH, '{}.jpg'.format(uuid.uuid1()))\n",
    "        cv2.imwrite(imgName, video_data)\n",
    "        \n",
    "\n",
    "    #collect positive images\n",
    "    if cv2.waitKey(1) == ord(\"p\"):\n",
    "        #Create unique image name\n",
    "        imgName = os.path.join(POS_PATH, '{}.jpg'.format(uuid.uuid1()))\n",
    "        cv2.imwrite(imgName, video_data)\n",
    "        \n",
    "    # face = face_capture.detectMultiScale(\n",
    "    #     color,\n",
    "    #     scaleFactor=1.1,\n",
    "    #     minNeighbors=3,\n",
    "    #     flags=cv2.CASCADE_SCALE_IMAGE,\n",
    "    #     minSize=(30, 30),\n",
    "    # )\n",
    "\n",
    "    # for(x, y, w, h) in face:\n",
    "    #     cv2.rectangle(video_data, (x, y), (x+w, y+h), (0, 255, 0), 2)\n",
    "\n",
    "    cv2.imshow(\"video_live\", video_data)\n",
    "    if cv2.waitKey(10) == ord(\"q\"):\n",
    "        break\n",
    "video_capture.release()\n",
    "cv2.destroyAllWindows()\n"
   ]
  },
  {
   "cell_type": "markdown",
   "metadata": {},
   "source": [
    "Data Augmentation\n"
   ]
  },
  {
   "cell_type": "code",
   "execution_count": 7,
   "metadata": {},
   "outputs": [],
   "source": [
    "def data_aug(img):\n",
    "    data = []\n",
    "    for i in range(9):\n",
    "        img = tf.image.stateless_random_brightness(img, max_delta=0.02, seed=(1,2))\n",
    "        img = tf.image.stateless_random_contrast(img, lower=0.6, upper=1, seed=(1,3))\n",
    "        # img = tf.image.stateless_random_crop(img, size=(20,20,3), seed=(1,2))\n",
    "        img = tf.image.stateless_random_flip_left_right(img, seed=(np.random.randint(100),np.random.randint(100)))\n",
    "        img = tf.image.stateless_random_jpeg_quality(img, min_jpeg_quality=90, max_jpeg_quality=100, seed=(np.random.randint(100),np.random.randint(100)))\n",
    "        img = tf.image.stateless_random_saturation(img, lower=0.9,upper=1, seed=(np.random.randint(100),np.random.randint(100)))\n",
    "        \n",
    "        data.append(img)\n",
    "    \n",
    "    return data"
   ]
  },
  {
   "cell_type": "code",
   "execution_count": 8,
   "metadata": {},
   "outputs": [],
   "source": [
    "import os\n",
    "import uuid"
   ]
  },
  {
   "cell_type": "code",
   "execution_count": 13,
   "metadata": {},
   "outputs": [],
   "source": [
    "#testing for a single image\n",
    "img_path = os.path.join(ANC_PATH, '1a1e09cf-e0be-11ed-9e09-001a7dda7112.jpg')\n",
    "img = cv2.imread(img_path)\n",
    "augmented_images = data_aug(img)\n",
    "\n",
    "for image in augmented_images:\n",
    "    cv2.imwrite(os.path.join(ANC_PATH, '{}.jpg'.format(uuid.uuid1())), image.numpy())"
   ]
  },
  {
   "cell_type": "code",
   "execution_count": 12,
   "metadata": {},
   "outputs": [],
   "source": [
    "for file_name in os.listdir(os.path.join(ANC_PATH)):\n",
    "    img_path = os.path.join(ANC_PATH, file_name)\n",
    "    img = cv2.imread(img_path)\n",
    "    augmented_images = data_aug(img) \n",
    "    \n",
    "    for image in augmented_images:\n",
    "        cv2.imwrite(os.path.join(ANC_PATH, '{}.jpg'.format(uuid.uuid1())), image.numpy())"
   ]
  },
  {
   "cell_type": "markdown",
   "metadata": {},
   "source": [
    "Get Image Directories"
   ]
  },
  {
   "cell_type": "code",
   "execution_count": 14,
   "metadata": {},
   "outputs": [],
   "source": [
    "anchor = tf.data.Dataset.list_files(ANC_PATH+'\\*.jpg').take(3000)\n",
    "positive = tf.data.Dataset.list_files(POS_PATH+'\\*.jpg').take(3000)\n",
    "negative = tf.data.Dataset.list_files(NEG_PATH+'\\*.jpg').take(3000)"
   ]
  },
  {
   "cell_type": "code",
   "execution_count": 15,
   "metadata": {},
   "outputs": [],
   "source": [
    "dir_test = anchor.as_numpy_iterator()\n"
   ]
  },
  {
   "cell_type": "code",
   "execution_count": 16,
   "metadata": {},
   "outputs": [
    {
     "data": {
      "text/plain": [
       "b'data\\\\anchor\\\\58f941fe-e5ec-11ed-be84-001a7dda7112.jpg'"
      ]
     },
     "execution_count": 16,
     "metadata": {},
     "output_type": "execute_result"
    }
   ],
   "source": [
    "dir_test.next()"
   ]
  },
  {
   "cell_type": "markdown",
   "metadata": {},
   "source": [
    "Preprocessing\n"
   ]
  },
  {
   "cell_type": "code",
   "execution_count": 17,
   "metadata": {},
   "outputs": [],
   "source": [
    "def preprocess(file_path):\n",
    "    \n",
    "    byte_img = tf.io.read_file(file_path)\n",
    "    # Load in the image \n",
    "    img = tf.io.decode_jpeg(byte_img)\n",
    "    \n",
    "    # Preprocessing steps - resizing the image to be 100x100x3\n",
    "    img = tf.image.resize(img, (100,100))\n",
    "    # Scale image to be between 0 and 1 \n",
    "    img = img / 255.0\n",
    "\n",
    "    return img"
   ]
  },
  {
   "cell_type": "code",
   "execution_count": 18,
   "metadata": {},
   "outputs": [],
   "source": [
    "positives = tf.data.Dataset.zip((anchor, positive, tf.data.Dataset.from_tensor_slices(tf.ones(len(anchor)))))\n",
    "negatives = tf.data.Dataset.zip((anchor, negative, tf.data.Dataset.from_tensor_slices(tf.zeros(len(anchor)))))\n",
    "data = positives.concatenate(negatives)\n"
   ]
  },
  {
   "cell_type": "code",
   "execution_count": 19,
   "metadata": {},
   "outputs": [],
   "source": [
    "samples = data.as_numpy_iterator()\n",
    "example = samples.next()"
   ]
  },
  {
   "cell_type": "code",
   "execution_count": 20,
   "metadata": {},
   "outputs": [
    {
     "data": {
      "text/plain": [
       "(b'data\\\\anchor\\\\1f70dc78-e0be-11ed-82a7-001a7dda7112.jpg',\n",
       " b'data\\\\positive\\\\31923071-e5ec-11ed-a70d-001a7dda7112.jpg',\n",
       " 1.0)"
      ]
     },
     "execution_count": 20,
     "metadata": {},
     "output_type": "execute_result"
    }
   ],
   "source": [
    "example"
   ]
  },
  {
   "cell_type": "markdown",
   "metadata": {},
   "source": [
    "Build Train and Test Partition\n"
   ]
  },
  {
   "cell_type": "code",
   "execution_count": 21,
   "metadata": {},
   "outputs": [],
   "source": [
    "def preprocess_twin(input_img, validation_img, label):\n",
    "    return(preprocess(input_img), preprocess(validation_img), label)"
   ]
  },
  {
   "cell_type": "code",
   "execution_count": 22,
   "metadata": {},
   "outputs": [],
   "source": [
    "res = preprocess_twin(*example)\n"
   ]
  },
  {
   "cell_type": "code",
   "execution_count": 23,
   "metadata": {},
   "outputs": [],
   "source": [
    "# Build dataloader pipeline\n",
    "data = data.map(preprocess_twin)\n",
    "data = data.cache()\n",
    "# data = data.shuffle(buffer_size=1024)  # old buffer size\n",
    "data = data.shuffle(buffer_size=10000)"
   ]
  },
  {
   "cell_type": "code",
   "execution_count": 24,
   "metadata": {},
   "outputs": [],
   "source": [
    "# Training partition\n",
    "train_data = data.take(round(len(data)*.7))\n",
    "train_data = train_data.batch(16)\n",
    "train_data = train_data.prefetch(8)"
   ]
  },
  {
   "cell_type": "code",
   "execution_count": 25,
   "metadata": {},
   "outputs": [],
   "source": [
    "# Testing partition\n",
    "test_data = data.skip(round(len(data)*.7))\n",
    "test_data = test_data.take(round(len(data)*.3))\n",
    "test_data = test_data.batch(16)\n",
    "test_data = test_data.prefetch(8)"
   ]
  },
  {
   "cell_type": "markdown",
   "metadata": {},
   "source": [
    "Build Embedding Layer"
   ]
  },
  {
   "cell_type": "code",
   "execution_count": 26,
   "metadata": {},
   "outputs": [],
   "source": [
    "inp = Input(shape=(100,100,3), name='input_image')\n",
    "c1 = Conv2D(64, (10,10), activation='relu')(inp)\n",
    "m1 = MaxPooling2D(64, (2,2), padding='same')(c1)\n",
    "c2 = Conv2D(128, (7,7), activation='relu')(m1)\n",
    "m2 = MaxPooling2D(64, (2,2), padding='same')(c2)\n",
    "c3 = Conv2D(128, (4,4), activation='relu')(m2)\n",
    "m3 = MaxPooling2D(64, (2,2), padding='same')(c3)\n",
    "c4 = Conv2D(256, (4,4), activation='relu')(m3)\n",
    "f1 = Flatten()(c4)\n",
    "d1 = Dense(4096, activation='sigmoid')(f1)\n",
    "mod = Model(inputs=[inp], outputs=[d1], name='embedding')\n"
   ]
  },
  {
   "cell_type": "code",
   "execution_count": 27,
   "metadata": {},
   "outputs": [
    {
     "data": {
      "text/plain": [
       "<KerasTensor: shape=(None, 91, 91, 64) dtype=float32 (created by layer 'conv2d')>"
      ]
     },
     "execution_count": 27,
     "metadata": {},
     "output_type": "execute_result"
    }
   ],
   "source": [
    "c1"
   ]
  },
  {
   "cell_type": "code",
   "execution_count": 28,
   "metadata": {},
   "outputs": [],
   "source": [
    "def make_embedding(): \n",
    "    inp = Input(shape=(100,100,3), name='input_image')\n",
    "    \n",
    "    # First block\n",
    "    c1 = Conv2D(64, (10,10), activation='relu')(inp)\n",
    "    m1 = MaxPooling2D(64, (2,2), padding='same')(c1)\n",
    "    \n",
    "    # Second block\n",
    "    c2 = Conv2D(128, (7,7), activation='relu')(m1)\n",
    "    m2 = MaxPooling2D(64, (2,2), padding='same')(c2)\n",
    "    \n",
    "    # Third block \n",
    "    c3 = Conv2D(128, (4,4), activation='relu')(m2)\n",
    "    m3 = MaxPooling2D(64, (2,2), padding='same')(c3)\n",
    "    \n",
    "    # Final embedding block\n",
    "    c4 = Conv2D(256, (4,4), activation='relu')(m3)\n",
    "    f1 = Flatten()(c4)\n",
    "    d1 = Dense(4096, activation='sigmoid')(f1)\n",
    "    \n",
    "    \n",
    "    return Model(inputs=[inp], outputs=[d1], name='embedding')"
   ]
  },
  {
   "cell_type": "code",
   "execution_count": 29,
   "metadata": {},
   "outputs": [],
   "source": [
    "embedding = make_embedding()"
   ]
  },
  {
   "cell_type": "code",
   "execution_count": 30,
   "metadata": {},
   "outputs": [
    {
     "name": "stdout",
     "output_type": "stream",
     "text": [
      "Model: \"embedding\"\n",
      "_________________________________________________________________\n",
      "Layer (type)                 Output Shape              Param #   \n",
      "=================================================================\n",
      "input_image (InputLayer)     [(None, 100, 100, 3)]     0         \n",
      "_________________________________________________________________\n",
      "conv2d_4 (Conv2D)            (None, 91, 91, 64)        19264     \n",
      "_________________________________________________________________\n",
      "max_pooling2d_3 (MaxPooling2 (None, 46, 46, 64)        0         \n",
      "_________________________________________________________________\n",
      "conv2d_5 (Conv2D)            (None, 40, 40, 128)       401536    \n",
      "_________________________________________________________________\n",
      "max_pooling2d_4 (MaxPooling2 (None, 20, 20, 128)       0         \n",
      "_________________________________________________________________\n",
      "conv2d_6 (Conv2D)            (None, 17, 17, 128)       262272    \n",
      "_________________________________________________________________\n",
      "max_pooling2d_5 (MaxPooling2 (None, 9, 9, 128)         0         \n",
      "_________________________________________________________________\n",
      "conv2d_7 (Conv2D)            (None, 6, 6, 256)         524544    \n",
      "_________________________________________________________________\n",
      "flatten_1 (Flatten)          (None, 9216)              0         \n",
      "_________________________________________________________________\n",
      "dense_1 (Dense)              (None, 4096)              37752832  \n",
      "=================================================================\n",
      "Total params: 38,960,448\n",
      "Trainable params: 38,960,448\n",
      "Non-trainable params: 0\n",
      "_________________________________________________________________\n"
     ]
    }
   ],
   "source": [
    "embedding.summary()"
   ]
  },
  {
   "cell_type": "markdown",
   "metadata": {},
   "source": [
    "Build Distance Layer"
   ]
  },
  {
   "cell_type": "code",
   "execution_count": 31,
   "metadata": {},
   "outputs": [],
   "source": [
    "# Siamese L1 Distance class\n",
    "class L1Dist(Layer):\n",
    "    \n",
    "    def __init__(self, **kwargs):\n",
    "        super().__init__()\n",
    "\n",
    "    #similarity calculation\n",
    "    def call(self, input_embedding, validation_embedding):\n",
    "        return tf.math.abs(input_embedding - validation_embedding)"
   ]
  },
  {
   "cell_type": "markdown",
   "metadata": {},
   "source": [
    "Make Siamese Model"
   ]
  },
  {
   "cell_type": "code",
   "execution_count": 32,
   "metadata": {},
   "outputs": [],
   "source": [
    "def make_siamese_model(): \n",
    "    \n",
    "    # Anchor image input in the network\n",
    "    input_image = Input(name='input_img', shape=(100,100,3))\n",
    "    \n",
    "    # Validation image in the network \n",
    "    validation_image = Input(name='validation_img', shape=(100,100,3))\n",
    "    \n",
    "    # Combine siamese distance components\n",
    "    siamese_layer = L1Dist()\n",
    "    siamese_layer._name = 'distance'\n",
    "    distances = siamese_layer(embedding(input_image), embedding(validation_image))\n",
    "    \n",
    "    # Classification layer \n",
    "    classifier = Dense(1, activation='sigmoid')(distances)\n",
    "    \n",
    "    return Model(inputs=[input_image, validation_image], outputs=classifier, name='SiameseNetwork')"
   ]
  },
  {
   "cell_type": "code",
   "execution_count": 33,
   "metadata": {},
   "outputs": [],
   "source": [
    "siamese_model = make_siamese_model()"
   ]
  },
  {
   "cell_type": "code",
   "execution_count": 34,
   "metadata": {},
   "outputs": [
    {
     "name": "stdout",
     "output_type": "stream",
     "text": [
      "Model: \"SiameseNetwork\"\n",
      "__________________________________________________________________________________________________\n",
      "Layer (type)                    Output Shape         Param #     Connected to                     \n",
      "==================================================================================================\n",
      "input_img (InputLayer)          [(None, 100, 100, 3) 0                                            \n",
      "__________________________________________________________________________________________________\n",
      "validation_img (InputLayer)     [(None, 100, 100, 3) 0                                            \n",
      "__________________________________________________________________________________________________\n",
      "embedding (Functional)          (None, 4096)         38960448    input_img[0][0]                  \n",
      "                                                                 validation_img[0][0]             \n",
      "__________________________________________________________________________________________________\n",
      "distance (L1Dist)               (None, 4096)         0           embedding[0][0]                  \n",
      "                                                                 embedding[1][0]                  \n",
      "__________________________________________________________________________________________________\n",
      "dense_2 (Dense)                 (None, 1)            4097        distance[0][0]                   \n",
      "==================================================================================================\n",
      "Total params: 38,964,545\n",
      "Trainable params: 38,964,545\n",
      "Non-trainable params: 0\n",
      "__________________________________________________________________________________________________\n"
     ]
    }
   ],
   "source": [
    "siamese_model.summary()"
   ]
  },
  {
   "cell_type": "markdown",
   "metadata": {},
   "source": [
    "Training"
   ]
  },
  {
   "cell_type": "markdown",
   "metadata": {},
   "source": [
    "Setup Loss and Optimizer"
   ]
  },
  {
   "cell_type": "code",
   "execution_count": 35,
   "metadata": {},
   "outputs": [],
   "source": [
    "binary_cross_loss = tf.keras.losses.BinaryCrossentropy()"
   ]
  },
  {
   "cell_type": "code",
   "execution_count": 36,
   "metadata": {},
   "outputs": [
    {
     "data": {
      "text/plain": [
       "<keras.optimizers.optimizer_v2.adam.Adam at 0x24bb92dc970>"
      ]
     },
     "execution_count": 36,
     "metadata": {},
     "output_type": "execute_result"
    }
   ],
   "source": [
    "opt = tf.keras.optimizers.Adam(1e-4) # 0.0001\n",
    "opt"
   ]
  },
  {
   "cell_type": "markdown",
   "metadata": {},
   "source": [
    "Establish Checkpoints"
   ]
  },
  {
   "cell_type": "code",
   "execution_count": 37,
   "metadata": {},
   "outputs": [],
   "source": [
    "checkpoint_dir = './training_checkpoints'\n",
    "checkpoint_prefix = os.path.join(checkpoint_dir, 'ckpt')\n",
    "checkpoint = tf.train.Checkpoint(opt=opt, siamese_model=siamese_model)"
   ]
  },
  {
   "cell_type": "code",
   "execution_count": 38,
   "metadata": {},
   "outputs": [],
   "source": [
    "test_batch = train_data.as_numpy_iterator()\n"
   ]
  },
  {
   "cell_type": "code",
   "execution_count": 39,
   "metadata": {},
   "outputs": [],
   "source": [
    "batch_1 = test_batch.next()\n"
   ]
  },
  {
   "cell_type": "code",
   "execution_count": 40,
   "metadata": {},
   "outputs": [
    {
     "data": {
      "text/plain": [
       "2"
      ]
     },
     "execution_count": 40,
     "metadata": {},
     "output_type": "execute_result"
    }
   ],
   "source": [
    "X = batch_1[:2]\n",
    "len(X)\n"
   ]
  },
  {
   "cell_type": "code",
   "execution_count": 41,
   "metadata": {},
   "outputs": [
    {
     "data": {
      "text/plain": [
       "array([0., 1., 1., 0., 0., 1., 1., 0., 1., 0., 1., 1., 1., 1., 0., 1.],\n",
       "      dtype=float32)"
      ]
     },
     "execution_count": 41,
     "metadata": {},
     "output_type": "execute_result"
    }
   ],
   "source": [
    "y = batch_1[2]\n",
    "y\n"
   ]
  },
  {
   "cell_type": "markdown",
   "metadata": {},
   "source": [
    "Build Training Step Function"
   ]
  },
  {
   "cell_type": "code",
   "execution_count": 42,
   "metadata": {},
   "outputs": [],
   "source": [
    "@tf.function\n",
    "def train_step(batch):\n",
    "    \n",
    "    # Record all of our operations \n",
    "    with tf.GradientTape() as tape:     \n",
    "        # Get anchor and positive/negative image\n",
    "        X = batch[:2]\n",
    "        # Get label\n",
    "        y = batch[2]\n",
    "        \n",
    "        # Forward pass\n",
    "        yhat = siamese_model(X, training=True)\n",
    "        # Calculate loss\n",
    "        loss = binary_cross_loss(y, yhat)\n",
    "    print(loss)\n",
    "        \n",
    "    # Calculate gradients\n",
    "    grad = tape.gradient(loss, siamese_model.trainable_variables)\n",
    "    \n",
    "    # Calculate updated weights and apply to siamese model\n",
    "    \n",
    "    opt.apply_gradients(zip(grad, siamese_model.trainable_variables))\n",
    "        \n",
    "    # Return loss\n",
    "    return loss"
   ]
  },
  {
   "cell_type": "markdown",
   "metadata": {},
   "source": [
    "Build Training Loop"
   ]
  },
  {
   "cell_type": "code",
   "execution_count": 43,
   "metadata": {},
   "outputs": [],
   "source": [
    "# Import metric calculations\n",
    "# from tensorflow.keras.metrics import Precision, Recall\n",
    "from tensorflow.python.keras.metrics import Precision, Recall"
   ]
  },
  {
   "cell_type": "code",
   "execution_count": 44,
   "metadata": {},
   "outputs": [],
   "source": [
    "def train(data, EPOCHS):\n",
    "    # Loop through epochs\n",
    "    for epoch in range(1, EPOCHS+1):\n",
    "        print('\\n Epoch {}/{}'.format(epoch, EPOCHS))\n",
    "        progbar = tf.keras.utils.Progbar(len(data))\n",
    "        \n",
    "        # Creating a metric object \n",
    "        r = Recall()\n",
    "        p = Precision()\n",
    "        \n",
    "        # Loop through each batch\n",
    "        for idx, batch in enumerate(data):\n",
    "            # Run train step here\n",
    "            loss = train_step(batch)\n",
    "            yhat = siamese_model.predict(batch[:2])\n",
    "            r.update_state(batch[2], yhat)\n",
    "            p.update_state(batch[2], yhat) \n",
    "            progbar.update(idx+1)\n",
    "        print(loss.numpy(), r.result().numpy(), p.result().numpy())\n",
    "        \n",
    "        # Save checkpoints\n",
    "        if epoch % 10 == 0: \n",
    "            checkpoint.save(file_prefix=checkpoint_prefix)"
   ]
  },
  {
   "cell_type": "markdown",
   "metadata": {},
   "source": [
    "Train the model"
   ]
  },
  {
   "cell_type": "code",
   "execution_count": 45,
   "metadata": {},
   "outputs": [],
   "source": [
    "EPOCHS = 50"
   ]
  },
  {
   "cell_type": "code",
   "execution_count": 46,
   "metadata": {},
   "outputs": [
    {
     "name": "stdout",
     "output_type": "stream",
     "text": [
      "\n",
      " Epoch 1/50\n",
      "Tensor(\"binary_crossentropy/weighted_loss/value:0\", shape=(), dtype=float32)\n",
      "Tensor(\"binary_crossentropy/weighted_loss/value:0\", shape=(), dtype=float32)\n",
      "262/263 [============================>.] - ETA: 0sTensor(\"binary_crossentropy/weighted_loss/value:0\", shape=(), dtype=float32)\n",
      "263/263 [==============================] - 154s 494ms/step\n",
      "0.063033484 0.9476689 0.996997\n",
      "\n",
      " Epoch 2/50\n",
      "263/263 [==============================] - 126s 479ms/step\n",
      "0.030571818 0.9752852 0.99854016\n",
      "\n",
      " Epoch 3/50\n",
      "263/263 [==============================] - 121s 458ms/step\n",
      "5.4613133e-06 0.98695654 0.9960995\n",
      "\n",
      " Epoch 4/50\n",
      "263/263 [==============================] - 120s 458ms/step\n",
      "0.021176739 0.9871734 0.9971209\n",
      "\n",
      " Epoch 5/50\n",
      "263/263 [==============================] - 119s 452ms/step\n",
      "0.10703741 0.99201876 0.99669814\n",
      "\n",
      " Epoch 6/50\n",
      "263/263 [==============================] - 120s 454ms/step\n",
      "0.23698479 0.98565966 0.99421406\n",
      "\n",
      " Epoch 7/50\n",
      "263/263 [==============================] - 120s 456ms/step\n",
      "0.03012711 0.99382424 0.998568\n",
      "\n",
      " Epoch 8/50\n",
      "263/263 [==============================] - 120s 456ms/step\n",
      "0.040223394 0.99812293 0.9976548\n",
      "\n",
      " Epoch 9/50\n",
      "263/263 [==============================] - 124s 472ms/step\n",
      "0.0038157112 0.99714285 0.9980934\n",
      "\n",
      " Epoch 10/50\n",
      "263/263 [==============================] - 122s 465ms/step\n",
      "4.6277997e-05 0.9966809 0.99810064\n",
      "\n",
      " Epoch 11/50\n",
      "263/263 [==============================] - 119s 454ms/step\n",
      "0.0027946392 0.9995236 0.9985721\n",
      "\n",
      " Epoch 12/50\n",
      "263/263 [==============================] - 117s 443ms/step\n",
      "0.0013511962 0.9961033 0.9965887\n",
      "\n",
      " Epoch 13/50\n",
      "263/263 [==============================] - 122s 463ms/step\n",
      "-0.0 0.9990526 0.9990526\n",
      "\n",
      " Epoch 14/50\n",
      "263/263 [==============================] - 125s 474ms/step\n",
      "0.0012348582 0.99856734 0.9990444\n",
      "\n",
      " Epoch 15/50\n",
      "263/263 [==============================] - 122s 464ms/step\n",
      "6.2686406e-05 0.9980898 0.9985666\n",
      "\n",
      " Epoch 16/50\n",
      "263/263 [==============================] - 118s 447ms/step\n",
      "0.00044902356 0.9990557 0.99952763\n",
      "\n",
      " Epoch 17/50\n",
      "263/263 [==============================] - 118s 448ms/step\n",
      "0.005087275 1.0 1.0\n",
      "\n",
      " Epoch 18/50\n",
      "263/263 [==============================] - 125s 477ms/step\n",
      "0.00012750074 0.9966265 0.9985514\n",
      "\n",
      " Epoch 19/50\n",
      "263/263 [==============================] - 123s 466ms/step\n",
      "0.18116808 0.9961704 0.9904807\n",
      "\n",
      " Epoch 20/50\n",
      "263/263 [==============================] - 117s 446ms/step\n",
      "0.01910789 0.9962121 0.9943289\n",
      "\n",
      " Epoch 21/50\n",
      "263/263 [==============================] - 130s 496ms/step\n",
      "3.2782597e-07 1.0 1.0\n",
      "\n",
      " Epoch 22/50\n",
      "263/263 [==============================] - 124s 472ms/step\n",
      "5.379435e-06 0.9990458 0.9961941\n",
      "\n",
      " Epoch 23/50\n",
      "263/263 [==============================] - 121s 458ms/step\n",
      "0.018157598 0.99761564 0.9980916\n",
      "\n",
      " Epoch 24/50\n",
      "263/263 [==============================] - 124s 470ms/step\n",
      "0.02225293 0.99906456 0.9985975\n",
      "\n",
      " Epoch 25/50\n",
      "263/263 [==============================] - 128s 486ms/step\n",
      "0.004302543 1.0 0.9995261\n",
      "\n",
      " Epoch 26/50\n",
      "263/263 [==============================] - 121s 461ms/step\n",
      "0.0018304895 1.0 1.0\n",
      "\n",
      " Epoch 27/50\n",
      "263/263 [==============================] - 120s 458ms/step\n",
      "0.00047403184 1.0 0.99952245\n",
      "\n",
      " Epoch 28/50\n",
      "263/263 [==============================] - 128s 486ms/step\n",
      "-0.0 1.0 0.99952245\n",
      "\n",
      " Epoch 29/50\n",
      "263/263 [==============================] - 127s 482ms/step\n",
      "0.0017465282 1.0 1.0\n",
      "\n",
      " Epoch 30/50\n",
      "263/263 [==============================] - 121s 461ms/step\n",
      "0.0014328059 1.0 0.99952036\n",
      "\n",
      " Epoch 31/50\n",
      "263/263 [==============================] - 127s 483ms/step\n",
      "-0.0 1.0 0.9995174\n",
      "\n",
      " Epoch 32/50\n",
      "263/263 [==============================] - 126s 478ms/step\n",
      "3.3507866e-05 1.0 1.0\n",
      "\n",
      " Epoch 33/50\n",
      "263/263 [==============================] - 122s 462ms/step\n",
      "0.009002884 0.99237007 0.99664754\n",
      "\n",
      " Epoch 34/50\n",
      "263/263 [==============================] - 123s 468ms/step\n",
      "0.0029589685 1.0 0.9976404\n",
      "\n",
      " Epoch 35/50\n",
      "263/263 [==============================] - 129s 492ms/step\n",
      "0.017763386 0.99382716 0.9849412\n",
      "\n",
      " Epoch 36/50\n",
      "263/263 [==============================] - 128s 485ms/step\n",
      "0.0017393028 0.9821008 0.99856323\n",
      "\n",
      " Epoch 37/50\n",
      "263/263 [==============================] - 124s 471ms/step\n",
      "0.023707995 0.9990628 0.9990628\n",
      "\n",
      " Epoch 38/50\n",
      "263/263 [==============================] - 125s 476ms/step\n",
      "1.7554567e-05 1.0 1.0\n",
      "\n",
      " Epoch 39/50\n",
      "263/263 [==============================] - 131s 496ms/step\n",
      "9.484942e-06 1.0 1.0\n",
      "\n",
      " Epoch 40/50\n",
      "263/263 [==============================] - 126s 478ms/step\n",
      "4.6582183e-05 1.0 1.0\n",
      "\n",
      " Epoch 41/50\n",
      "263/263 [==============================] - 123s 468ms/step\n",
      "2.2649963e-06 1.0 1.0\n",
      "\n",
      " Epoch 42/50\n",
      "263/263 [==============================] - 121s 462ms/step\n",
      "1.6689355e-06 0.9995192 0.9980797\n",
      "\n",
      " Epoch 43/50\n",
      "263/263 [==============================] - 122s 464ms/step\n",
      "0.0105053205 0.9990526 0.99622107\n",
      "\n",
      " Epoch 44/50\n",
      "263/263 [==============================] - 128s 488ms/step\n",
      "3.0453179e-05 1.0 0.99952763\n",
      "\n",
      " Epoch 45/50\n",
      "263/263 [==============================] - 123s 467ms/step\n",
      "-0.0 1.0 0.9995265\n",
      "\n",
      " Epoch 46/50\n",
      "263/263 [==============================] - 121s 460ms/step\n",
      "1.552784e-05 1.0 0.99951667\n",
      "\n",
      " Epoch 47/50\n",
      "263/263 [==============================] - 121s 462ms/step\n",
      "0.0006052527 1.0 0.99952585\n",
      "\n",
      " Epoch 48/50\n",
      "263/263 [==============================] - 121s 462ms/step\n",
      "0.004208975 1.0 0.9995261\n",
      "\n",
      " Epoch 49/50\n",
      "263/263 [==============================] - 122s 462ms/step\n",
      "9.685756e-08 1.0 0.9995283\n",
      "\n",
      " Epoch 50/50\n",
      "263/263 [==============================] - 122s 464ms/step\n",
      "1.1175876e-07 1.0 1.0\n"
     ]
    }
   ],
   "source": [
    "train(train_data, EPOCHS)"
   ]
  },
  {
   "cell_type": "markdown",
   "metadata": {},
   "source": [
    "Evaluate Model\n"
   ]
  },
  {
   "cell_type": "code",
   "execution_count": 47,
   "metadata": {},
   "outputs": [],
   "source": [
    "# Import metric calculations\n",
    "from tensorflow.python.keras.metrics import Precision, Recall"
   ]
  },
  {
   "cell_type": "code",
   "execution_count": 48,
   "metadata": {},
   "outputs": [],
   "source": [
    "# Get a batch of test data\n",
    "test_input, test_val, y_true = test_data.as_numpy_iterator().next()"
   ]
  },
  {
   "cell_type": "code",
   "execution_count": 49,
   "metadata": {},
   "outputs": [
    {
     "data": {
      "text/plain": [
       "array([[1.0316496e-10],\n",
       "       [1.0000000e+00],\n",
       "       [9.9998176e-01],\n",
       "       [3.2142181e-10],\n",
       "       [4.3368839e-10],\n",
       "       [1.0000000e+00],\n",
       "       [1.0000000e+00],\n",
       "       [9.9999964e-01],\n",
       "       [2.1166986e-10],\n",
       "       [1.0000000e+00],\n",
       "       [1.8580365e-11],\n",
       "       [1.0000000e+00],\n",
       "       [1.0000000e+00],\n",
       "       [1.0000000e+00],\n",
       "       [1.0000000e+00],\n",
       "       [4.0003878e-10]], dtype=float32)"
      ]
     },
     "execution_count": 49,
     "metadata": {},
     "output_type": "execute_result"
    }
   ],
   "source": [
    "y_hat = siamese_model.predict([test_input, test_val])\n",
    "y_hat"
   ]
  },
  {
   "cell_type": "code",
   "execution_count": 50,
   "metadata": {},
   "outputs": [
    {
     "data": {
      "text/plain": [
       "[0, 1, 1, 0, 0, 1, 1, 1, 0, 1, 0, 1, 1, 1, 1, 0]"
      ]
     },
     "execution_count": 50,
     "metadata": {},
     "output_type": "execute_result"
    }
   ],
   "source": [
    "# Post processing the results \n",
    "[1 if prediction > 0.5 else 0 for prediction in y_hat ]"
   ]
  },
  {
   "cell_type": "code",
   "execution_count": 51,
   "metadata": {},
   "outputs": [
    {
     "data": {
      "text/plain": [
       "array([0., 1., 1., 0., 0., 1., 1., 1., 0., 1., 0., 1., 1., 1., 1., 0.],\n",
       "      dtype=float32)"
      ]
     },
     "execution_count": 51,
     "metadata": {},
     "output_type": "execute_result"
    }
   ],
   "source": [
    "y_true\n"
   ]
  },
  {
   "cell_type": "code",
   "execution_count": 52,
   "metadata": {},
   "outputs": [
    {
     "data": {
      "text/plain": [
       "1.0"
      ]
     },
     "execution_count": 52,
     "metadata": {},
     "output_type": "execute_result"
    }
   ],
   "source": [
    "# Creating a metric object \n",
    "m = Recall()\n",
    "\n",
    "# Calculating the recall value \n",
    "m.update_state(y_true, y_hat)\n",
    "\n",
    "# Return Recall Result\n",
    "m.result().numpy()"
   ]
  },
  {
   "cell_type": "code",
   "execution_count": 53,
   "metadata": {},
   "outputs": [
    {
     "data": {
      "text/plain": [
       "1.0"
      ]
     },
     "execution_count": 53,
     "metadata": {},
     "output_type": "execute_result"
    }
   ],
   "source": [
    "# Creating a metric object \n",
    "m = Precision()\n",
    "\n",
    "# Calculating the recall value \n",
    "m.update_state(y_true, y_hat)\n",
    "\n",
    "# Return Recall Result\n",
    "m.result().numpy()"
   ]
  },
  {
   "cell_type": "code",
   "execution_count": 151,
   "metadata": {},
   "outputs": [],
   "source": [
    "# r = Recall()\n",
    "# p = Precision()\n",
    "\n",
    "# for test_input, test_val, y_true in test_data.as_numpy_iterator():\n",
    "#     yhat = siamese_model.predict([test_input, test_val])\n",
    "#     r.update_state(y_true, yhat)\n",
    "#     p.update_state(y_true,yhat) \n",
    "\n",
    "# print(r.result().numpy(), p.result().numpy())"
   ]
  },
  {
   "cell_type": "markdown",
   "metadata": {},
   "source": [
    "Viz Results"
   ]
  },
  {
   "cell_type": "code",
   "execution_count": 55,
   "metadata": {},
   "outputs": [
    {
     "data": {
      "image/png": "[encoded data removed]",
      "text/plain": [
       "<Figure size 1000x800 with 2 Axes>"
      ]
     },
     "metadata": {},
     "output_type": "display_data"
    }
   ],
   "source": [
    "# Set plot size \n",
    "plt.figure(figsize=(10,8))\n",
    "\n",
    "index=3\n",
    "\n",
    "# Set first subplot\n",
    "plt.subplot(1,2,1)\n",
    "plt.imshow(test_input[index])\n",
    "\n",
    "# Set second subplot\n",
    "plt.subplot(1,2,2)\n",
    "plt.imshow(test_val[index])\n",
    "\n",
    "# Renders cleanly\n",
    "plt.show()"
   ]
  },
  {
   "cell_type": "markdown",
   "metadata": {},
   "source": [
    "## Save Model"
   ]
  },
  {
   "cell_type": "code",
   "execution_count": 56,
   "metadata": {},
   "outputs": [],
   "source": [
    "from keras.models import load_model"
   ]
  },
  {
   "cell_type": "code",
   "execution_count": 57,
   "metadata": {},
   "outputs": [
    {
     "name": "stdout",
     "output_type": "stream",
     "text": [
      "WARNING:tensorflow:Compiled the loaded model, but the compiled metrics have yet to be built. `model.compile_metrics` will be empty until you train or evaluate the model.\n"
     ]
    }
   ],
   "source": [
    "# Save weights\n",
    "siamese_model.save('siamesemodelv2.h5')"
   ]
  },
  {
   "cell_type": "code",
   "execution_count": 58,
   "metadata": {},
   "outputs": [],
   "source": [
    "# Reload model\n",
    "model = make_siamese_model()\n",
    "model.load_weights('siamesemodelv2.h5')\n",
    "\n",
    "# loaded_model = load_model('siamesemodelv2.h5', custom_objects={\"L1Dist\": L1Dist})"
   ]
  },
  {
   "cell_type": "code",
   "execution_count": 59,
   "metadata": {},
   "outputs": [
    {
     "data": {
      "text/plain": [
       "array([[1.0316496e-10],\n",
       "       [1.0000000e+00],\n",
       "       [9.9998176e-01],\n",
       "       [3.2142181e-10],\n",
       "       [4.3368839e-10],\n",
       "       [1.0000000e+00],\n",
       "       [1.0000000e+00],\n",
       "       [9.9999964e-01],\n",
       "       [2.1166986e-10],\n",
       "       [1.0000000e+00],\n",
       "       [1.8580365e-11],\n",
       "       [1.0000000e+00],\n",
       "       [1.0000000e+00],\n",
       "       [1.0000000e+00],\n",
       "       [1.0000000e+00],\n",
       "       [4.0003878e-10]], dtype=float32)"
      ]
     },
     "execution_count": 59,
     "metadata": {},
     "output_type": "execute_result"
    }
   ],
   "source": [
    "#Make predictions with reloaded model\n",
    "model.predict([test_input, test_val])"
   ]
  },
  {
   "cell_type": "code",
   "execution_count": 60,
   "metadata": {},
   "outputs": [
    {
     "data": {
      "text/plain": [
       "['0c474886-e0c0-11ed-a339-001a7dda7112.jpg',\n",
       " '0c518920-e0c0-11ed-895d-001a7dda7112.jpg',\n",
       " '0e43d86f-e0c0-11ed-b7d4-001a7dda7112.jpg',\n",
       " '0e4e13af-e0c0-11ed-a6b3-001a7dda7112.jpg',\n",
       " '1232ece3-e0c0-11ed-a801-001a7dda7112.jpg',\n",
       " '124237f5-e0c0-11ed-9bc4-001a7dda7112.jpg',\n",
       " '12474072-e0c0-11ed-a1f8-001a7dda7112.jpg',\n",
       " '1439d43e-e0c0-11ed-8a87-001a7dda7112.jpg',\n",
       " '1617e7dd-e0c0-11ed-9c4f-001a7dda7112.jpg',\n",
       " '16222363-e0c0-11ed-8893-001a7dda7112.jpg',\n",
       " '16272900-e0c0-11ed-8aaa-001a7dda7112.jpg',\n",
       " '163149a7-e0c0-11ed-b43d-001a7dda7112.jpg',\n",
       " '1819a81d-e0c0-11ed-86bb-001a7dda7112.jpg',\n",
       " '1a1b418a-e0c0-11ed-be42-001a7dda7112.jpg',\n",
       " '1a20580b-e0c0-11ed-b261-001a7dda7112.jpg',\n",
       " '61085453-e0be-11ed-9758-001a7dda7112.jpg',\n",
       " '6a0d9a94-e0be-11ed-9dd1-001a7dda7112.jpg',\n",
       " '6c0a388d-e0be-11ed-bd8f-001a7dda7112.jpg',\n",
       " '6c1449ea-e0be-11ed-9b0a-001a7dda7112.jpg',\n",
       " '6dfcacf6-e0be-11ed-8bc0-001a7dda7112.jpg',\n",
       " '6e1b250d-e0be-11ed-af6d-001a7dda7112.jpg',\n",
       " '70035e5b-e0be-11ed-8bb7-001a7dda7112.jpg',\n",
       " '7012b861-e0be-11ed-bc07-001a7dda7112.jpg',\n",
       " '7017b6a4-e0be-11ed-84ac-001a7dda7112.jpg',\n",
       " '7401ca21-e0be-11ed-bc87-001a7dda7112.jpg',\n",
       " '7406d42d-e0be-11ed-b67d-001a7dda7112.jpg',\n",
       " '79d910ee-e0be-11ed-832e-001a7dda7112.jpg',\n",
       " '7bd09aea-e0be-11ed-a176-001a7dda7112.jpg',\n",
       " '7bdfe710-e0be-11ed-8c1f-001a7dda7112.jpg',\n",
       " '7dc31220-e0be-11ed-9e5f-001a7dda7112.jpg',\n",
       " '7dd77369-e0be-11ed-8015-001a7dda7112.jpg',\n",
       " '7fc4c9a0-e0be-11ed-8a19-001a7dda7112.jpg',\n",
       " '81a81654-e0be-11ed-9dc0-001a7dda7112.jpg',\n",
       " '81b755c8-e0be-11ed-b4ab-001a7dda7112.jpg',\n",
       " '83a9c5da-e0be-11ed-b651-001a7dda7112.jpg',\n",
       " '83b3eea1-e0be-11ed-8995-001a7dda7112.jpg',\n",
       " '85a1418f-e0be-11ed-94fc-001a7dda7112.jpg',\n",
       " '85ab6d90-e0be-11ed-88ae-001a7dda7112.jpg',\n",
       " '85b09ee5-e0be-11ed-a2ad-001a7dda7112.jpg',\n",
       " '8b8d0168-e0be-11ed-ac63-001a7dda7112.jpg',\n",
       " '8b973251-e0be-11ed-8d2c-001a7dda7112.jpg',\n",
       " '8d7f74a0-e0be-11ed-b497-001a7dda7112.jpg',\n",
       " '8d8ea930-e0be-11ed-a104-001a7dda7112.jpg',\n",
       " '8d93d322-e0be-11ed-918c-001a7dda7112.jpg',\n",
       " '8f71efe2-e0be-11ed-8b6f-001a7dda7112.jpg',\n",
       " '91697a31-e0be-11ed-a6fc-001a7dda7112.jpg',\n",
       " 'a111632b-e0be-11ed-817b-001a7dda7112.jpg',\n",
       " 'a8d11512-e0be-11ed-9cf3-001a7dda7112.jpg',\n",
       " 'a8d62321-e0be-11ed-b089-001a7dda7112.jpg',\n",
       " 'a8e05e97-e0be-11ed-9497-001a7dda7112.jpg']"
      ]
     },
     "execution_count": 60,
     "metadata": {},
     "output_type": "execute_result"
    }
   ],
   "source": [
    "os.listdir(os.path.join('application_data', 'verification_images'))"
   ]
  },
  {
   "cell_type": "code",
   "execution_count": 61,
   "metadata": {},
   "outputs": [
    {
     "data": {
      "text/plain": [
       "'application_data\\\\input_image\\\\input_image.jpg'"
      ]
     },
     "execution_count": 61,
     "metadata": {},
     "output_type": "execute_result"
    }
   ],
   "source": [
    "os.path.join('application_data', 'input_image', 'input_image.jpg')\n"
   ]
  },
  {
   "cell_type": "code",
   "execution_count": 62,
   "metadata": {},
   "outputs": [
    {
     "name": "stdout",
     "output_type": "stream",
     "text": [
      "application_data\\verification_images\\0c474886-e0c0-11ed-a339-001a7dda7112.jpg\n",
      "application_data\\verification_images\\0c518920-e0c0-11ed-895d-001a7dda7112.jpg\n",
      "application_data\\verification_images\\0e43d86f-e0c0-11ed-b7d4-001a7dda7112.jpg\n",
      "application_data\\verification_images\\0e4e13af-e0c0-11ed-a6b3-001a7dda7112.jpg\n",
      "application_data\\verification_images\\1232ece3-e0c0-11ed-a801-001a7dda7112.jpg\n",
      "application_data\\verification_images\\124237f5-e0c0-11ed-9bc4-001a7dda7112.jpg\n",
      "application_data\\verification_images\\12474072-e0c0-11ed-a1f8-001a7dda7112.jpg\n",
      "application_data\\verification_images\\1439d43e-e0c0-11ed-8a87-001a7dda7112.jpg\n",
      "application_data\\verification_images\\1617e7dd-e0c0-11ed-9c4f-001a7dda7112.jpg\n",
      "application_data\\verification_images\\16222363-e0c0-11ed-8893-001a7dda7112.jpg\n",
      "application_data\\verification_images\\16272900-e0c0-11ed-8aaa-001a7dda7112.jpg\n",
      "application_data\\verification_images\\163149a7-e0c0-11ed-b43d-001a7dda7112.jpg\n",
      "application_data\\verification_images\\1819a81d-e0c0-11ed-86bb-001a7dda7112.jpg\n",
      "application_data\\verification_images\\1a1b418a-e0c0-11ed-be42-001a7dda7112.jpg\n",
      "application_data\\verification_images\\1a20580b-e0c0-11ed-b261-001a7dda7112.jpg\n",
      "application_data\\verification_images\\61085453-e0be-11ed-9758-001a7dda7112.jpg\n",
      "application_data\\verification_images\\6a0d9a94-e0be-11ed-9dd1-001a7dda7112.jpg\n",
      "application_data\\verification_images\\6c0a388d-e0be-11ed-bd8f-001a7dda7112.jpg\n",
      "application_data\\verification_images\\6c1449ea-e0be-11ed-9b0a-001a7dda7112.jpg\n",
      "application_data\\verification_images\\6dfcacf6-e0be-11ed-8bc0-001a7dda7112.jpg\n",
      "application_data\\verification_images\\6e1b250d-e0be-11ed-af6d-001a7dda7112.jpg\n",
      "application_data\\verification_images\\70035e5b-e0be-11ed-8bb7-001a7dda7112.jpg\n",
      "application_data\\verification_images\\7012b861-e0be-11ed-bc07-001a7dda7112.jpg\n",
      "application_data\\verification_images\\7017b6a4-e0be-11ed-84ac-001a7dda7112.jpg\n",
      "application_data\\verification_images\\7401ca21-e0be-11ed-bc87-001a7dda7112.jpg\n",
      "application_data\\verification_images\\7406d42d-e0be-11ed-b67d-001a7dda7112.jpg\n",
      "application_data\\verification_images\\79d910ee-e0be-11ed-832e-001a7dda7112.jpg\n",
      "application_data\\verification_images\\7bd09aea-e0be-11ed-a176-001a7dda7112.jpg\n",
      "application_data\\verification_images\\7bdfe710-e0be-11ed-8c1f-001a7dda7112.jpg\n",
      "application_data\\verification_images\\7dc31220-e0be-11ed-9e5f-001a7dda7112.jpg\n",
      "application_data\\verification_images\\7dd77369-e0be-11ed-8015-001a7dda7112.jpg\n",
      "application_data\\verification_images\\7fc4c9a0-e0be-11ed-8a19-001a7dda7112.jpg\n",
      "application_data\\verification_images\\81a81654-e0be-11ed-9dc0-001a7dda7112.jpg\n",
      "application_data\\verification_images\\81b755c8-e0be-11ed-b4ab-001a7dda7112.jpg\n",
      "application_data\\verification_images\\83a9c5da-e0be-11ed-b651-001a7dda7112.jpg\n",
      "application_data\\verification_images\\83b3eea1-e0be-11ed-8995-001a7dda7112.jpg\n",
      "application_data\\verification_images\\85a1418f-e0be-11ed-94fc-001a7dda7112.jpg\n",
      "application_data\\verification_images\\85ab6d90-e0be-11ed-88ae-001a7dda7112.jpg\n",
      "application_data\\verification_images\\85b09ee5-e0be-11ed-a2ad-001a7dda7112.jpg\n",
      "application_data\\verification_images\\8b8d0168-e0be-11ed-ac63-001a7dda7112.jpg\n",
      "application_data\\verification_images\\8b973251-e0be-11ed-8d2c-001a7dda7112.jpg\n",
      "application_data\\verification_images\\8d7f74a0-e0be-11ed-b497-001a7dda7112.jpg\n",
      "application_data\\verification_images\\8d8ea930-e0be-11ed-a104-001a7dda7112.jpg\n",
      "application_data\\verification_images\\8d93d322-e0be-11ed-918c-001a7dda7112.jpg\n",
      "application_data\\verification_images\\8f71efe2-e0be-11ed-8b6f-001a7dda7112.jpg\n",
      "application_data\\verification_images\\91697a31-e0be-11ed-a6fc-001a7dda7112.jpg\n",
      "application_data\\verification_images\\a111632b-e0be-11ed-817b-001a7dda7112.jpg\n",
      "application_data\\verification_images\\a8d11512-e0be-11ed-9cf3-001a7dda7112.jpg\n",
      "application_data\\verification_images\\a8d62321-e0be-11ed-b089-001a7dda7112.jpg\n",
      "application_data\\verification_images\\a8e05e97-e0be-11ed-9497-001a7dda7112.jpg\n"
     ]
    }
   ],
   "source": [
    "for image in os.listdir(os.path.join('application_data', 'verification_images')):\n",
    "    validation_img = os.path.join('application_data', 'verification_images', image)\n",
    "    print(validation_img)"
   ]
  },
  {
   "cell_type": "code",
   "execution_count": 63,
   "metadata": {},
   "outputs": [],
   "source": [
    "def verify(model, detection_threshold, verification_threshold):\n",
    "    # Build results array\n",
    "    results = []\n",
    "    for image in os.listdir(os.path.join('application_data', 'verification_images')):\n",
    "        input_img = preprocess(os.path.join('application_data', 'input_image', 'input_image.jpg'))\n",
    "        validation_img = preprocess(os.path.join('application_data', 'verification_images', image))\n",
    "        \n",
    "        # Make Predictions \n",
    "        result = model.predict(list(np.expand_dims([input_img, validation_img], axis=1)))\n",
    "        results.append(result)\n",
    "    \n",
    "    # Detection Threshold: Metric above which a prediciton is considered positive \n",
    "    detection = np.sum(np.array(results) > detection_threshold)\n",
    "    \n",
    "    # Verification Threshold: Proportion of positive predictions / total positive samples \n",
    "    verification = detection / len(os.listdir(os.path.join('application_data', 'verification_images'))) \n",
    "    verified = verification > verification_threshold\n",
    "    \n",
    "    return results, verified"
   ]
  },
  {
   "cell_type": "markdown",
   "metadata": {},
   "source": [
    "Verification"
   ]
  },
  {
   "cell_type": "code",
   "execution_count": 64,
   "metadata": {},
   "outputs": [
    {
     "name": "stdout",
     "output_type": "stream",
     "text": [
      "True\n",
      "True\n",
      "True\n",
      "False\n",
      "True\n"
     ]
    }
   ],
   "source": [
    "cap = cv2.VideoCapture(0)\n",
    "while cap.isOpened():\n",
    "    ret, frame = cap.read()\n",
    "    frame = frame[120:120+250,200:200+250, :]\n",
    "    \n",
    "    cv2.imshow('Verification', frame)\n",
    "    \n",
    "    # Verification trigger\n",
    "    if cv2.waitKey(1) & 0xFF == ord('v'):\n",
    "        # Save input image to application_data/input_image folder \n",
    "#         hsv = cv2.cvtColor(frame, cv2.COLOR_BGR2HSV)\n",
    "#         h, s, v = cv2.split(hsv)\n",
    "\n",
    "#         lim = 255 - 10\n",
    "#         v[v > lim] = 255\n",
    "#         v[v <= lim] -= 10\n",
    "        \n",
    "#         final_hsv = cv2.merge((h, s, v))\n",
    "#         img = cv2.cvtColor(final_hsv, cv2.COLOR_HSV2BGR)\n",
    "\n",
    "        cv2.imwrite(os.path.join('application_data', 'input_image', 'input_image.jpg'), frame)\n",
    "        # Run verification\n",
    "        results, verified = verify(model, 0.8, 0.75)\n",
    "        print(verified)\n",
    "    \n",
    "    if cv2.waitKey(1) & 0xFF == ord('q'):\n",
    "        break\n",
    "cap.release()\n",
    "cv2.destroyAllWindows()"
   ]
  },
  {
   "cell_type": "code",
   "execution_count": 68,
   "metadata": {},
   "outputs": [
    {
     "data": {
      "text/plain": [
       "50"
      ]
     },
     "execution_count": 68,
     "metadata": {},
     "output_type": "execute_result"
    }
   ],
   "source": [
    "np.sum(np.squeeze(results) > .9)"
   ]
  },
  {
   "cell_type": "code",
   "execution_count": 186,
   "metadata": {},
   "outputs": [
    {
     "data": {
      "text/plain": [
       "0.7"
      ]
     },
     "execution_count": 186,
     "metadata": {},
     "output_type": "execute_result"
    }
   ],
   "source": [
    "35/50"
   ]
  },
  {
   "cell_type": "code",
   "execution_count": null,
   "metadata": {},
   "outputs": [],
   "source": []
  }
 ],
 "metadata": {
  "kernelspec": {
   "display_name": "Python 3.10.4 64-bit",
   "language": "python",
   "name": "python3"
  },
  "language_info": {
   "codemirror_mode": {
    "name": "ipython",
    "version": 3
   },
   "file_extension": ".py",
   "mimetype": "text/x-python",
   "name": "python",
   "nbconvert_exporter": "python",
   "pygments_lexer": "ipython3",
   "version": "3.10.0"
  },
  "vscode": {
   "interpreter": {
    "hash": "d7138ed8ba234ede24dd664169075586da4dd4722fe0f2db5d3e26c0d396e504"
   }
  }
 },
 "nbformat": 4,
 "nbformat_minor": 2
}
