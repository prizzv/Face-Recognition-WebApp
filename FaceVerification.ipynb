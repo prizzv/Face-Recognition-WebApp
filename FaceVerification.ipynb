{
 "cells": [
  {
   "cell_type": "code",
   "execution_count": 1,
   "metadata": {},
   "outputs": [
    {
     "name": "stdout",
     "output_type": "stream",
     "text": [
      "Collecting tensorflow==2.10.1\n",
      "  Using cached tensorflow-2.10.1-cp310-cp310-win_amd64.whl (455.9 MB)\n",
      "Requirement already satisfied: tensorflow-gpu==2.10.0 in c:\\users\\shashaank\\appdata\\roaming\\python\\python310\\site-packages (2.10.0)\n",
      "Requirement already satisfied: opencv-python in c:\\users\\shashaank\\appdata\\local\\programs\\python\\python310\\lib\\site-packages (4.7.0.72)\n",
      "Requirement already satisfied: matplotlib in c:\\users\\shashaank\\appdata\\local\\programs\\python\\python310\\lib\\site-packages (3.5.1)\n",
      "Requirement already satisfied: astunparse>=1.6.0 in c:\\users\\shashaank\\appdata\\local\\programs\\python\\python310\\lib\\site-packages (from tensorflow==2.10.1) (1.6.3)\n",
      "Requirement already satisfied: absl-py>=1.0.0 in c:\\users\\shashaank\\appdata\\local\\programs\\python\\python310\\lib\\site-packages (from tensorflow==2.10.1) (1.4.0)\n",
      "Requirement already satisfied: packaging in c:\\users\\shashaank\\appdata\\local\\programs\\python\\python310\\lib\\site-packages (from tensorflow==2.10.1) (20.9)\n",
      "Requirement already satisfied: libclang>=13.0.0 in c:\\users\\shashaank\\appdata\\local\\programs\\python\\python310\\lib\\site-packages (from tensorflow==2.10.1) (16.0.0)\n",
      "Requirement already satisfied: h5py>=2.9.0 in c:\\users\\shashaank\\appdata\\local\\programs\\python\\python310\\lib\\site-packages (from tensorflow==2.10.1) (3.8.0)\n",
      "Requirement already satisfied: setuptools in c:\\users\\shashaank\\appdata\\local\\programs\\python\\python310\\lib\\site-packages (from tensorflow==2.10.1) (58.1.0)\n",
      "Requirement already satisfied: grpcio<2.0,>=1.24.3 in c:\\users\\shashaank\\appdata\\local\\programs\\python\\python310\\lib\\site-packages (from tensorflow==2.10.1) (1.51.3)\n",
      "Requirement already satisfied: typing-extensions>=3.6.6 in c:\\users\\shashaank\\appdata\\local\\programs\\python\\python310\\lib\\site-packages (from tensorflow==2.10.1) (4.5.0)\n",
      "Collecting keras<2.11,>=2.10.0\n",
      "  Using cached keras-2.10.0-py2.py3-none-any.whl (1.7 MB)\n",
      "Requirement already satisfied: six>=1.12.0 in c:\\users\\shashaank\\appdata\\local\\programs\\python\\python310\\lib\\site-packages (from tensorflow==2.10.1) (1.16.0)\n",
      "Collecting flatbuffers>=2.0\n",
      "  Using cached flatbuffers-23.3.3-py2.py3-none-any.whl (26 kB)\n",
      "Requirement already satisfied: google-pasta>=0.1.1 in c:\\users\\shashaank\\appdata\\local\\programs\\python\\python310\\lib\\site-packages (from tensorflow==2.10.1) (0.2.0)\n",
      "Requirement already satisfied: numpy>=1.20 in c:\\users\\shashaank\\appdata\\local\\programs\\python\\python310\\lib\\site-packages (from tensorflow==2.10.1) (1.22.2)\n",
      "Requirement already satisfied: tensorflow-io-gcs-filesystem>=0.23.1 in c:\\users\\shashaank\\appdata\\local\\programs\\python\\python310\\lib\\site-packages (from tensorflow==2.10.1) (0.31.0)\n",
      "Requirement already satisfied: keras-preprocessing>=1.1.1 in c:\\users\\shashaank\\appdata\\local\\programs\\python\\python310\\lib\\site-packages (from tensorflow==2.10.1) (1.1.2)\n",
      "Requirement already satisfied: termcolor>=1.1.0 in c:\\users\\shashaank\\appdata\\local\\programs\\python\\python310\\lib\\site-packages (from tensorflow==2.10.1) (2.2.0)\n",
      "Collecting tensorboard<2.11,>=2.10\n",
      "  Using cached tensorboard-2.10.1-py3-none-any.whl (5.9 MB)\n",
      "Requirement already satisfied: gast<=0.4.0,>=0.2.1 in c:\\users\\shashaank\\appdata\\local\\programs\\python\\python310\\lib\\site-packages (from tensorflow==2.10.1) (0.4.0)\n",
      "Collecting protobuf<3.20,>=3.9.2\n",
      "  Using cached protobuf-3.19.6-cp310-cp310-win_amd64.whl (895 kB)\n",
      "Requirement already satisfied: wrapt>=1.11.0 in c:\\users\\shashaank\\appdata\\local\\programs\\python\\python310\\lib\\site-packages (from tensorflow==2.10.1) (1.15.0)\n",
      "Requirement already satisfied: opt-einsum>=2.3.2 in c:\\users\\shashaank\\appdata\\local\\programs\\python\\python310\\lib\\site-packages (from tensorflow==2.10.1) (3.3.0)\n",
      "Collecting tensorflow-estimator<2.11,>=2.10.0\n",
      "  Using cached tensorflow_estimator-2.10.0-py2.py3-none-any.whl (438 kB)\n",
      "Requirement already satisfied: pillow>=6.2.0 in c:\\users\\shashaank\\appdata\\local\\programs\\python\\python310\\lib\\site-packages (from matplotlib) (9.0.1)\n",
      "Requirement already satisfied: cycler>=0.10 in c:\\users\\shashaank\\appdata\\local\\programs\\python\\python310\\lib\\site-packages (from matplotlib) (0.11.0)\n",
      "Requirement already satisfied: fonttools>=4.22.0 in c:\\users\\shashaank\\appdata\\local\\programs\\python\\python310\\lib\\site-packages (from matplotlib) (4.29.1)\n",
      "Requirement already satisfied: python-dateutil>=2.7 in c:\\users\\shashaank\\appdata\\local\\programs\\python\\python310\\lib\\site-packages (from matplotlib) (2.8.2)\n",
      "Requirement already satisfied: kiwisolver>=1.0.1 in c:\\users\\shashaank\\appdata\\local\\programs\\python\\python310\\lib\\site-packages (from matplotlib) (1.3.2)\n",
      "Requirement already satisfied: pyparsing>=2.2.1 in c:\\users\\shashaank\\appdata\\local\\programs\\python\\python310\\lib\\site-packages (from matplotlib) (3.0.7)\n",
      "Requirement already satisfied: wheel<1.0,>=0.23.0 in c:\\users\\shashaank\\appdata\\local\\programs\\python\\python310\\lib\\site-packages (from astunparse>=1.6.0->tensorflow==2.10.1) (0.40.0)\n",
      "Requirement already satisfied: requests<3,>=2.21.0 in c:\\users\\shashaank\\appdata\\local\\programs\\python\\python310\\lib\\site-packages (from tensorboard<2.11,>=2.10->tensorflow==2.10.1) (2.28.2)\n",
      "Requirement already satisfied: google-auth<3,>=1.6.3 in c:\\users\\shashaank\\appdata\\local\\programs\\python\\python310\\lib\\site-packages (from tensorboard<2.11,>=2.10->tensorflow==2.10.1) (2.16.3)\n",
      "Requirement already satisfied: werkzeug>=1.0.1 in c:\\users\\shashaank\\appdata\\local\\programs\\python\\python310\\lib\\site-packages (from tensorboard<2.11,>=2.10->tensorflow==2.10.1) (2.2.3)\n",
      "Requirement already satisfied: tensorboard-data-server<0.7.0,>=0.6.0 in c:\\users\\shashaank\\appdata\\local\\programs\\python\\python310\\lib\\site-packages (from tensorboard<2.11,>=2.10->tensorflow==2.10.1) (0.6.1)\n",
      "Requirement already satisfied: markdown>=2.6.8 in c:\\users\\shashaank\\appdata\\local\\programs\\python\\python310\\lib\\site-packages (from tensorboard<2.11,>=2.10->tensorflow==2.10.1) (3.4.3)\n",
      "Requirement already satisfied: google-auth-oauthlib<0.5,>=0.4.1 in c:\\users\\shashaank\\appdata\\local\\programs\\python\\python310\\lib\\site-packages (from tensorboard<2.11,>=2.10->tensorflow==2.10.1) (0.4.6)\n",
      "Requirement already satisfied: tensorboard-plugin-wit>=1.6.0 in c:\\users\\shashaank\\appdata\\local\\programs\\python\\python310\\lib\\site-packages (from tensorboard<2.11,>=2.10->tensorflow==2.10.1) (1.8.1)\n",
      "Requirement already satisfied: cachetools<6.0,>=2.0.0 in c:\\users\\shashaank\\appdata\\local\\programs\\python\\python310\\lib\\site-packages (from google-auth<3,>=1.6.3->tensorboard<2.11,>=2.10->tensorflow==2.10.1) (5.3.0)\n",
      "Requirement already satisfied: rsa<5,>=3.1.4 in c:\\users\\shashaank\\appdata\\local\\programs\\python\\python310\\lib\\site-packages (from google-auth<3,>=1.6.3->tensorboard<2.11,>=2.10->tensorflow==2.10.1) (4.9)\n",
      "Requirement already satisfied: pyasn1-modules>=0.2.1 in c:\\users\\shashaank\\appdata\\local\\programs\\python\\python310\\lib\\site-packages (from google-auth<3,>=1.6.3->tensorboard<2.11,>=2.10->tensorflow==2.10.1) (0.2.8)\n",
      "Requirement already satisfied: requests-oauthlib>=0.7.0 in c:\\users\\shashaank\\appdata\\local\\programs\\python\\python310\\lib\\site-packages (from google-auth-oauthlib<0.5,>=0.4.1->tensorboard<2.11,>=2.10->tensorflow==2.10.1) (1.3.1)\n",
      "Requirement already satisfied: urllib3<1.27,>=1.21.1 in c:\\users\\shashaank\\appdata\\local\\programs\\python\\python310\\lib\\site-packages (from requests<3,>=2.21.0->tensorboard<2.11,>=2.10->tensorflow==2.10.1) (1.26.15)\n",
      "Requirement already satisfied: charset-normalizer<4,>=2 in c:\\users\\shashaank\\appdata\\local\\programs\\python\\python310\\lib\\site-packages (from requests<3,>=2.21.0->tensorboard<2.11,>=2.10->tensorflow==2.10.1) (2.0.11)\n",
      "Requirement already satisfied: certifi>=2017.4.17 in c:\\users\\shashaank\\appdata\\local\\programs\\python\\python310\\lib\\site-packages (from requests<3,>=2.21.0->tensorboard<2.11,>=2.10->tensorflow==2.10.1) (2021.10.8)\n",
      "Requirement already satisfied: idna<4,>=2.5 in c:\\users\\shashaank\\appdata\\local\\programs\\python\\python310\\lib\\site-packages (from requests<3,>=2.21.0->tensorboard<2.11,>=2.10->tensorflow==2.10.1) (3.3)\n",
      "Requirement already satisfied: MarkupSafe>=2.1.1 in c:\\users\\shashaank\\appdata\\local\\programs\\python\\python310\\lib\\site-packages (from werkzeug>=1.0.1->tensorboard<2.11,>=2.10->tensorflow==2.10.1) (2.1.2)\n",
      "Requirement already satisfied: pyasn1<0.5.0,>=0.4.6 in c:\\users\\shashaank\\appdata\\local\\programs\\python\\python310\\lib\\site-packages (from pyasn1-modules>=0.2.1->google-auth<3,>=1.6.3->tensorboard<2.11,>=2.10->tensorflow==2.10.1) (0.4.8)\n",
      "Requirement already satisfied: oauthlib>=3.0.0 in c:\\users\\shashaank\\appdata\\local\\programs\\python\\python310\\lib\\site-packages (from requests-oauthlib>=0.7.0->google-auth-oauthlib<0.5,>=0.4.1->tensorboard<2.11,>=2.10->tensorflow==2.10.1) (3.2.2)\n",
      "Installing collected packages: keras, flatbuffers, tensorflow-estimator, protobuf, tensorboard, tensorflow\n",
      "Successfully installed flatbuffers-23.3.3 keras-2.10.0 protobuf-3.19.6 tensorboard-2.10.1 tensorflow-2.10.1 tensorflow-estimator-2.10.0\n",
      "Note: you may need to restart the kernel to use updated packages.\n"
     ]
    },
    {
     "name": "stderr",
     "output_type": "stream",
     "text": [
      "  WARNING: The script tensorboard.exe is installed in 'C:\\Users\\Shashaank\\AppData\\Roaming\\Python\\Python310\\Scripts' which is not on PATH.\n",
      "  Consider adding this directory to PATH or, if you prefer to suppress this warning, use --no-warn-script-location.\n",
      "  WARNING: The scripts estimator_ckpt_converter.exe, import_pb_to_tensorboard.exe, saved_model_cli.exe, tensorboard.exe, tf_upgrade_v2.exe, tflite_convert.exe, toco.exe and toco_from_protos.exe are installed in 'C:\\Users\\Shashaank\\AppData\\Roaming\\Python\\Python310\\Scripts' which is not on PATH.\n",
      "  Consider adding this directory to PATH or, if you prefer to suppress this warning, use --no-warn-script-location.\n",
      "ERROR: pip's dependency resolver does not currently take into account all the packages that are installed. This behaviour is the source of the following dependency conflicts.\n",
      "tensorflowjs 3.19.0 requires protobuf==3.20.0, but you have protobuf 3.19.6 which is incompatible.\n",
      "\n",
      "[notice] A new release of pip is available: 23.0.1 -> 23.1\n",
      "[notice] To update, run: python.exe -m pip install --upgrade pip\n"
     ]
    }
   ],
   "source": [
    "%pip install tensorflow==2.10.1 tensorflow-gpu==2.10.0 opencv-python matplotlib --user"
   ]
  },
  {
   "cell_type": "code",
   "execution_count": 6,
   "metadata": {},
   "outputs": [],
   "source": [
    "#standard imports\n",
    "import cv2\n",
    "import os\n",
    "import numpy as np\n",
    "import random\n",
    "from matplotlib import pyplot as plt\n"
   ]
  },
  {
   "cell_type": "code",
   "execution_count": 7,
   "metadata": {},
   "outputs": [],
   "source": [
    "#tensorflow imports\n",
    "# from tensorflow import keras\n",
    "# from keras.models import Model\n",
    "# from keras.layers import Layer, Conv2D, MaxPooling2D, Dense, Flatten, Input\n",
    "# from tensorflow.python.compat import dtensor as dtensor_api\n",
    "\n",
    "from tensorflow.python.keras.models import Model\n",
    "from tensorflow.python.keras.layers import Layer, Conv2D, MaxPooling2D, Dense, Flatten, Input\n",
    "\n",
    "import tensorflow as tf\n"
   ]
  },
  {
   "cell_type": "code",
   "execution_count": 8,
   "metadata": {},
   "outputs": [
    {
     "name": "stdout",
     "output_type": "stream",
     "text": [
      "[PhysicalDevice(name='/physical_device:GPU:0', device_type='GPU')]\n"
     ]
    }
   ],
   "source": [
    "# Avoid OOM errors by setting GPU Memory Consumption Growth\n",
    "gpus = tf.config.experimental.list_physical_devices('GPU')\n",
    "print(gpus)\n",
    "for gpu in gpus: \n",
    "    tf.config.experimental.set_memory_growth(gpu, True)"
   ]
  },
  {
   "cell_type": "code",
   "execution_count": 9,
   "metadata": {},
   "outputs": [],
   "source": [
    "# Setup paths\n",
    "POS_PATH = os.path.join('data', 'positive')\n",
    "NEG_PATH = os.path.join('data', 'negative')\n",
    "ANC_PATH = os.path.join('data', 'anchor')"
   ]
  },
  {
   "cell_type": "code",
   "execution_count": 10,
   "metadata": {},
   "outputs": [
    {
     "name": "stdout",
     "output_type": "stream",
     "text": [
      "already exists\n"
     ]
    }
   ],
   "source": [
    "try:\n",
    "    os.makedirs(POS_PATH)\n",
    "    os.makedirs(NEG_PATH)\n",
    "    os.makedirs(ANC_PATH)\n",
    "except:\n",
    "    print(\"already exists\")"
   ]
  },
  {
   "cell_type": "code",
   "execution_count": 46,
   "metadata": {},
   "outputs": [],
   "source": [
    "# Uncompress Tar GZ Labelled Faces in the Wild Dataset\n",
    "!tar -xf lfw.tgz"
   ]
  },
  {
   "cell_type": "code",
   "execution_count": 47,
   "metadata": {},
   "outputs": [],
   "source": [
    "# Move LFW Images to the following repository data/negative\n",
    "for directory in os.listdir('lfw'):\n",
    "    for file in os.listdir(os.path.join('lfw', directory)):\n",
    "        EX_PATH = os.path.join('lfw', directory, file)\n",
    "        NEW_PATH = os.path.join(NEG_PATH, file)\n",
    "        os.replace(EX_PATH, NEW_PATH)"
   ]
  },
  {
   "cell_type": "code",
   "execution_count": 11,
   "metadata": {},
   "outputs": [],
   "source": [
    "#Import uuid library to generate unique names for images\n",
    "import uuid"
   ]
  },
  {
   "cell_type": "code",
   "execution_count": 13,
   "metadata": {},
   "outputs": [],
   "source": [
    "video_capture = cv2.VideoCapture(0)\n",
    "while video_capture.isOpened():\n",
    "    ret, video_data = video_capture.read()\n",
    "    # color = cv2.cvtColor(video_data, cv2.COLOR_BGR2GRAY)\n",
    "    \n",
    "    #Cut the image to 250x250px\n",
    "    video_data = video_data[120:120+250,200:200+250,:]\n",
    "\n",
    "    #collect anchor images\n",
    "    if cv2.waitKey(1) == ord(\"a\"):\n",
    "        #Create unique image name\n",
    "        imgName = os.path.join(ANC_PATH, '{}.jpg'.format(uuid.uuid1()))\n",
    "        cv2.imwrite(imgName, video_data)\n",
    "        \n",
    "\n",
    "    #collect positive images\n",
    "    if cv2.waitKey(1) == ord(\"p\"):\n",
    "        #Create unique image name\n",
    "        imgName = os.path.join(POS_PATH, '{}.jpg'.format(uuid.uuid1()))\n",
    "        cv2.imwrite(imgName, video_data)\n",
    "        \n",
    "    # face = face_capture.detectMultiScale(\n",
    "    #     color,\n",
    "    #     scaleFactor=1.1,\n",
    "    #     minNeighbors=3,\n",
    "    #     flags=cv2.CASCADE_SCALE_IMAGE,\n",
    "    #     minSize=(30, 30),\n",
    "    # )\n",
    "\n",
    "    # for(x, y, w, h) in face:\n",
    "    #     cv2.rectangle(video_data, (x, y), (x+w, y+h), (0, 255, 0), 2)\n",
    "\n",
    "    cv2.imshow(\"video_live\", video_data)\n",
    "    if cv2.waitKey(10) == ord(\"q\"):\n",
    "        break\n",
    "video_capture.release()\n",
    "cv2.destroyAllWindows()\n"
   ]
  },
  {
   "cell_type": "markdown",
   "metadata": {},
   "source": [
    "Get Image Directories"
   ]
  },
  {
   "cell_type": "code",
   "execution_count": 14,
   "metadata": {},
   "outputs": [],
   "source": [
    "anchor = tf.data.Dataset.list_files(ANC_PATH+'\\*.jpg').take(300)\n",
    "positive = tf.data.Dataset.list_files(POS_PATH+'\\*.jpg').take(300)\n",
    "negative = tf.data.Dataset.list_files(NEG_PATH+'\\*.jpg').take(300)"
   ]
  },
  {
   "cell_type": "code",
   "execution_count": 15,
   "metadata": {},
   "outputs": [],
   "source": [
    "dir_test = anchor.as_numpy_iterator()\n"
   ]
  },
  {
   "cell_type": "code",
   "execution_count": 16,
   "metadata": {},
   "outputs": [
    {
     "data": {
      "text/plain": [
       "b'data\\\\anchor\\\\18dd4423-e0be-11ed-a8f9-001a7dda7112.jpg'"
      ]
     },
     "execution_count": 16,
     "metadata": {},
     "output_type": "execute_result"
    }
   ],
   "source": [
    "dir_test.next()"
   ]
  },
  {
   "cell_type": "markdown",
   "metadata": {},
   "source": [
    "Preprocessing\n"
   ]
  },
  {
   "cell_type": "code",
   "execution_count": 114,
   "metadata": {},
   "outputs": [],
   "source": [
    "def preprocess(file_path):\n",
    "    \n",
    "    byte_img = tf.io.read_file(file_path)\n",
    "    # Load in the image \n",
    "    img = tf.io.decode_jpeg(byte_img)\n",
    "    \n",
    "    # Preprocessing steps - resizing the image to be 100x100x3\n",
    "    img = tf.image.resize(img, (100,100))\n",
    "    # Scale image to be between 0 and 1 \n",
    "    img = img / 255.0\n",
    "\n",
    "    return img"
   ]
  },
  {
   "cell_type": "code",
   "execution_count": 115,
   "metadata": {},
   "outputs": [],
   "source": [
    "positives = tf.data.Dataset.zip((anchor, positive, tf.data.Dataset.from_tensor_slices(tf.ones(len(anchor)))))\n",
    "negatives = tf.data.Dataset.zip((anchor, negative, tf.data.Dataset.from_tensor_slices(tf.zeros(len(anchor)))))\n",
    "data = positives.concatenate(negatives)\n"
   ]
  },
  {
   "cell_type": "code",
   "execution_count": 116,
   "metadata": {},
   "outputs": [],
   "source": [
    "samples = data.as_numpy_iterator()\n",
    "example = samples.next()"
   ]
  },
  {
   "cell_type": "code",
   "execution_count": 117,
   "metadata": {},
   "outputs": [
    {
     "data": {
      "text/plain": [
       "(b'data\\\\anchor\\\\1b079960-e0be-11ed-8271-001a7dda7112.jpg',\n",
       " b'data\\\\positive\\\\bc90cf25-e0be-11ed-9344-001a7dda7112.jpg',\n",
       " 1.0)"
      ]
     },
     "execution_count": 117,
     "metadata": {},
     "output_type": "execute_result"
    }
   ],
   "source": [
    "example"
   ]
  },
  {
   "cell_type": "markdown",
   "metadata": {},
   "source": [
    "Build Train and Test Partition\n"
   ]
  },
  {
   "cell_type": "code",
   "execution_count": 118,
   "metadata": {},
   "outputs": [],
   "source": [
    "def preprocess_twin(input_img, validation_img, label):\n",
    "    return(preprocess(input_img), preprocess(validation_img), label)"
   ]
  },
  {
   "cell_type": "code",
   "execution_count": 119,
   "metadata": {},
   "outputs": [],
   "source": [
    "res = preprocess_twin(*example)\n"
   ]
  },
  {
   "cell_type": "code",
   "execution_count": 120,
   "metadata": {},
   "outputs": [],
   "source": [
    "# Build dataloader pipeline\n",
    "data = data.map(preprocess_twin)\n",
    "data = data.cache()\n",
    "data = data.shuffle(buffer_size=1024)"
   ]
  },
  {
   "cell_type": "code",
   "execution_count": 121,
   "metadata": {},
   "outputs": [],
   "source": [
    "# Training partition\n",
    "train_data = data.take(round(len(data)*.7))\n",
    "train_data = train_data.batch(16)\n",
    "train_data = train_data.prefetch(8)"
   ]
  },
  {
   "cell_type": "code",
   "execution_count": 122,
   "metadata": {},
   "outputs": [],
   "source": [
    "# Testing partition\n",
    "test_data = data.skip(round(len(data)*.7))\n",
    "test_data = test_data.take(round(len(data)*.3))\n",
    "test_data = test_data.batch(16)\n",
    "test_data = test_data.prefetch(8)"
   ]
  },
  {
   "cell_type": "markdown",
   "metadata": {},
   "source": [
    "Build Embedding Layer"
   ]
  },
  {
   "cell_type": "code",
   "execution_count": 123,
   "metadata": {},
   "outputs": [],
   "source": [
    "inp = Input(shape=(100,100,3), name='input_image')\n",
    "c1 = Conv2D(64, (10,10), activation='relu')(inp)\n",
    "m1 = MaxPooling2D(64, (2,2), padding='same')(c1)\n",
    "c2 = Conv2D(128, (7,7), activation='relu')(m1)\n",
    "m2 = MaxPooling2D(64, (2,2), padding='same')(c2)\n",
    "c3 = Conv2D(128, (4,4), activation='relu')(m2)\n",
    "m3 = MaxPooling2D(64, (2,2), padding='same')(c3)\n",
    "c4 = Conv2D(256, (4,4), activation='relu')(m3)\n",
    "f1 = Flatten()(c4)\n",
    "d1 = Dense(4096, activation='sigmoid')(f1)\n",
    "mod = Model(inputs=[inp], outputs=[d1], name='embedding')\n"
   ]
  },
  {
   "cell_type": "code",
   "execution_count": 124,
   "metadata": {},
   "outputs": [
    {
     "data": {
      "text/plain": [
       "<KerasTensor: shape=(None, 91, 91, 64) dtype=float32 (created by layer 'conv2d_8')>"
      ]
     },
     "execution_count": 124,
     "metadata": {},
     "output_type": "execute_result"
    }
   ],
   "source": [
    "c1"
   ]
  },
  {
   "cell_type": "code",
   "execution_count": 125,
   "metadata": {},
   "outputs": [],
   "source": [
    "def make_embedding(): \n",
    "    inp = Input(shape=(100,100,3), name='input_image')\n",
    "    \n",
    "    # First block\n",
    "    c1 = Conv2D(64, (10,10), activation='relu')(inp)\n",
    "    m1 = MaxPooling2D(64, (2,2), padding='same')(c1)\n",
    "    \n",
    "    # Second block\n",
    "    c2 = Conv2D(128, (7,7), activation='relu')(m1)\n",
    "    m2 = MaxPooling2D(64, (2,2), padding='same')(c2)\n",
    "    \n",
    "    # Third block \n",
    "    c3 = Conv2D(128, (4,4), activation='relu')(m2)\n",
    "    m3 = MaxPooling2D(64, (2,2), padding='same')(c3)\n",
    "    \n",
    "    # Final embedding block\n",
    "    c4 = Conv2D(256, (4,4), activation='relu')(m3)\n",
    "    f1 = Flatten()(c4)\n",
    "    d1 = Dense(4096, activation='sigmoid')(f1)\n",
    "    \n",
    "    \n",
    "    return Model(inputs=[inp], outputs=[d1], name='embedding')"
   ]
  },
  {
   "cell_type": "code",
   "execution_count": 126,
   "metadata": {},
   "outputs": [],
   "source": [
    "embedding = make_embedding()"
   ]
  },
  {
   "cell_type": "code",
   "execution_count": 127,
   "metadata": {},
   "outputs": [
    {
     "name": "stdout",
     "output_type": "stream",
     "text": [
      "Model: \"embedding\"\n",
      "_________________________________________________________________\n",
      "Layer (type)                 Output Shape              Param #   \n",
      "=================================================================\n",
      "input_image (InputLayer)     [(None, 100, 100, 3)]     0         \n",
      "_________________________________________________________________\n",
      "conv2d_12 (Conv2D)           (None, 91, 91, 64)        19264     \n",
      "_________________________________________________________________\n",
      "max_pooling2d_9 (MaxPooling2 (None, 46, 46, 64)        0         \n",
      "_________________________________________________________________\n",
      "conv2d_13 (Conv2D)           (None, 40, 40, 128)       401536    \n",
      "_________________________________________________________________\n",
      "max_pooling2d_10 (MaxPooling (None, 20, 20, 128)       0         \n",
      "_________________________________________________________________\n",
      "conv2d_14 (Conv2D)           (None, 17, 17, 128)       262272    \n",
      "_________________________________________________________________\n",
      "max_pooling2d_11 (MaxPooling (None, 9, 9, 128)         0         \n",
      "_________________________________________________________________\n",
      "conv2d_15 (Conv2D)           (None, 6, 6, 256)         524544    \n",
      "_________________________________________________________________\n",
      "flatten_3 (Flatten)          (None, 9216)              0         \n",
      "_________________________________________________________________\n",
      "dense_7 (Dense)              (None, 4096)              37752832  \n",
      "=================================================================\n",
      "Total params: 38,960,448\n",
      "Trainable params: 38,960,448\n",
      "Non-trainable params: 0\n",
      "_________________________________________________________________\n"
     ]
    }
   ],
   "source": [
    "embedding.summary()"
   ]
  },
  {
   "cell_type": "markdown",
   "metadata": {},
   "source": [
    "Build Distance Layer"
   ]
  },
  {
   "cell_type": "code",
   "execution_count": 128,
   "metadata": {},
   "outputs": [],
   "source": [
    "# Siamese L1 Distance class\n",
    "class L1Dist(Layer):\n",
    "    \n",
    "    def __init__(self, **kwargs):\n",
    "        super().__init__()\n",
    "\n",
    "    #similarity calculation\n",
    "    def call(self, input_embedding, validation_embedding):\n",
    "        return tf.math.abs(input_embedding - validation_embedding)"
   ]
  },
  {
   "cell_type": "markdown",
   "metadata": {},
   "source": [
    "Make Siamese Model"
   ]
  },
  {
   "cell_type": "code",
   "execution_count": 129,
   "metadata": {},
   "outputs": [],
   "source": [
    "def make_siamese_model(): \n",
    "    \n",
    "    # Anchor image input in the network\n",
    "    input_image = Input(name='input_img', shape=(100,100,3))\n",
    "    \n",
    "    # Validation image in the network \n",
    "    validation_image = Input(name='validation_img', shape=(100,100,3))\n",
    "    \n",
    "    # Combine siamese distance components\n",
    "    siamese_layer = L1Dist()\n",
    "    siamese_layer._name = 'distance'\n",
    "    distances = siamese_layer(embedding(input_image), embedding(validation_image))\n",
    "    \n",
    "    # Classification layer \n",
    "    classifier = Dense(1, activation='sigmoid')(distances)\n",
    "    \n",
    "    return Model(inputs=[input_image, validation_image], outputs=classifier, name='SiameseNetwork')"
   ]
  },
  {
   "cell_type": "code",
   "execution_count": 130,
   "metadata": {},
   "outputs": [],
   "source": [
    "siamese_model = make_siamese_model()"
   ]
  },
  {
   "cell_type": "code",
   "execution_count": 131,
   "metadata": {},
   "outputs": [
    {
     "name": "stdout",
     "output_type": "stream",
     "text": [
      "Model: \"SiameseNetwork\"\n",
      "__________________________________________________________________________________________________\n",
      "Layer (type)                    Output Shape         Param #     Connected to                     \n",
      "==================================================================================================\n",
      "input_img (InputLayer)          [(None, 100, 100, 3) 0                                            \n",
      "__________________________________________________________________________________________________\n",
      "validation_img (InputLayer)     [(None, 100, 100, 3) 0                                            \n",
      "__________________________________________________________________________________________________\n",
      "embedding (Functional)          (None, 4096)         38960448    input_img[0][0]                  \n",
      "                                                                 validation_img[0][0]             \n",
      "__________________________________________________________________________________________________\n",
      "distance (L1Dist)               (None, 4096)         0           embedding[0][0]                  \n",
      "                                                                 embedding[1][0]                  \n",
      "__________________________________________________________________________________________________\n",
      "dense_8 (Dense)                 (None, 1)            4097        distance[0][0]                   \n",
      "==================================================================================================\n",
      "Total params: 38,964,545\n",
      "Trainable params: 38,964,545\n",
      "Non-trainable params: 0\n",
      "__________________________________________________________________________________________________\n"
     ]
    }
   ],
   "source": [
    "siamese_model.summary()"
   ]
  },
  {
   "cell_type": "markdown",
   "metadata": {},
   "source": [
    "Training"
   ]
  },
  {
   "cell_type": "markdown",
   "metadata": {},
   "source": [
    "Setup Loss and Optimizer"
   ]
  },
  {
   "cell_type": "code",
   "execution_count": 132,
   "metadata": {},
   "outputs": [],
   "source": [
    "binary_cross_loss = tf.keras.losses.BinaryCrossentropy()"
   ]
  },
  {
   "cell_type": "code",
   "execution_count": 133,
   "metadata": {},
   "outputs": [
    {
     "data": {
      "text/plain": [
       "<keras.optimizers.optimizer_v2.adam.Adam at 0x16ba1d3d870>"
      ]
     },
     "execution_count": 133,
     "metadata": {},
     "output_type": "execute_result"
    }
   ],
   "source": [
    "opt = tf.keras.optimizers.Adam(1e-4) # 0.0001\n",
    "opt"
   ]
  },
  {
   "cell_type": "markdown",
   "metadata": {},
   "source": [
    "Establish Checkpoints"
   ]
  },
  {
   "cell_type": "code",
   "execution_count": 134,
   "metadata": {},
   "outputs": [],
   "source": [
    "checkpoint_dir = './training_checkpoints'\n",
    "checkpoint_prefix = os.path.join(checkpoint_dir, 'ckpt')\n",
    "checkpoint = tf.train.Checkpoint(opt=opt, siamese_model=siamese_model)"
   ]
  },
  {
   "cell_type": "code",
   "execution_count": 135,
   "metadata": {},
   "outputs": [],
   "source": [
    "test_batch = train_data.as_numpy_iterator()\n"
   ]
  },
  {
   "cell_type": "code",
   "execution_count": 136,
   "metadata": {},
   "outputs": [],
   "source": [
    "batch_1 = test_batch.next()\n"
   ]
  },
  {
   "cell_type": "code",
   "execution_count": 137,
   "metadata": {},
   "outputs": [
    {
     "data": {
      "text/plain": [
       "2"
      ]
     },
     "execution_count": 137,
     "metadata": {},
     "output_type": "execute_result"
    }
   ],
   "source": [
    "X = batch_1[:2]\n",
    "len(X)\n"
   ]
  },
  {
   "cell_type": "code",
   "execution_count": 138,
   "metadata": {},
   "outputs": [
    {
     "data": {
      "text/plain": [
       "array([1., 0., 1., 0., 0., 0., 0., 0., 1., 0., 0., 0., 0., 0., 0., 1.],\n",
       "      dtype=float32)"
      ]
     },
     "execution_count": 138,
     "metadata": {},
     "output_type": "execute_result"
    }
   ],
   "source": [
    "y = batch_1[2]\n",
    "y\n"
   ]
  },
  {
   "cell_type": "markdown",
   "metadata": {},
   "source": [
    "Build Training Step Function"
   ]
  },
  {
   "cell_type": "code",
   "execution_count": 139,
   "metadata": {},
   "outputs": [],
   "source": [
    "@tf.function\n",
    "def train_step(batch):\n",
    "    \n",
    "    # Record all of our operations \n",
    "    with tf.GradientTape() as tape:     \n",
    "        # Get anchor and positive/negative image\n",
    "        X = batch[:2]\n",
    "        # Get label\n",
    "        y = batch[2]\n",
    "        \n",
    "        # Forward pass\n",
    "        yhat = siamese_model(X, training=True)\n",
    "        # Calculate loss\n",
    "        loss = binary_cross_loss(y, yhat)\n",
    "    print(loss)\n",
    "        \n",
    "    # Calculate gradients\n",
    "    grad = tape.gradient(loss, siamese_model.trainable_variables)\n",
    "    \n",
    "    # Calculate updated weights and apply to siamese model\n",
    "    \n",
    "    opt.apply_gradients(zip(grad, siamese_model.trainable_variables))\n",
    "        \n",
    "    # Return loss\n",
    "    return loss"
   ]
  },
  {
   "cell_type": "markdown",
   "metadata": {},
   "source": [
    "Build Training Loop"
   ]
  },
  {
   "cell_type": "code",
   "execution_count": 140,
   "metadata": {},
   "outputs": [],
   "source": [
    "# Import metric calculations\n",
    "# from tensorflow.keras.metrics import Precision, Recall\n",
    "from tensorflow.python.keras.metrics import Precision, Recall"
   ]
  },
  {
   "cell_type": "code",
   "execution_count": 141,
   "metadata": {},
   "outputs": [],
   "source": [
    "def train(data, EPOCHS):\n",
    "    # Loop through epochs\n",
    "    for epoch in range(1, EPOCHS+1):\n",
    "        print('\\n Epoch {}/{}'.format(epoch, EPOCHS))\n",
    "        progbar = tf.keras.utils.Progbar(len(data))\n",
    "        \n",
    "        # Creating a metric object \n",
    "        r = Recall()\n",
    "        p = Precision()\n",
    "        \n",
    "        # Loop through each batch\n",
    "        for idx, batch in enumerate(data):\n",
    "            # Run train step here\n",
    "            loss = train_step(batch)\n",
    "            yhat = siamese_model.predict(batch[:2])\n",
    "            r.update_state(batch[2], yhat)\n",
    "            p.update_state(batch[2], yhat) \n",
    "            progbar.update(idx+1)\n",
    "        # print(loss.numpy(), r.result().numpy(), p.result().numpy())\n",
    "        \n",
    "        # Save checkpoints\n",
    "        if epoch % 10 == 0: \n",
    "            checkpoint.save(file_prefix=checkpoint_prefix)"
   ]
  },
  {
   "cell_type": "markdown",
   "metadata": {},
   "source": [
    "Train the model"
   ]
  },
  {
   "cell_type": "code",
   "execution_count": 142,
   "metadata": {},
   "outputs": [],
   "source": [
    "EPOCHS = 50"
   ]
  },
  {
   "cell_type": "code",
   "execution_count": 143,
   "metadata": {},
   "outputs": [
    {
     "name": "stdout",
     "output_type": "stream",
     "text": [
      "\n",
      " Epoch 1/50\n",
      "Tensor(\"binary_crossentropy/weighted_loss/value:0\", shape=(), dtype=float32)\n",
      "Tensor(\"binary_crossentropy/weighted_loss/value:0\", shape=(), dtype=float32)\n",
      "26/27 [===========================>..] - ETA: 0sTensor(\"binary_crossentropy/weighted_loss/value:0\", shape=(), dtype=float32)\n",
      "27/27 [==============================] - 17s 570ms/step\n",
      "\n",
      " Epoch 2/50\n",
      "27/27 [==============================] - 16s 577ms/step\n",
      "\n",
      " Epoch 3/50\n",
      "27/27 [==============================] - 16s 579ms/step\n",
      "\n",
      " Epoch 4/50\n",
      "27/27 [==============================] - 16s 579ms/step\n",
      "\n",
      " Epoch 5/50\n",
      "27/27 [==============================] - 16s 578ms/step\n",
      "\n",
      " Epoch 6/50\n",
      "27/27 [==============================] - 15s 562ms/step\n",
      "\n",
      " Epoch 7/50\n",
      "27/27 [==============================] - 15s 564ms/step\n",
      "\n",
      " Epoch 8/50\n",
      "27/27 [==============================] - 15s 571ms/step\n",
      "\n",
      " Epoch 9/50\n",
      "27/27 [==============================] - 15s 567ms/step\n",
      "\n",
      " Epoch 10/50\n",
      "27/27 [==============================] - 15s 572ms/step\n",
      "\n",
      " Epoch 11/50\n",
      "27/27 [==============================] - 15s 566ms/step\n",
      "\n",
      " Epoch 12/50\n",
      "27/27 [==============================] - 15s 538ms/step\n",
      "\n",
      " Epoch 13/50\n",
      "27/27 [==============================] - 15s 540ms/step\n",
      "\n",
      " Epoch 14/50\n",
      "27/27 [==============================] - 15s 538ms/step\n",
      "\n",
      " Epoch 15/50\n",
      "27/27 [==============================] - 15s 539ms/step\n",
      "\n",
      " Epoch 16/50\n",
      "27/27 [==============================] - 15s 539ms/step\n",
      "\n",
      " Epoch 17/50\n",
      "27/27 [==============================] - 15s 542ms/step\n",
      "\n",
      " Epoch 18/50\n",
      "27/27 [==============================] - 15s 549ms/step\n",
      "\n",
      " Epoch 19/50\n",
      "27/27 [==============================] - 15s 549ms/step\n",
      "\n",
      " Epoch 20/50\n",
      "27/27 [==============================] - 15s 550ms/step\n",
      "\n",
      " Epoch 21/50\n",
      "27/27 [==============================] - 16s 574ms/step\n",
      "\n",
      " Epoch 22/50\n",
      "27/27 [==============================] - 16s 587ms/step\n",
      "\n",
      " Epoch 23/50\n",
      "27/27 [==============================] - 16s 586ms/step\n",
      "\n",
      " Epoch 24/50\n",
      "27/27 [==============================] - 16s 595ms/step\n",
      "\n",
      " Epoch 25/50\n",
      "27/27 [==============================] - 16s 579ms/step\n",
      "\n",
      " Epoch 26/50\n",
      "27/27 [==============================] - 16s 586ms/step\n",
      "\n",
      " Epoch 27/50\n",
      "27/27 [==============================] - 16s 587ms/step\n",
      "\n",
      " Epoch 28/50\n",
      "27/27 [==============================] - 16s 577ms/step\n",
      "\n",
      " Epoch 29/50\n",
      "27/27 [==============================] - 15s 566ms/step\n",
      "\n",
      " Epoch 30/50\n",
      "27/27 [==============================] - 15s 562ms/step\n",
      "\n",
      " Epoch 31/50\n",
      "27/27 [==============================] - 15s 554ms/step\n",
      "\n",
      " Epoch 32/50\n",
      "27/27 [==============================] - 15s 560ms/step\n",
      "\n",
      " Epoch 33/50\n",
      "27/27 [==============================] - 15s 553ms/step\n",
      "\n",
      " Epoch 34/50\n",
      "27/27 [==============================] - 15s 557ms/step\n",
      "\n",
      " Epoch 35/50\n",
      "27/27 [==============================] - 15s 558ms/step\n",
      "\n",
      " Epoch 36/50\n",
      "27/27 [==============================] - 16s 578ms/step\n",
      "\n",
      " Epoch 37/50\n",
      "27/27 [==============================] - 16s 587ms/step\n",
      "\n",
      " Epoch 38/50\n",
      "27/27 [==============================] - 16s 589ms/step\n",
      "\n",
      " Epoch 39/50\n",
      "27/27 [==============================] - 16s 580ms/step\n",
      "\n",
      " Epoch 40/50\n",
      "27/27 [==============================] - 15s 572ms/step\n",
      "\n",
      " Epoch 41/50\n",
      "27/27 [==============================] - 16s 579ms/step\n",
      "\n",
      " Epoch 42/50\n",
      "27/27 [==============================] - 16s 586ms/step\n",
      "\n",
      " Epoch 43/50\n",
      "27/27 [==============================] - 16s 578ms/step\n",
      "\n",
      " Epoch 44/50\n",
      "27/27 [==============================] - 16s 581ms/step\n",
      "\n",
      " Epoch 45/50\n",
      "27/27 [==============================] - 15s 549ms/step\n",
      "\n",
      " Epoch 46/50\n",
      "27/27 [==============================] - 15s 543ms/step\n",
      "\n",
      " Epoch 47/50\n",
      "27/27 [==============================] - 15s 543ms/step\n",
      "\n",
      " Epoch 48/50\n",
      "27/27 [==============================] - 15s 547ms/step\n",
      "\n",
      " Epoch 49/50\n",
      "27/27 [==============================] - 15s 571ms/step\n",
      "\n",
      " Epoch 50/50\n",
      "27/27 [==============================] - 15s 567ms/step\n"
     ]
    }
   ],
   "source": [
    "train(train_data, EPOCHS)"
   ]
  },
  {
   "cell_type": "markdown",
   "metadata": {},
   "source": [
    "Evaluate Model\n"
   ]
  },
  {
   "cell_type": "code",
   "execution_count": 144,
   "metadata": {},
   "outputs": [],
   "source": [
    "# Import metric calculations\n",
    "from tensorflow.python.keras.metrics import Precision, Recall"
   ]
  },
  {
   "cell_type": "code",
   "execution_count": 145,
   "metadata": {},
   "outputs": [],
   "source": [
    "# Get a batch of test data\n",
    "test_input, test_val, y_true = test_data.as_numpy_iterator().next()"
   ]
  },
  {
   "cell_type": "code",
   "execution_count": 146,
   "metadata": {},
   "outputs": [
    {
     "data": {
      "text/plain": [
       "array([[1.3431248e-10],\n",
       "       [1.0000000e+00],\n",
       "       [1.0000000e+00],\n",
       "       [1.0000000e+00],\n",
       "       [7.6450887e-11],\n",
       "       [5.5906425e-11],\n",
       "       [2.0798805e-09],\n",
       "       [6.6102304e-11],\n",
       "       [6.1060990e-11],\n",
       "       [1.0000000e+00],\n",
       "       [1.0000000e+00],\n",
       "       [2.2614935e-10],\n",
       "       [1.5661651e-10],\n",
       "       [2.3099968e-11],\n",
       "       [1.0000000e+00],\n",
       "       [1.0000000e+00]], dtype=float32)"
      ]
     },
     "execution_count": 146,
     "metadata": {},
     "output_type": "execute_result"
    }
   ],
   "source": [
    "y_hat = siamese_model.predict([test_input, test_val])\n",
    "y_hat"
   ]
  },
  {
   "cell_type": "code",
   "execution_count": 147,
   "metadata": {},
   "outputs": [
    {
     "data": {
      "text/plain": [
       "[0, 1, 1, 1, 0, 0, 0, 0, 0, 1, 1, 0, 0, 0, 1, 1]"
      ]
     },
     "execution_count": 147,
     "metadata": {},
     "output_type": "execute_result"
    }
   ],
   "source": [
    "# Post processing the results \n",
    "[1 if prediction > 0.5 else 0 for prediction in y_hat ]"
   ]
  },
  {
   "cell_type": "code",
   "execution_count": 148,
   "metadata": {},
   "outputs": [
    {
     "data": {
      "text/plain": [
       "array([0., 1., 1., 1., 0., 0., 0., 0., 0., 1., 1., 0., 0., 0., 1., 1.],\n",
       "      dtype=float32)"
      ]
     },
     "execution_count": 148,
     "metadata": {},
     "output_type": "execute_result"
    }
   ],
   "source": [
    "y_true\n"
   ]
  },
  {
   "cell_type": "code",
   "execution_count": 149,
   "metadata": {},
   "outputs": [
    {
     "data": {
      "text/plain": [
       "1.0"
      ]
     },
     "execution_count": 149,
     "metadata": {},
     "output_type": "execute_result"
    }
   ],
   "source": [
    "# Creating a metric object \n",
    "m = Recall()\n",
    "\n",
    "# Calculating the recall value \n",
    "m.update_state(y_true, y_hat)\n",
    "\n",
    "# Return Recall Result\n",
    "m.result().numpy()"
   ]
  },
  {
   "cell_type": "code",
   "execution_count": 150,
   "metadata": {},
   "outputs": [
    {
     "data": {
      "text/plain": [
       "1.0"
      ]
     },
     "execution_count": 150,
     "metadata": {},
     "output_type": "execute_result"
    }
   ],
   "source": [
    "# Creating a metric object \n",
    "m = Precision()\n",
    "\n",
    "# Calculating the recall value \n",
    "m.update_state(y_true, y_hat)\n",
    "\n",
    "# Return Recall Result\n",
    "m.result().numpy()"
   ]
  },
  {
   "cell_type": "code",
   "execution_count": 151,
   "metadata": {},
   "outputs": [],
   "source": [
    "# r = Recall()\n",
    "# p = Precision()\n",
    "\n",
    "# for test_input, test_val, y_true in test_data.as_numpy_iterator():\n",
    "#     yhat = siamese_model.predict([test_input, test_val])\n",
    "#     r.update_state(y_true, yhat)\n",
    "#     p.update_state(y_true,yhat) \n",
    "\n",
    "# print(r.result().numpy(), p.result().numpy())"
   ]
  },
  {
   "cell_type": "markdown",
   "metadata": {},
   "source": [
    "Viz Results"
   ]
  },
  {
   "cell_type": "code",
   "execution_count": 152,
   "metadata": {},
   "outputs": [
    {
     "data": {
      "image/png": "[encoded data removed]",
      "text/plain": [
       "<Figure size 1000x800 with 2 Axes>"
      ]
     },
     "metadata": {},
     "output_type": "display_data"
    }
   ],
   "source": [
    "# Set plot size \n",
    "plt.figure(figsize=(10,8))\n",
    "\n",
    "index=2\n",
    "\n",
    "# Set first subplot\n",
    "plt.subplot(1,2,1)\n",
    "plt.imshow(test_input[index])\n",
    "\n",
    "# Set second subplot\n",
    "plt.subplot(1,2,2)\n",
    "plt.imshow(test_val[index])\n",
    "\n",
    "# Renders cleanly\n",
    "plt.show()"
   ]
  },
  {
   "cell_type": "markdown",
   "metadata": {},
   "source": [
    "## Save Model"
   ]
  },
  {
   "cell_type": "code",
   "execution_count": 153,
   "metadata": {},
   "outputs": [],
   "source": [
    "from keras.models import load_model"
   ]
  },
  {
   "cell_type": "code",
   "execution_count": 154,
   "metadata": {},
   "outputs": [
    {
     "name": "stdout",
     "output_type": "stream",
     "text": [
      "WARNING:tensorflow:Compiled the loaded model, but the compiled metrics have yet to be built. `model.compile_metrics` will be empty until you train or evaluate the model.\n"
     ]
    }
   ],
   "source": [
    "# Save weights\n",
    "siamese_model.save('siamesemodel.h5')"
   ]
  },
  {
   "cell_type": "code",
   "execution_count": 188,
   "metadata": {},
   "outputs": [
    {
     "ename": "IndexError",
     "evalue": "list index out of range",
     "output_type": "error",
     "traceback": [
      "\u001b[1;31m---------------------------------------------------------------------------\u001b[0m",
      "\u001b[1;31mIndexError\u001b[0m                                Traceback (most recent call last)",
      "Cell \u001b[1;32mIn[188], line 5\u001b[0m\n\u001b[0;32m      1\u001b[0m \u001b[39m# Reload model\u001b[39;00m\n\u001b[0;32m      2\u001b[0m \u001b[39m# model = make_siamese_model()\u001b[39;00m\n\u001b[0;32m      3\u001b[0m \u001b[39m# model.load_weights('siamesemodel.h5')\u001b[39;00m\n\u001b[1;32m----> 5\u001b[0m loaded_model \u001b[39m=\u001b[39m load_model(\u001b[39m'\u001b[39;49m\u001b[39msiamesemodel.h5\u001b[39;49m\u001b[39m'\u001b[39;49m, custom_objects\u001b[39m=\u001b[39;49m{\u001b[39m\"\u001b[39;49m\u001b[39mL1Dist\u001b[39;49m\u001b[39m\"\u001b[39;49m: L1Dist})\n",
      "File \u001b[1;32mc:\\Users\\Shashaank\\AppData\\Local\\Programs\\Python\\Python310\\lib\\site-packages\\keras\\utils\\traceback_utils.py:70\u001b[0m, in \u001b[0;36mfilter_traceback.<locals>.error_handler\u001b[1;34m(*args, **kwargs)\u001b[0m\n\u001b[0;32m     67\u001b[0m     filtered_tb \u001b[39m=\u001b[39m _process_traceback_frames(e\u001b[39m.\u001b[39m__traceback__)\n\u001b[0;32m     68\u001b[0m     \u001b[39m# To get the full stack trace, call:\u001b[39;00m\n\u001b[0;32m     69\u001b[0m     \u001b[39m# `tf.debugging.disable_traceback_filtering()`\u001b[39;00m\n\u001b[1;32m---> 70\u001b[0m     \u001b[39mraise\u001b[39;00m e\u001b[39m.\u001b[39mwith_traceback(filtered_tb) \u001b[39mfrom\u001b[39;00m \u001b[39mNone\u001b[39;00m\n\u001b[0;32m     71\u001b[0m \u001b[39mfinally\u001b[39;00m:\n\u001b[0;32m     72\u001b[0m     \u001b[39mdel\u001b[39;00m filtered_tb\n",
      "File \u001b[1;32mc:\\Users\\Shashaank\\AppData\\Local\\Programs\\Python\\Python310\\lib\\site-packages\\keras\\engine\\functional.py:1392\u001b[0m, in \u001b[0;36mreconstruct_from_config.<locals>.process_node\u001b[1;34m(layer, node_data)\u001b[0m\n\u001b[0;32m   1390\u001b[0m     \u001b[39mif\u001b[39;00m inbound_node_index \u001b[39mis\u001b[39;00m \u001b[39mNone\u001b[39;00m:\n\u001b[0;32m   1391\u001b[0m         \u001b[39mreturn\u001b[39;00m \u001b[39mFalse\u001b[39;00m\n\u001b[1;32m-> 1392\u001b[0m     inbound_node \u001b[39m=\u001b[39m inbound_layer\u001b[39m.\u001b[39;49m_inbound_nodes[inbound_node_index]\n\u001b[0;32m   1393\u001b[0m     input_tensors\u001b[39m.\u001b[39mappend(\n\u001b[0;32m   1394\u001b[0m         tf\u001b[39m.\u001b[39mnest\u001b[39m.\u001b[39mflatten(inbound_node\u001b[39m.\u001b[39moutputs)[inbound_tensor_index]\n\u001b[0;32m   1395\u001b[0m     )\n\u001b[0;32m   1396\u001b[0m \u001b[39melse\u001b[39;00m:\n\u001b[0;32m   1397\u001b[0m     \u001b[39m# We received a constant w/ no Keras history attached,\u001b[39;00m\n\u001b[0;32m   1398\u001b[0m     \u001b[39m# which means it is a constant tensor input.\u001b[39;00m\n\u001b[0;32m   1399\u001b[0m     \u001b[39m# Input is a constant value.\u001b[39;00m\n\u001b[0;32m   1400\u001b[0m     \u001b[39m# Format = [_CONSTANT_VALUE, -1, const_val, kwargs]\u001b[39;00m\n",
      "\u001b[1;31mIndexError\u001b[0m: list index out of range"
     ]
    },
    {
     "ename": "",
     "evalue": "",
     "output_type": "error",
     "traceback": [
      "\u001b[1;31mThe Kernel crashed while executing code in the the current cell or a previous cell. Please review the code in the cell(s) to identify a possible cause of the failure. Click <a href='https://aka.ms/vscodeJupyterKernelCrash'>here</a> for more info. View Jupyter <a href='command:jupyter.viewOutput'>log</a> for further details."
     ]
    }
   ],
   "source": [
    "# Reload model\n",
    "# model = make_siamese_model()\n",
    "# model.load_weights('siamesemodel.h5')\n",
    "\n",
    "loaded_model = load_model('siamesemodel.h5', custom_objects={\"L1Dist\": L1Dist})"
   ]
  },
  {
   "cell_type": "code",
   "execution_count": 156,
   "metadata": {},
   "outputs": [
    {
     "data": {
      "text/plain": [
       "array([[1.3431248e-10],\n",
       "       [1.0000000e+00],\n",
       "       [1.0000000e+00],\n",
       "       [1.0000000e+00],\n",
       "       [7.6450887e-11],\n",
       "       [5.5906425e-11],\n",
       "       [2.0798805e-09],\n",
       "       [6.6102304e-11],\n",
       "       [6.1060990e-11],\n",
       "       [1.0000000e+00],\n",
       "       [1.0000000e+00],\n",
       "       [2.2614935e-10],\n",
       "       [1.5661651e-10],\n",
       "       [2.3099968e-11],\n",
       "       [1.0000000e+00],\n",
       "       [1.0000000e+00]], dtype=float32)"
      ]
     },
     "execution_count": 156,
     "metadata": {},
     "output_type": "execute_result"
    }
   ],
   "source": [
    "#Make predictions with reloaded model\n",
    "model.predict([test_input, test_val])"
   ]
  },
  {
   "cell_type": "code",
   "execution_count": 157,
   "metadata": {},
   "outputs": [
    {
     "data": {
      "text/plain": [
       "['0c474886-e0c0-11ed-a339-001a7dda7112.jpg',\n",
       " '0c518920-e0c0-11ed-895d-001a7dda7112.jpg',\n",
       " '0e43d86f-e0c0-11ed-b7d4-001a7dda7112.jpg',\n",
       " '0e4e13af-e0c0-11ed-a6b3-001a7dda7112.jpg',\n",
       " '1232ece3-e0c0-11ed-a801-001a7dda7112.jpg',\n",
       " '16272900-e0c0-11ed-8aaa-001a7dda7112.jpg',\n",
       " '1a1b418a-e0c0-11ed-be42-001a7dda7112.jpg',\n",
       " '1a20580b-e0c0-11ed-b261-001a7dda7112.jpg',\n",
       " '61085453-e0be-11ed-9758-001a7dda7112.jpg',\n",
       " '6a0d9a94-e0be-11ed-9dd1-001a7dda7112.jpg',\n",
       " '6c0a388d-e0be-11ed-bd8f-001a7dda7112.jpg',\n",
       " '6c1449ea-e0be-11ed-9b0a-001a7dda7112.jpg',\n",
       " '6dfcacf6-e0be-11ed-8bc0-001a7dda7112.jpg',\n",
       " '6e1b250d-e0be-11ed-af6d-001a7dda7112.jpg',\n",
       " '70035e5b-e0be-11ed-8bb7-001a7dda7112.jpg',\n",
       " '7017b6a4-e0be-11ed-84ac-001a7dda7112.jpg',\n",
       " '7401ca21-e0be-11ed-bc87-001a7dda7112.jpg',\n",
       " '7406d42d-e0be-11ed-b67d-001a7dda7112.jpg',\n",
       " '81a81654-e0be-11ed-9dc0-001a7dda7112.jpg',\n",
       " '81b755c8-e0be-11ed-b4ab-001a7dda7112.jpg',\n",
       " '83a9c5da-e0be-11ed-b651-001a7dda7112.jpg',\n",
       " '83b3eea1-e0be-11ed-8995-001a7dda7112.jpg',\n",
       " '85a1418f-e0be-11ed-94fc-001a7dda7112.jpg',\n",
       " '85ab6d90-e0be-11ed-88ae-001a7dda7112.jpg',\n",
       " '85b09ee5-e0be-11ed-a2ad-001a7dda7112.jpg',\n",
       " '8f71efe2-e0be-11ed-8b6f-001a7dda7112.jpg',\n",
       " 'a111632b-e0be-11ed-817b-001a7dda7112.jpg',\n",
       " 'a8d11512-e0be-11ed-9cf3-001a7dda7112.jpg',\n",
       " 'a8d62321-e0be-11ed-b089-001a7dda7112.jpg',\n",
       " 'a8e05e97-e0be-11ed-9497-001a7dda7112.jpg']"
      ]
     },
     "execution_count": 157,
     "metadata": {},
     "output_type": "execute_result"
    }
   ],
   "source": [
    "os.listdir(os.path.join('application_data', 'verification_images'))"
   ]
  },
  {
   "cell_type": "code",
   "execution_count": 158,
   "metadata": {},
   "outputs": [
    {
     "data": {
      "text/plain": [
       "'application_data\\\\input_image\\\\input_image.jpg'"
      ]
     },
     "execution_count": 158,
     "metadata": {},
     "output_type": "execute_result"
    }
   ],
   "source": [
    "os.path.join('application_data', 'input_image', 'input_image.jpg')\n"
   ]
  },
  {
   "cell_type": "code",
   "execution_count": 159,
   "metadata": {},
   "outputs": [
    {
     "name": "stdout",
     "output_type": "stream",
     "text": [
      "application_data\\verification_images\\0c474886-e0c0-11ed-a339-001a7dda7112.jpg\n",
      "application_data\\verification_images\\0c518920-e0c0-11ed-895d-001a7dda7112.jpg\n",
      "application_data\\verification_images\\0e43d86f-e0c0-11ed-b7d4-001a7dda7112.jpg\n",
      "application_data\\verification_images\\0e4e13af-e0c0-11ed-a6b3-001a7dda7112.jpg\n",
      "application_data\\verification_images\\1232ece3-e0c0-11ed-a801-001a7dda7112.jpg\n",
      "application_data\\verification_images\\16272900-e0c0-11ed-8aaa-001a7dda7112.jpg\n",
      "application_data\\verification_images\\1a1b418a-e0c0-11ed-be42-001a7dda7112.jpg\n",
      "application_data\\verification_images\\1a20580b-e0c0-11ed-b261-001a7dda7112.jpg\n",
      "application_data\\verification_images\\61085453-e0be-11ed-9758-001a7dda7112.jpg\n",
      "application_data\\verification_images\\6a0d9a94-e0be-11ed-9dd1-001a7dda7112.jpg\n",
      "application_data\\verification_images\\6c0a388d-e0be-11ed-bd8f-001a7dda7112.jpg\n",
      "application_data\\verification_images\\6c1449ea-e0be-11ed-9b0a-001a7dda7112.jpg\n",
      "application_data\\verification_images\\6dfcacf6-e0be-11ed-8bc0-001a7dda7112.jpg\n",
      "application_data\\verification_images\\6e1b250d-e0be-11ed-af6d-001a7dda7112.jpg\n",
      "application_data\\verification_images\\70035e5b-e0be-11ed-8bb7-001a7dda7112.jpg\n",
      "application_data\\verification_images\\7017b6a4-e0be-11ed-84ac-001a7dda7112.jpg\n",
      "application_data\\verification_images\\7401ca21-e0be-11ed-bc87-001a7dda7112.jpg\n",
      "application_data\\verification_images\\7406d42d-e0be-11ed-b67d-001a7dda7112.jpg\n",
      "application_data\\verification_images\\81a81654-e0be-11ed-9dc0-001a7dda7112.jpg\n",
      "application_data\\verification_images\\81b755c8-e0be-11ed-b4ab-001a7dda7112.jpg\n",
      "application_data\\verification_images\\83a9c5da-e0be-11ed-b651-001a7dda7112.jpg\n",
      "application_data\\verification_images\\83b3eea1-e0be-11ed-8995-001a7dda7112.jpg\n",
      "application_data\\verification_images\\85a1418f-e0be-11ed-94fc-001a7dda7112.jpg\n",
      "application_data\\verification_images\\85ab6d90-e0be-11ed-88ae-001a7dda7112.jpg\n",
      "application_data\\verification_images\\85b09ee5-e0be-11ed-a2ad-001a7dda7112.jpg\n",
      "application_data\\verification_images\\8f71efe2-e0be-11ed-8b6f-001a7dda7112.jpg\n",
      "application_data\\verification_images\\a111632b-e0be-11ed-817b-001a7dda7112.jpg\n",
      "application_data\\verification_images\\a8d11512-e0be-11ed-9cf3-001a7dda7112.jpg\n",
      "application_data\\verification_images\\a8d62321-e0be-11ed-b089-001a7dda7112.jpg\n",
      "application_data\\verification_images\\a8e05e97-e0be-11ed-9497-001a7dda7112.jpg\n"
     ]
    }
   ],
   "source": [
    "for image in os.listdir(os.path.join('application_data', 'verification_images')):\n",
    "    validation_img = os.path.join('application_data', 'verification_images', image)\n",
    "    print(validation_img)"
   ]
  },
  {
   "cell_type": "code",
   "execution_count": 160,
   "metadata": {},
   "outputs": [],
   "source": [
    "def verify(model, detection_threshold, verification_threshold):\n",
    "    # Build results array\n",
    "    results = []\n",
    "    for image in os.listdir(os.path.join('application_data', 'verification_images')):\n",
    "        input_img = preprocess(os.path.join('application_data', 'input_image', 'input_image.jpg'))\n",
    "        validation_img = preprocess(os.path.join('application_data', 'verification_images', image))\n",
    "        \n",
    "        # Make Predictions \n",
    "        result = model.predict(list(np.expand_dims([input_img, validation_img], axis=1)))\n",
    "        results.append(result)\n",
    "    \n",
    "    # Detection Threshold: Metric above which a prediciton is considered positive \n",
    "    detection = np.sum(np.array(results) > detection_threshold)\n",
    "    \n",
    "    # Verification Threshold: Proportion of positive predictions / total positive samples \n",
    "    verification = detection / len(os.listdir(os.path.join('application_data', 'verification_images'))) \n",
    "    verified = verification > verification_threshold\n",
    "    \n",
    "    return results, verified"
   ]
  },
  {
   "cell_type": "markdown",
   "metadata": {},
   "source": [
    "Verification"
   ]
  },
  {
   "cell_type": "code",
   "execution_count": 187,
   "metadata": {},
   "outputs": [
    {
     "name": "stdout",
     "output_type": "stream",
     "text": [
      "True\n",
      "False\n",
      "True\n",
      "True\n",
      "True\n",
      "True\n",
      "True\n",
      "False\n",
      "True\n",
      "False\n",
      "True\n",
      "False\n",
      "False\n",
      "True\n"
     ]
    },
    {
     "ename": "KeyboardInterrupt",
     "evalue": "",
     "output_type": "error",
     "traceback": [
      "\u001b[1;31m---------------------------------------------------------------------------\u001b[0m",
      "\u001b[1;31mKeyboardInterrupt\u001b[0m                         Traceback (most recent call last)",
      "Cell \u001b[1;32mIn[187], line 26\u001b[0m\n\u001b[0;32m     23\u001b[0m         results, verified \u001b[39m=\u001b[39m verify(model, \u001b[39m0.8\u001b[39m, \u001b[39m0.75\u001b[39m)\n\u001b[0;32m     24\u001b[0m         \u001b[39mprint\u001b[39m(verified)\n\u001b[1;32m---> 26\u001b[0m     \u001b[39mif\u001b[39;00m cv2\u001b[39m.\u001b[39;49mwaitKey(\u001b[39m1\u001b[39;49m) \u001b[39m&\u001b[39m \u001b[39m0xFF\u001b[39m \u001b[39m==\u001b[39m \u001b[39mord\u001b[39m(\u001b[39m'\u001b[39m\u001b[39mq\u001b[39m\u001b[39m'\u001b[39m):\n\u001b[0;32m     27\u001b[0m         \u001b[39mbreak\u001b[39;00m\n\u001b[0;32m     28\u001b[0m cap\u001b[39m.\u001b[39mrelease()\n",
      "\u001b[1;31mKeyboardInterrupt\u001b[0m: "
     ]
    }
   ],
   "source": [
    "cap = cv2.VideoCapture(0)\n",
    "while cap.isOpened():\n",
    "    ret, frame = cap.read()\n",
    "    frame = frame[120:120+250,200:200+250, :]\n",
    "    \n",
    "    cv2.imshow('Verification', frame)\n",
    "    \n",
    "    # Verification trigger\n",
    "    if cv2.waitKey(1) & 0xFF == ord('v'):\n",
    "        # Save input image to application_data/input_image folder \n",
    "#         hsv = cv2.cvtColor(frame, cv2.COLOR_BGR2HSV)\n",
    "#         h, s, v = cv2.split(hsv)\n",
    "\n",
    "#         lim = 255 - 10\n",
    "#         v[v > lim] = 255\n",
    "#         v[v <= lim] -= 10\n",
    "        \n",
    "#         final_hsv = cv2.merge((h, s, v))\n",
    "#         img = cv2.cvtColor(final_hsv, cv2.COLOR_HSV2BGR)\n",
    "\n",
    "        cv2.imwrite(os.path.join('application_data', 'input_image', 'input_image.jpg'), frame)\n",
    "        # Run verification\n",
    "        results, verified = verify(model, 0.8, 0.75)\n",
    "        print(verified)\n",
    "    \n",
    "    if cv2.waitKey(1) & 0xFF == ord('q'):\n",
    "        break\n",
    "cap.release()\n",
    "cv2.destroyAllWindows()"
   ]
  },
  {
   "cell_type": "code",
   "execution_count": 185,
   "metadata": {},
   "outputs": [
    {
     "data": {
      "text/plain": [
       "35"
      ]
     },
     "execution_count": 185,
     "metadata": {},
     "output_type": "execute_result"
    }
   ],
   "source": [
    "np.sum(np.squeeze(results) > .8)"
   ]
  },
  {
   "cell_type": "code",
   "execution_count": 186,
   "metadata": {},
   "outputs": [
    {
     "data": {
      "text/plain": [
       "0.7"
      ]
     },
     "execution_count": 186,
     "metadata": {},
     "output_type": "execute_result"
    }
   ],
   "source": [
    "35/50"
   ]
  },
  {
   "cell_type": "code",
   "execution_count": null,
   "metadata": {},
   "outputs": [],
   "source": []
  }
 ],
 "metadata": {
  "kernelspec": {
   "display_name": "Python 3.10.4 64-bit",
   "language": "python",
   "name": "python3"
  },
  "language_info": {
   "codemirror_mode": {
    "name": "ipython",
    "version": 3
   },
   "file_extension": ".py",
   "mimetype": "text/x-python",
   "name": "python",
   "nbconvert_exporter": "python",
   "pygments_lexer": "ipython3",
   "version": "3.10.0"
  },
  "vscode": {
   "interpreter": {
    "hash": "d7138ed8ba234ede24dd664169075586da4dd4722fe0f2db5d3e26c0d396e504"
   }
  }
 },
 "nbformat": 4,
 "nbformat_minor": 2
}
